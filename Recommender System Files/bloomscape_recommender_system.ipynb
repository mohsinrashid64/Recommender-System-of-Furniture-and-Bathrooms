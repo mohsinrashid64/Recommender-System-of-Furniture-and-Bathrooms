{
 "cells": [
  {
   "cell_type": "markdown",
   "metadata": {},
   "source": [
    "# Import Libraries"
   ]
  },
  {
   "cell_type": "code",
   "execution_count": 12,
   "metadata": {},
   "outputs": [],
   "source": [
    "import pandas as pd \n",
    "import numpy as np\n",
    "import re\n",
    "from sklearn.metrics.pairwise import cosine_similarity\n",
    "from sklearn.preprocessing import StandardScaler\n",
    "pd.set_option('display.max_colwidth', None) "
   ]
  },
  {
   "cell_type": "markdown",
   "metadata": {},
   "source": [
    "# Loading Dataframe"
   ]
  },
  {
   "cell_type": "code",
   "execution_count": 13,
   "metadata": {},
   "outputs": [],
   "source": [
    "df=pd.read_csv('../data/bloomscape.csv')"
   ]
  },
  {
   "cell_type": "code",
   "execution_count": 14,
   "metadata": {},
   "outputs": [
    {
     "data": {
      "text/html": [
       "<div>\n",
       "<style scoped>\n",
       "    .dataframe tbody tr th:only-of-type {\n",
       "        vertical-align: middle;\n",
       "    }\n",
       "\n",
       "    .dataframe tbody tr th {\n",
       "        vertical-align: top;\n",
       "    }\n",
       "\n",
       "    .dataframe thead th {\n",
       "        text-align: right;\n",
       "    }\n",
       "</style>\n",
       "<table border=\"1\" class=\"dataframe\">\n",
       "  <thead>\n",
       "    <tr style=\"text-align: right;\">\n",
       "      <th></th>\n",
       "      <th>Title</th>\n",
       "      <th>Price</th>\n",
       "      <th>Link</th>\n",
       "      <th>Image Path</th>\n",
       "      <th>Colors</th>\n",
       "    </tr>\n",
       "  </thead>\n",
       "  <tbody>\n",
       "    <tr>\n",
       "      <th>count</th>\n",
       "      <td>500</td>\n",
       "      <td>500</td>\n",
       "      <td>500</td>\n",
       "      <td>500</td>\n",
       "      <td>384</td>\n",
       "    </tr>\n",
       "    <tr>\n",
       "      <th>unique</th>\n",
       "      <td>93</td>\n",
       "      <td>33</td>\n",
       "      <td>93</td>\n",
       "      <td>160</td>\n",
       "      <td>13</td>\n",
       "    </tr>\n",
       "    <tr>\n",
       "      <th>top</th>\n",
       "      <td>Bamboo Palm, Buy a Bamboo Palm indoor plant with 5 pot color options. Shipped straight to your door. 30-Day Guarantee plus expert plant care support.</td>\n",
       "      <td>$49</td>\n",
       "      <td>https://bloomscape.com/product/bamboo-palm/</td>\n",
       "      <td>images/bamboopalm.jpg</td>\n",
       "      <td>Stone, Clay, Charcoal, Slate, Indigo</td>\n",
       "    </tr>\n",
       "    <tr>\n",
       "      <th>freq</th>\n",
       "      <td>15</td>\n",
       "      <td>97</td>\n",
       "      <td>15</td>\n",
       "      <td>13</td>\n",
       "      <td>203</td>\n",
       "    </tr>\n",
       "  </tbody>\n",
       "</table>\n",
       "</div>"
      ],
      "text/plain": [
       "                                                                                                                                                        Title  \\\n",
       "count                                                                                                                                                     500   \n",
       "unique                                                                                                                                                     93   \n",
       "top     Bamboo Palm, Buy a Bamboo Palm indoor plant with 5 pot color options. Shipped straight to your door. 30-Day Guarantee plus expert plant care support.   \n",
       "freq                                                                                                                                                       15   \n",
       "\n",
       "       Price                                         Link  \\\n",
       "count    500                                          500   \n",
       "unique    33                                           93   \n",
       "top      $49  https://bloomscape.com/product/bamboo-palm/   \n",
       "freq      97                                           15   \n",
       "\n",
       "                   Image Path                                Colors  \n",
       "count                     500                                   384  \n",
       "unique                    160                                    13  \n",
       "top     images/bamboopalm.jpg  Stone, Clay, Charcoal, Slate, Indigo  \n",
       "freq                       13                                   203  "
      ]
     },
     "execution_count": 14,
     "metadata": {},
     "output_type": "execute_result"
    }
   ],
   "source": [
    "df.describe()"
   ]
  },
  {
   "cell_type": "code",
   "execution_count": 16,
   "metadata": {},
   "outputs": [
    {
     "name": "stdout",
     "output_type": "stream",
     "text": [
      "<class 'pandas.core.frame.DataFrame'>\n",
      "RangeIndex: 500 entries, 0 to 499\n",
      "Data columns (total 5 columns):\n",
      " #   Column      Non-Null Count  Dtype \n",
      "---  ------      --------------  ----- \n",
      " 0   Title       500 non-null    object\n",
      " 1   Price       500 non-null    object\n",
      " 2   Link        500 non-null    object\n",
      " 3   Image Path  500 non-null    object\n",
      " 4   Colors      384 non-null    object\n",
      "dtypes: object(5)\n",
      "memory usage: 19.7+ KB\n"
     ]
    }
   ],
   "source": [
    "df.info()"
   ]
  },
  {
   "cell_type": "markdown",
   "metadata": {},
   "source": [
    "# Displaying Dataset"
   ]
  },
  {
   "cell_type": "code",
   "execution_count": 17,
   "metadata": {},
   "outputs": [
    {
     "data": {
      "text/html": [
       "<div>\n",
       "<style scoped>\n",
       "    .dataframe tbody tr th:only-of-type {\n",
       "        vertical-align: middle;\n",
       "    }\n",
       "\n",
       "    .dataframe tbody tr th {\n",
       "        vertical-align: top;\n",
       "    }\n",
       "\n",
       "    .dataframe thead th {\n",
       "        text-align: right;\n",
       "    }\n",
       "</style>\n",
       "<table border=\"1\" class=\"dataframe\">\n",
       "  <thead>\n",
       "    <tr style=\"text-align: right;\">\n",
       "      <th></th>\n",
       "      <th>Title</th>\n",
       "      <th>Price</th>\n",
       "      <th>Link</th>\n",
       "      <th>Image Path</th>\n",
       "      <th>Colors</th>\n",
       "    </tr>\n",
       "  </thead>\n",
       "  <tbody>\n",
       "    <tr>\n",
       "      <th>0</th>\n",
       "      <td>Red Anthurium, Buy an Anthurium Red indoor plant with 5 pot color options. Shipped straight to your door. 30-Day Guarantee plus expert plant care support.</td>\n",
       "      <td>$49</td>\n",
       "      <td>https://bloomscape.com/product/red-anthurium/</td>\n",
       "      <td>https://bloomscape.com/wp-content/uploads/2023/04/BloomScape_SM_RedAnthurium_white_brightenslightly-324x389.jpg?ver=1022071</td>\n",
       "      <td>Stone, Charcoal, Slate, Indigo</td>\n",
       "    </tr>\n",
       "    <tr>\n",
       "      <th>1</th>\n",
       "      <td>Bromeliad Summer, Buy potted Bromeliad Summer, 5 pot color options. 30-Day Guarantee on all plants, plus expert plant care support.</td>\n",
       "      <td>$49</td>\n",
       "      <td>https://bloomscape.com/product/bromeliad-summer/</td>\n",
       "      <td>images/bromeliadsummer.jpg</td>\n",
       "      <td>Stone, Charcoal, Slate, Indigo, White</td>\n",
       "    </tr>\n",
       "    <tr>\n",
       "      <th>2</th>\n",
       "      <td>Sansevieria Zeylanica, Buy a Sansevieria indoor plant with 5 pot color options. Shipped straight to your door. 30-Day Guarantee plus expert plant care support.</td>\n",
       "      <td>$49</td>\n",
       "      <td>https://bloomscape.com/product/sansevieria-zeylanica/</td>\n",
       "      <td>https://bloomscape.com/wp-content/uploads/2022/10/bloomscape_sanseveria_zeylancia_sm_charcoal-324x389.jpg?ver=955388</td>\n",
       "      <td>Stone, Charcoal, Slate, Indigo</td>\n",
       "    </tr>\n",
       "    <tr>\n",
       "      <th>3</th>\n",
       "      <td>Bromeliad Guzmania, Buy a Bromeliad Yellow indoor plant with 5 pot color options. Shipped straight to your door. 30-Day Guarantee plus expert plant care support.</td>\n",
       "      <td>$49</td>\n",
       "      <td>https://bloomscape.com/product/bromeliad-guzmania-yellow/</td>\n",
       "      <td>https://bloomscape.com/wp-content/uploads/2022/08/bloomscape_yellow-bromeliad_sm_detail.jpg?ver=927252</td>\n",
       "      <td>Stone, Charcoal, Slate, Indigo</td>\n",
       "    </tr>\n",
       "    <tr>\n",
       "      <th>4</th>\n",
       "      <td>Whale Fin Sansevieria, Buy a Whale Fin Sansevieria indoor plant with 5 pot color options. Shipped straight to your door. 30-Day Guarantee plus expert plant care support.</td>\n",
       "      <td>$79</td>\n",
       "      <td>https://bloomscape.com/product/whale-fin-sansevieria/</td>\n",
       "      <td>https://bloomscape.com/wp-content/uploads/2021/12/Bloomscape_SansevieriaMasoniana_medium_Indigo-scaled-324x405.jpg?ver=640201</td>\n",
       "      <td>Stone, Clay, Charcoal, Slate, Indigo</td>\n",
       "    </tr>\n",
       "  </tbody>\n",
       "</table>\n",
       "</div>"
      ],
      "text/plain": [
       "                                                                                                                                                                       Title  \\\n",
       "0                 Red Anthurium, Buy an Anthurium Red indoor plant with 5 pot color options. Shipped straight to your door. 30-Day Guarantee plus expert plant care support.   \n",
       "1                                        Bromeliad Summer, Buy potted Bromeliad Summer, 5 pot color options. 30-Day Guarantee on all plants, plus expert plant care support.   \n",
       "2            Sansevieria Zeylanica, Buy a Sansevieria indoor plant with 5 pot color options. Shipped straight to your door. 30-Day Guarantee plus expert plant care support.   \n",
       "3          Bromeliad Guzmania, Buy a Bromeliad Yellow indoor plant with 5 pot color options. Shipped straight to your door. 30-Day Guarantee plus expert plant care support.   \n",
       "4  Whale Fin Sansevieria, Buy a Whale Fin Sansevieria indoor plant with 5 pot color options. Shipped straight to your door. 30-Day Guarantee plus expert plant care support.   \n",
       "\n",
       "  Price                                                       Link  \\\n",
       "0   $49              https://bloomscape.com/product/red-anthurium/   \n",
       "1   $49           https://bloomscape.com/product/bromeliad-summer/   \n",
       "2   $49      https://bloomscape.com/product/sansevieria-zeylanica/   \n",
       "3   $49  https://bloomscape.com/product/bromeliad-guzmania-yellow/   \n",
       "4   $79      https://bloomscape.com/product/whale-fin-sansevieria/   \n",
       "\n",
       "                                                                                                                      Image Path  \\\n",
       "0    https://bloomscape.com/wp-content/uploads/2023/04/BloomScape_SM_RedAnthurium_white_brightenslightly-324x389.jpg?ver=1022071   \n",
       "1                                                                                                     images/bromeliadsummer.jpg   \n",
       "2           https://bloomscape.com/wp-content/uploads/2022/10/bloomscape_sanseveria_zeylancia_sm_charcoal-324x389.jpg?ver=955388   \n",
       "3                         https://bloomscape.com/wp-content/uploads/2022/08/bloomscape_yellow-bromeliad_sm_detail.jpg?ver=927252   \n",
       "4  https://bloomscape.com/wp-content/uploads/2021/12/Bloomscape_SansevieriaMasoniana_medium_Indigo-scaled-324x405.jpg?ver=640201   \n",
       "\n",
       "                                  Colors  \n",
       "0         Stone, Charcoal, Slate, Indigo  \n",
       "1  Stone, Charcoal, Slate, Indigo, White  \n",
       "2         Stone, Charcoal, Slate, Indigo  \n",
       "3         Stone, Charcoal, Slate, Indigo  \n",
       "4   Stone, Clay, Charcoal, Slate, Indigo  "
      ]
     },
     "execution_count": 17,
     "metadata": {},
     "output_type": "execute_result"
    }
   ],
   "source": [
    "df.head()"
   ]
  },
  {
   "cell_type": "markdown",
   "metadata": {},
   "source": [
    "# Cleaning The Title Column"
   ]
  },
  {
   "cell_type": "code",
   "execution_count": 21,
   "metadata": {},
   "outputs": [],
   "source": [
    "df['Title']=df['Title'].str.replace(r',.*',repl='',regex=True)"
   ]
  },
  {
   "cell_type": "code",
   "execution_count": 23,
   "metadata": {},
   "outputs": [
    {
     "data": {
      "text/plain": [
       "(500, 5)"
      ]
     },
     "execution_count": 23,
     "metadata": {},
     "output_type": "execute_result"
    }
   ],
   "source": [
    "df.shape"
   ]
  },
  {
   "cell_type": "markdown",
   "metadata": {},
   "source": [
    "# Droping Duplicate"
   ]
  },
  {
   "cell_type": "code",
   "execution_count": 26,
   "metadata": {},
   "outputs": [],
   "source": [
    "df.drop_duplicates(subset = \"Title\",inplace=True)"
   ]
  },
  {
   "cell_type": "code",
   "execution_count": 27,
   "metadata": {},
   "outputs": [
    {
     "data": {
      "text/plain": [
       "(92, 5)"
      ]
     },
     "execution_count": 27,
     "metadata": {},
     "output_type": "execute_result"
    }
   ],
   "source": [
    "df.shape"
   ]
  },
  {
   "cell_type": "code",
   "execution_count": null,
   "metadata": {},
   "outputs": [],
   "source": [
    "df.info()"
   ]
  },
  {
   "cell_type": "markdown",
   "metadata": {},
   "source": [
    "# Replacing `$` With Nothing in Price Column"
   ]
  },
  {
   "cell_type": "code",
   "execution_count": 29,
   "metadata": {},
   "outputs": [],
   "source": [
    "df['Price'] = df['Price'].str.replace('$', '')"
   ]
  },
  {
   "cell_type": "code",
   "execution_count": 30,
   "metadata": {},
   "outputs": [
    {
     "data": {
      "text/html": [
       "<div>\n",
       "<style scoped>\n",
       "    .dataframe tbody tr th:only-of-type {\n",
       "        vertical-align: middle;\n",
       "    }\n",
       "\n",
       "    .dataframe tbody tr th {\n",
       "        vertical-align: top;\n",
       "    }\n",
       "\n",
       "    .dataframe thead th {\n",
       "        text-align: right;\n",
       "    }\n",
       "</style>\n",
       "<table border=\"1\" class=\"dataframe\">\n",
       "  <thead>\n",
       "    <tr style=\"text-align: right;\">\n",
       "      <th></th>\n",
       "      <th>Title</th>\n",
       "      <th>Price</th>\n",
       "      <th>Link</th>\n",
       "      <th>Image Path</th>\n",
       "      <th>Colors</th>\n",
       "    </tr>\n",
       "  </thead>\n",
       "  <tbody>\n",
       "    <tr>\n",
       "      <th>0</th>\n",
       "      <td>Red Anthurium</td>\n",
       "      <td>49</td>\n",
       "      <td>https://bloomscape.com/product/red-anthurium/</td>\n",
       "      <td>https://bloomscape.com/wp-content/uploads/2023/04/BloomScape_SM_RedAnthurium_white_brightenslightly-324x389.jpg?ver=1022071</td>\n",
       "      <td>Stone, Charcoal, Slate, Indigo</td>\n",
       "    </tr>\n",
       "    <tr>\n",
       "      <th>1</th>\n",
       "      <td>Bromeliad Summer</td>\n",
       "      <td>49</td>\n",
       "      <td>https://bloomscape.com/product/bromeliad-summer/</td>\n",
       "      <td>images/bromeliadsummer.jpg</td>\n",
       "      <td>Stone, Charcoal, Slate, Indigo, White</td>\n",
       "    </tr>\n",
       "    <tr>\n",
       "      <th>2</th>\n",
       "      <td>Sansevieria Zeylanica</td>\n",
       "      <td>49</td>\n",
       "      <td>https://bloomscape.com/product/sansevieria-zeylanica/</td>\n",
       "      <td>https://bloomscape.com/wp-content/uploads/2022/10/bloomscape_sanseveria_zeylancia_sm_charcoal-324x389.jpg?ver=955388</td>\n",
       "      <td>Stone, Charcoal, Slate, Indigo</td>\n",
       "    </tr>\n",
       "    <tr>\n",
       "      <th>3</th>\n",
       "      <td>Bromeliad Guzmania</td>\n",
       "      <td>49</td>\n",
       "      <td>https://bloomscape.com/product/bromeliad-guzmania-yellow/</td>\n",
       "      <td>https://bloomscape.com/wp-content/uploads/2022/08/bloomscape_yellow-bromeliad_sm_detail.jpg?ver=927252</td>\n",
       "      <td>Stone, Charcoal, Slate, Indigo</td>\n",
       "    </tr>\n",
       "    <tr>\n",
       "      <th>4</th>\n",
       "      <td>Whale Fin Sansevieria</td>\n",
       "      <td>79</td>\n",
       "      <td>https://bloomscape.com/product/whale-fin-sansevieria/</td>\n",
       "      <td>https://bloomscape.com/wp-content/uploads/2021/12/Bloomscape_SansevieriaMasoniana_medium_Indigo-scaled-324x405.jpg?ver=640201</td>\n",
       "      <td>Stone, Clay, Charcoal, Slate, Indigo</td>\n",
       "    </tr>\n",
       "  </tbody>\n",
       "</table>\n",
       "</div>"
      ],
      "text/plain": [
       "                   Title Price  \\\n",
       "0          Red Anthurium    49   \n",
       "1       Bromeliad Summer    49   \n",
       "2  Sansevieria Zeylanica    49   \n",
       "3     Bromeliad Guzmania    49   \n",
       "4  Whale Fin Sansevieria    79   \n",
       "\n",
       "                                                        Link  \\\n",
       "0              https://bloomscape.com/product/red-anthurium/   \n",
       "1           https://bloomscape.com/product/bromeliad-summer/   \n",
       "2      https://bloomscape.com/product/sansevieria-zeylanica/   \n",
       "3  https://bloomscape.com/product/bromeliad-guzmania-yellow/   \n",
       "4      https://bloomscape.com/product/whale-fin-sansevieria/   \n",
       "\n",
       "                                                                                                                      Image Path  \\\n",
       "0    https://bloomscape.com/wp-content/uploads/2023/04/BloomScape_SM_RedAnthurium_white_brightenslightly-324x389.jpg?ver=1022071   \n",
       "1                                                                                                     images/bromeliadsummer.jpg   \n",
       "2           https://bloomscape.com/wp-content/uploads/2022/10/bloomscape_sanseveria_zeylancia_sm_charcoal-324x389.jpg?ver=955388   \n",
       "3                         https://bloomscape.com/wp-content/uploads/2022/08/bloomscape_yellow-bromeliad_sm_detail.jpg?ver=927252   \n",
       "4  https://bloomscape.com/wp-content/uploads/2021/12/Bloomscape_SansevieriaMasoniana_medium_Indigo-scaled-324x405.jpg?ver=640201   \n",
       "\n",
       "                                  Colors  \n",
       "0         Stone, Charcoal, Slate, Indigo  \n",
       "1  Stone, Charcoal, Slate, Indigo, White  \n",
       "2         Stone, Charcoal, Slate, Indigo  \n",
       "3         Stone, Charcoal, Slate, Indigo  \n",
       "4   Stone, Clay, Charcoal, Slate, Indigo  "
      ]
     },
     "execution_count": 30,
     "metadata": {},
     "output_type": "execute_result"
    }
   ],
   "source": [
    "df.head()"
   ]
  },
  {
   "cell_type": "markdown",
   "metadata": {},
   "source": [
    "# Replacing Commas in Colors Column"
   ]
  },
  {
   "cell_type": "code",
   "execution_count": 31,
   "metadata": {},
   "outputs": [],
   "source": [
    "df['Colors']=df['Colors'].str.replace(',','')"
   ]
  },
  {
   "cell_type": "code",
   "execution_count": 32,
   "metadata": {},
   "outputs": [
    {
     "data": {
      "text/html": [
       "<div>\n",
       "<style scoped>\n",
       "    .dataframe tbody tr th:only-of-type {\n",
       "        vertical-align: middle;\n",
       "    }\n",
       "\n",
       "    .dataframe tbody tr th {\n",
       "        vertical-align: top;\n",
       "    }\n",
       "\n",
       "    .dataframe thead th {\n",
       "        text-align: right;\n",
       "    }\n",
       "</style>\n",
       "<table border=\"1\" class=\"dataframe\">\n",
       "  <thead>\n",
       "    <tr style=\"text-align: right;\">\n",
       "      <th></th>\n",
       "      <th>Title</th>\n",
       "      <th>Price</th>\n",
       "      <th>Link</th>\n",
       "      <th>Image Path</th>\n",
       "      <th>Colors</th>\n",
       "    </tr>\n",
       "  </thead>\n",
       "  <tbody>\n",
       "    <tr>\n",
       "      <th>0</th>\n",
       "      <td>Red Anthurium</td>\n",
       "      <td>49</td>\n",
       "      <td>https://bloomscape.com/product/red-anthurium/</td>\n",
       "      <td>https://bloomscape.com/wp-content/uploads/2023/04/BloomScape_SM_RedAnthurium_white_brightenslightly-324x389.jpg?ver=1022071</td>\n",
       "      <td>Stone Charcoal Slate Indigo</td>\n",
       "    </tr>\n",
       "    <tr>\n",
       "      <th>1</th>\n",
       "      <td>Bromeliad Summer</td>\n",
       "      <td>49</td>\n",
       "      <td>https://bloomscape.com/product/bromeliad-summer/</td>\n",
       "      <td>images/bromeliadsummer.jpg</td>\n",
       "      <td>Stone Charcoal Slate Indigo White</td>\n",
       "    </tr>\n",
       "    <tr>\n",
       "      <th>2</th>\n",
       "      <td>Sansevieria Zeylanica</td>\n",
       "      <td>49</td>\n",
       "      <td>https://bloomscape.com/product/sansevieria-zeylanica/</td>\n",
       "      <td>https://bloomscape.com/wp-content/uploads/2022/10/bloomscape_sanseveria_zeylancia_sm_charcoal-324x389.jpg?ver=955388</td>\n",
       "      <td>Stone Charcoal Slate Indigo</td>\n",
       "    </tr>\n",
       "    <tr>\n",
       "      <th>3</th>\n",
       "      <td>Bromeliad Guzmania</td>\n",
       "      <td>49</td>\n",
       "      <td>https://bloomscape.com/product/bromeliad-guzmania-yellow/</td>\n",
       "      <td>https://bloomscape.com/wp-content/uploads/2022/08/bloomscape_yellow-bromeliad_sm_detail.jpg?ver=927252</td>\n",
       "      <td>Stone Charcoal Slate Indigo</td>\n",
       "    </tr>\n",
       "    <tr>\n",
       "      <th>4</th>\n",
       "      <td>Whale Fin Sansevieria</td>\n",
       "      <td>79</td>\n",
       "      <td>https://bloomscape.com/product/whale-fin-sansevieria/</td>\n",
       "      <td>https://bloomscape.com/wp-content/uploads/2021/12/Bloomscape_SansevieriaMasoniana_medium_Indigo-scaled-324x405.jpg?ver=640201</td>\n",
       "      <td>Stone Clay Charcoal Slate Indigo</td>\n",
       "    </tr>\n",
       "  </tbody>\n",
       "</table>\n",
       "</div>"
      ],
      "text/plain": [
       "                   Title Price  \\\n",
       "0          Red Anthurium    49   \n",
       "1       Bromeliad Summer    49   \n",
       "2  Sansevieria Zeylanica    49   \n",
       "3     Bromeliad Guzmania    49   \n",
       "4  Whale Fin Sansevieria    79   \n",
       "\n",
       "                                                        Link  \\\n",
       "0              https://bloomscape.com/product/red-anthurium/   \n",
       "1           https://bloomscape.com/product/bromeliad-summer/   \n",
       "2      https://bloomscape.com/product/sansevieria-zeylanica/   \n",
       "3  https://bloomscape.com/product/bromeliad-guzmania-yellow/   \n",
       "4      https://bloomscape.com/product/whale-fin-sansevieria/   \n",
       "\n",
       "                                                                                                                      Image Path  \\\n",
       "0    https://bloomscape.com/wp-content/uploads/2023/04/BloomScape_SM_RedAnthurium_white_brightenslightly-324x389.jpg?ver=1022071   \n",
       "1                                                                                                     images/bromeliadsummer.jpg   \n",
       "2           https://bloomscape.com/wp-content/uploads/2022/10/bloomscape_sanseveria_zeylancia_sm_charcoal-324x389.jpg?ver=955388   \n",
       "3                         https://bloomscape.com/wp-content/uploads/2022/08/bloomscape_yellow-bromeliad_sm_detail.jpg?ver=927252   \n",
       "4  https://bloomscape.com/wp-content/uploads/2021/12/Bloomscape_SansevieriaMasoniana_medium_Indigo-scaled-324x405.jpg?ver=640201   \n",
       "\n",
       "                              Colors  \n",
       "0        Stone Charcoal Slate Indigo  \n",
       "1  Stone Charcoal Slate Indigo White  \n",
       "2        Stone Charcoal Slate Indigo  \n",
       "3        Stone Charcoal Slate Indigo  \n",
       "4   Stone Clay Charcoal Slate Indigo  "
      ]
     },
     "execution_count": 32,
     "metadata": {},
     "output_type": "execute_result"
    }
   ],
   "source": [
    "df.head()"
   ]
  },
  {
   "cell_type": "markdown",
   "metadata": {},
   "source": [
    "# Converting Price To Float"
   ]
  },
  {
   "cell_type": "code",
   "execution_count": 33,
   "metadata": {},
   "outputs": [],
   "source": [
    "df['Price']=df['Price'].astype('float')"
   ]
  },
  {
   "cell_type": "code",
   "execution_count": 34,
   "metadata": {},
   "outputs": [
    {
     "data": {
      "text/html": [
       "<div>\n",
       "<style scoped>\n",
       "    .dataframe tbody tr th:only-of-type {\n",
       "        vertical-align: middle;\n",
       "    }\n",
       "\n",
       "    .dataframe tbody tr th {\n",
       "        vertical-align: top;\n",
       "    }\n",
       "\n",
       "    .dataframe thead th {\n",
       "        text-align: right;\n",
       "    }\n",
       "</style>\n",
       "<table border=\"1\" class=\"dataframe\">\n",
       "  <thead>\n",
       "    <tr style=\"text-align: right;\">\n",
       "      <th></th>\n",
       "      <th>Title</th>\n",
       "      <th>Price</th>\n",
       "      <th>Link</th>\n",
       "      <th>Image Path</th>\n",
       "      <th>Colors</th>\n",
       "    </tr>\n",
       "  </thead>\n",
       "  <tbody>\n",
       "    <tr>\n",
       "      <th>0</th>\n",
       "      <td>Red Anthurium</td>\n",
       "      <td>49.0</td>\n",
       "      <td>https://bloomscape.com/product/red-anthurium/</td>\n",
       "      <td>https://bloomscape.com/wp-content/uploads/2023/04/BloomScape_SM_RedAnthurium_white_brightenslightly-324x389.jpg?ver=1022071</td>\n",
       "      <td>Stone Charcoal Slate Indigo</td>\n",
       "    </tr>\n",
       "    <tr>\n",
       "      <th>1</th>\n",
       "      <td>Bromeliad Summer</td>\n",
       "      <td>49.0</td>\n",
       "      <td>https://bloomscape.com/product/bromeliad-summer/</td>\n",
       "      <td>images/bromeliadsummer.jpg</td>\n",
       "      <td>Stone Charcoal Slate Indigo White</td>\n",
       "    </tr>\n",
       "    <tr>\n",
       "      <th>2</th>\n",
       "      <td>Sansevieria Zeylanica</td>\n",
       "      <td>49.0</td>\n",
       "      <td>https://bloomscape.com/product/sansevieria-zeylanica/</td>\n",
       "      <td>https://bloomscape.com/wp-content/uploads/2022/10/bloomscape_sanseveria_zeylancia_sm_charcoal-324x389.jpg?ver=955388</td>\n",
       "      <td>Stone Charcoal Slate Indigo</td>\n",
       "    </tr>\n",
       "    <tr>\n",
       "      <th>3</th>\n",
       "      <td>Bromeliad Guzmania</td>\n",
       "      <td>49.0</td>\n",
       "      <td>https://bloomscape.com/product/bromeliad-guzmania-yellow/</td>\n",
       "      <td>https://bloomscape.com/wp-content/uploads/2022/08/bloomscape_yellow-bromeliad_sm_detail.jpg?ver=927252</td>\n",
       "      <td>Stone Charcoal Slate Indigo</td>\n",
       "    </tr>\n",
       "    <tr>\n",
       "      <th>4</th>\n",
       "      <td>Whale Fin Sansevieria</td>\n",
       "      <td>79.0</td>\n",
       "      <td>https://bloomscape.com/product/whale-fin-sansevieria/</td>\n",
       "      <td>https://bloomscape.com/wp-content/uploads/2021/12/Bloomscape_SansevieriaMasoniana_medium_Indigo-scaled-324x405.jpg?ver=640201</td>\n",
       "      <td>Stone Clay Charcoal Slate Indigo</td>\n",
       "    </tr>\n",
       "  </tbody>\n",
       "</table>\n",
       "</div>"
      ],
      "text/plain": [
       "                   Title  Price  \\\n",
       "0          Red Anthurium   49.0   \n",
       "1       Bromeliad Summer   49.0   \n",
       "2  Sansevieria Zeylanica   49.0   \n",
       "3     Bromeliad Guzmania   49.0   \n",
       "4  Whale Fin Sansevieria   79.0   \n",
       "\n",
       "                                                        Link  \\\n",
       "0              https://bloomscape.com/product/red-anthurium/   \n",
       "1           https://bloomscape.com/product/bromeliad-summer/   \n",
       "2      https://bloomscape.com/product/sansevieria-zeylanica/   \n",
       "3  https://bloomscape.com/product/bromeliad-guzmania-yellow/   \n",
       "4      https://bloomscape.com/product/whale-fin-sansevieria/   \n",
       "\n",
       "                                                                                                                      Image Path  \\\n",
       "0    https://bloomscape.com/wp-content/uploads/2023/04/BloomScape_SM_RedAnthurium_white_brightenslightly-324x389.jpg?ver=1022071   \n",
       "1                                                                                                     images/bromeliadsummer.jpg   \n",
       "2           https://bloomscape.com/wp-content/uploads/2022/10/bloomscape_sanseveria_zeylancia_sm_charcoal-324x389.jpg?ver=955388   \n",
       "3                         https://bloomscape.com/wp-content/uploads/2022/08/bloomscape_yellow-bromeliad_sm_detail.jpg?ver=927252   \n",
       "4  https://bloomscape.com/wp-content/uploads/2021/12/Bloomscape_SansevieriaMasoniana_medium_Indigo-scaled-324x405.jpg?ver=640201   \n",
       "\n",
       "                              Colors  \n",
       "0        Stone Charcoal Slate Indigo  \n",
       "1  Stone Charcoal Slate Indigo White  \n",
       "2        Stone Charcoal Slate Indigo  \n",
       "3        Stone Charcoal Slate Indigo  \n",
       "4   Stone Clay Charcoal Slate Indigo  "
      ]
     },
     "execution_count": 34,
     "metadata": {},
     "output_type": "execute_result"
    }
   ],
   "source": [
    "df.head()"
   ]
  },
  {
   "cell_type": "code",
   "execution_count": null,
   "metadata": {},
   "outputs": [],
   "source": []
  },
  {
   "cell_type": "code",
   "execution_count": null,
   "metadata": {},
   "outputs": [],
   "source": []
  },
  {
   "cell_type": "code",
   "execution_count": null,
   "metadata": {},
   "outputs": [],
   "source": [
    "scaler = StandardScaler()"
   ]
  },
  {
   "cell_type": "code",
   "execution_count": null,
   "metadata": {},
   "outputs": [],
   "source": [
    "df['Price'] = scaler.fit_transform(df[['Price']])"
   ]
  },
  {
   "cell_type": "code",
   "execution_count": null,
   "metadata": {},
   "outputs": [],
   "source": [
    "df['Colors'] = pd.factorize(df['Colors'])[0]"
   ]
  },
  {
   "cell_type": "code",
   "execution_count": null,
   "metadata": {},
   "outputs": [],
   "source": []
  },
  {
   "cell_type": "code",
   "execution_count": null,
   "metadata": {},
   "outputs": [],
   "source": [
    "# Creating feature vectors\n",
    "features = df[['Colors', 'Price']].values\n",
    "\n",
    "# Compute cosine similarity matrix\n",
    "similarity_matrix = cosine_similarity(features, features)"
   ]
  },
  {
   "cell_type": "code",
   "execution_count": null,
   "metadata": {},
   "outputs": [],
   "source": [
    "def recommend_items(item_name, similarity_matrix, df, top_n=10):\n",
    "    if item_name not in df['Title'].values:\n",
    "        return f\"Item '{item_name}' not found in the dataset.\"\n",
    "\n",
    "    item_index = df.index[df['Title'] == item_name].tolist()[0]\n",
    "\n",
    "    similarity_scores = list(enumerate(similarity_matrix[item_index]))\n",
    "\n",
    "    similarity_scores = sorted(similarity_scores, key=lambda x: x[1], reverse=True)\n",
    "\n",
    "    top_similar_items = similarity_scores[1:top_n+1]\n",
    "\n",
    "    recommended_items = [df.iloc[item[0]]['Title'] for item in top_similar_items]\n",
    "\n",
    "    return recommended_items\n",
    "\n",
    "# Example usage\n",
    "item_name = 'YouCopia ReStickable 3D Fridge Labels Pack of 10'\n",
    "recommendations = recommend_items(item_name, similarity_matrix, df)\n",
    "print(f\"Because you viewed {item_name}, you may also like: {', '.join(recommendations)}\")\n"
   ]
  },
  {
   "cell_type": "code",
   "execution_count": null,
   "metadata": {},
   "outputs": [],
   "source": [
    "recommendations"
   ]
  },
  {
   "cell_type": "code",
   "execution_count": null,
   "metadata": {},
   "outputs": [],
   "source": [
    "df[df['Title']==item_name]"
   ]
  },
  {
   "cell_type": "code",
   "execution_count": null,
   "metadata": {},
   "outputs": [],
   "source": [
    "df[df['Title']==item_name]['Link']"
   ]
  },
  {
   "cell_type": "code",
   "execution_count": null,
   "metadata": {},
   "outputs": [],
   "source": [
    "[df[df['Title']==rec]['Link'] for rec in recommendations]"
   ]
  },
  {
   "cell_type": "code",
   "execution_count": null,
   "metadata": {},
   "outputs": [],
   "source": []
  },
  {
   "cell_type": "code",
   "execution_count": null,
   "metadata": {},
   "outputs": [],
   "source": []
  },
  {
   "cell_type": "code",
   "execution_count": null,
   "metadata": {},
   "outputs": [],
   "source": []
  },
  {
   "cell_type": "code",
   "execution_count": null,
   "metadata": {},
   "outputs": [],
   "source": []
  },
  {
   "cell_type": "code",
   "execution_count": null,
   "metadata": {},
   "outputs": [],
   "source": []
  },
  {
   "cell_type": "code",
   "execution_count": null,
   "metadata": {},
   "outputs": [],
   "source": [
    "import pandas as pd\n",
    "from sklearn.metrics.pairwise import cosine_similarity\n",
    "from sklearn.preprocessing import StandardScaler\n",
    "\n",
    "# Example dataset (replace with your actual dataset loading)\n",
    "data = {\n",
    "    'furniture_name': ['Sofa', 'Table', 'Chair', 'Cushion', 'Bed', 'Desk'],\n",
    "    'color': ['Red', 'Brown', 'White', 'Blue', 'Black', 'Brown'],\n",
    "    'price': [500, 300, 150, 50, 800, 400]\n",
    "}\n",
    "\n",
    "df = pd.DataFrame(data)\n",
    "\n",
    "# Encoding categorical variables (color)\n",
    "df['color_encoded'] = pd.factorize(df['color'])[0]\n",
    "\n",
    "# Scaling numerical features (price)\n",
    "scaler = StandardScaler()\n",
    "df['price_scaled'] = scaler.fit_transform(df[['price']])\n",
    "\n",
    "# Creating feature vectors\n",
    "features = df[['color_encoded', 'price_scaled']].values\n",
    "\n",
    "# Compute cosine similarity matrix\n",
    "similarity_matrix = cosine_similarity(features, features)\n",
    "\n",
    "# Function to recommend items\n",
    "def recommend_items(item_name, similarity_matrix, df, top_n=3):\n",
    "    item_index = df.index[df['furniture_name'] == item_name][0]\n",
    "    similarity_scores = list(enumerate(similarity_matrix[item_index]))\n",
    "    similarity_scores = sorted(similarity_scores, key=lambda x: x[1], reverse=True)\n",
    "    top_similar_items = similarity_scores[1:top_n+1]  # Exclude itself, get top N similar items\n",
    "    recommended_items = [df.iloc[item[0]]['furniture_name'] for item in top_similar_items]\n",
    "    return recommended_items\n",
    "\n",
    "# Example usage\n",
    "item_name = 'Sofa'\n",
    "recommendations = recommend_items(item_name, similarity_matrix, df)\n",
    "print(f\"Because you viewed {item_name}, you may also like: {', '.join(recommendations)}\")\n"
   ]
  },
  {
   "cell_type": "code",
   "execution_count": null,
   "metadata": {},
   "outputs": [],
   "source": []
  }
 ],
 "metadata": {
  "kernelspec": {
   "display_name": ".venv",
   "language": "python",
   "name": "python3"
  },
  "language_info": {
   "codemirror_mode": {
    "name": "ipython",
    "version": 3
   },
   "file_extension": ".py",
   "mimetype": "text/x-python",
   "name": "python",
   "nbconvert_exporter": "python",
   "pygments_lexer": "ipython3",
   "version": "3.9.13"
  }
 },
 "nbformat": 4,
 "nbformat_minor": 2
}
