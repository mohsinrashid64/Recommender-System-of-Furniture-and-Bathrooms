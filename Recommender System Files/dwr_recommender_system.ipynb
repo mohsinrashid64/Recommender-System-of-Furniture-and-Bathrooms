{
 "cells": [
  {
   "cell_type": "markdown",
   "metadata": {},
   "source": [
    "# Import Libraries"
   ]
  },
  {
   "cell_type": "code",
   "execution_count": 28,
   "metadata": {},
   "outputs": [],
   "source": [
    "import pandas as pd \n",
    "import numpy as np\n",
    "import re\n",
    "from sklearn.metrics.pairwise import cosine_similarity\n",
    "from sklearn.preprocessing import StandardScaler\n",
    "pd.set_option('display.max_colwidth', None) \n",
    "import math"
   ]
  },
  {
   "cell_type": "markdown",
   "metadata": {},
   "source": [
    "# Loading Dataframe"
   ]
  },
  {
   "cell_type": "code",
   "execution_count": 41,
   "metadata": {},
   "outputs": [],
   "source": [
    "df=pd.read_csv('../data/dwr.csv')"
   ]
  },
  {
   "cell_type": "code",
   "execution_count": 42,
   "metadata": {},
   "outputs": [
    {
     "data": {
      "text/html": [
       "<div>\n",
       "<style scoped>\n",
       "    .dataframe tbody tr th:only-of-type {\n",
       "        vertical-align: middle;\n",
       "    }\n",
       "\n",
       "    .dataframe tbody tr th {\n",
       "        vertical-align: top;\n",
       "    }\n",
       "\n",
       "    .dataframe thead th {\n",
       "        text-align: right;\n",
       "    }\n",
       "</style>\n",
       "<table border=\"1\" class=\"dataframe\">\n",
       "  <thead>\n",
       "    <tr style=\"text-align: right;\">\n",
       "      <th></th>\n",
       "      <th>id</th>\n",
       "      <th>name</th>\n",
       "      <th>brand</th>\n",
       "      <th>price_min</th>\n",
       "      <th>price_max</th>\n",
       "      <th>color_options_count</th>\n",
       "      <th>color_options</th>\n",
       "      <th>image_path</th>\n",
       "    </tr>\n",
       "  </thead>\n",
       "  <tbody>\n",
       "    <tr>\n",
       "      <th>0</th>\n",
       "      <td>2579525</td>\n",
       "      <td>Avio Sectional with Table</td>\n",
       "      <td>Knoll®</td>\n",
       "      <td>$31,255.00</td>\n",
       "      <td>$43,126.00</td>\n",
       "      <td>NaN</td>\n",
       "      <td>['Aviator', 'Black', 'Chartreuse', 'Daffodil']</td>\n",
       "      <td>dwr\\2579525.jpg</td>\n",
       "    </tr>\n",
       "    <tr>\n",
       "      <th>1</th>\n",
       "      <td>2579423</td>\n",
       "      <td>Avio Sectional</td>\n",
       "      <td>Knoll®</td>\n",
       "      <td>$17,970.00</td>\n",
       "      <td>$25,450.00</td>\n",
       "      <td>NaN</td>\n",
       "      <td>['Aviator', 'Black', 'Chartreuse', 'Daffodil']</td>\n",
       "      <td>dwr\\2579423.jpg</td>\n",
       "    </tr>\n",
       "    <tr>\n",
       "      <th>2</th>\n",
       "      <td>2579424-2</td>\n",
       "      <td>Avio Sofa, Three Seat</td>\n",
       "      <td>Knoll®</td>\n",
       "      <td>$14,899.00</td>\n",
       "      <td>$21,254.00</td>\n",
       "      <td>NaN</td>\n",
       "      <td>['Aviator', 'Black', 'Chartreuse', 'Daffodil']</td>\n",
       "      <td>dwr\\2579424-2.jpg</td>\n",
       "    </tr>\n",
       "    <tr>\n",
       "      <th>3</th>\n",
       "      <td>2195266-1</td>\n",
       "      <td>Kelston Sofa, Fabric</td>\n",
       "      <td>Case</td>\n",
       "      <td>$7,745.00</td>\n",
       "      <td>$11,795.00</td>\n",
       "      <td>NaN</td>\n",
       "      <td>['Bark', 'Basil', 'Blue', 'Blush']</td>\n",
       "      <td>dwr\\2195266-1.jpg</td>\n",
       "    </tr>\n",
       "    <tr>\n",
       "      <th>4</th>\n",
       "      <td>2195267-2</td>\n",
       "      <td>Kelston Sectional, Leather</td>\n",
       "      <td>Case</td>\n",
       "      <td>$17,695.00</td>\n",
       "      <td>$18,895.00</td>\n",
       "      <td>NaN</td>\n",
       "      <td>['Balsa', 'Black', 'Bruno', 'Canyon']</td>\n",
       "      <td>dwr\\2195267-2.jpg</td>\n",
       "    </tr>\n",
       "  </tbody>\n",
       "</table>\n",
       "</div>"
      ],
      "text/plain": [
       "          id                        name   brand   price_min   price_max  \\\n",
       "0    2579525   Avio Sectional with Table  Knoll®  $31,255.00  $43,126.00   \n",
       "1    2579423              Avio Sectional  Knoll®  $17,970.00  $25,450.00   \n",
       "2  2579424-2       Avio Sofa, Three Seat  Knoll®  $14,899.00  $21,254.00   \n",
       "3  2195266-1        Kelston Sofa, Fabric    Case   $7,745.00  $11,795.00   \n",
       "4  2195267-2  Kelston Sectional, Leather    Case  $17,695.00  $18,895.00   \n",
       "\n",
       "   color_options_count                                   color_options  \\\n",
       "0                  NaN  ['Aviator', 'Black', 'Chartreuse', 'Daffodil']   \n",
       "1                  NaN  ['Aviator', 'Black', 'Chartreuse', 'Daffodil']   \n",
       "2                  NaN  ['Aviator', 'Black', 'Chartreuse', 'Daffodil']   \n",
       "3                  NaN              ['Bark', 'Basil', 'Blue', 'Blush']   \n",
       "4                  NaN           ['Balsa', 'Black', 'Bruno', 'Canyon']   \n",
       "\n",
       "          image_path  \n",
       "0    dwr\\2579525.jpg  \n",
       "1    dwr\\2579423.jpg  \n",
       "2  dwr\\2579424-2.jpg  \n",
       "3  dwr\\2195266-1.jpg  \n",
       "4  dwr\\2195267-2.jpg  "
      ]
     },
     "execution_count": 42,
     "metadata": {},
     "output_type": "execute_result"
    }
   ],
   "source": [
    "df.head()"
   ]
  },
  {
   "cell_type": "markdown",
   "metadata": {},
   "source": [
    "# Renaming `color_options` to Colors"
   ]
  },
  {
   "cell_type": "code",
   "execution_count": 43,
   "metadata": {},
   "outputs": [],
   "source": [
    "df.rename(columns={\n",
    "        \"color_options\": \"Colors\",\n",
    "        \"name\": \"Title\"\n",
    "    },inplace=True)"
   ]
  },
  {
   "cell_type": "markdown",
   "metadata": {},
   "source": [
    "# Droping `color_options_count` column"
   ]
  },
  {
   "cell_type": "code",
   "execution_count": 44,
   "metadata": {},
   "outputs": [],
   "source": [
    "df.drop(columns=['color_options_count'],inplace=True)"
   ]
  },
  {
   "cell_type": "code",
   "execution_count": 45,
   "metadata": {},
   "outputs": [
    {
     "data": {
      "text/html": [
       "<div>\n",
       "<style scoped>\n",
       "    .dataframe tbody tr th:only-of-type {\n",
       "        vertical-align: middle;\n",
       "    }\n",
       "\n",
       "    .dataframe tbody tr th {\n",
       "        vertical-align: top;\n",
       "    }\n",
       "\n",
       "    .dataframe thead th {\n",
       "        text-align: right;\n",
       "    }\n",
       "</style>\n",
       "<table border=\"1\" class=\"dataframe\">\n",
       "  <thead>\n",
       "    <tr style=\"text-align: right;\">\n",
       "      <th></th>\n",
       "      <th>id</th>\n",
       "      <th>Title</th>\n",
       "      <th>brand</th>\n",
       "      <th>price_min</th>\n",
       "      <th>price_max</th>\n",
       "      <th>Colors</th>\n",
       "      <th>image_path</th>\n",
       "    </tr>\n",
       "  </thead>\n",
       "  <tbody>\n",
       "    <tr>\n",
       "      <th>0</th>\n",
       "      <td>2579525</td>\n",
       "      <td>Avio Sectional with Table</td>\n",
       "      <td>Knoll®</td>\n",
       "      <td>$31,255.00</td>\n",
       "      <td>$43,126.00</td>\n",
       "      <td>['Aviator', 'Black', 'Chartreuse', 'Daffodil']</td>\n",
       "      <td>dwr\\2579525.jpg</td>\n",
       "    </tr>\n",
       "    <tr>\n",
       "      <th>1</th>\n",
       "      <td>2579423</td>\n",
       "      <td>Avio Sectional</td>\n",
       "      <td>Knoll®</td>\n",
       "      <td>$17,970.00</td>\n",
       "      <td>$25,450.00</td>\n",
       "      <td>['Aviator', 'Black', 'Chartreuse', 'Daffodil']</td>\n",
       "      <td>dwr\\2579423.jpg</td>\n",
       "    </tr>\n",
       "    <tr>\n",
       "      <th>2</th>\n",
       "      <td>2579424-2</td>\n",
       "      <td>Avio Sofa, Three Seat</td>\n",
       "      <td>Knoll®</td>\n",
       "      <td>$14,899.00</td>\n",
       "      <td>$21,254.00</td>\n",
       "      <td>['Aviator', 'Black', 'Chartreuse', 'Daffodil']</td>\n",
       "      <td>dwr\\2579424-2.jpg</td>\n",
       "    </tr>\n",
       "    <tr>\n",
       "      <th>3</th>\n",
       "      <td>2195266-1</td>\n",
       "      <td>Kelston Sofa, Fabric</td>\n",
       "      <td>Case</td>\n",
       "      <td>$7,745.00</td>\n",
       "      <td>$11,795.00</td>\n",
       "      <td>['Bark', 'Basil', 'Blue', 'Blush']</td>\n",
       "      <td>dwr\\2195266-1.jpg</td>\n",
       "    </tr>\n",
       "    <tr>\n",
       "      <th>4</th>\n",
       "      <td>2195267-2</td>\n",
       "      <td>Kelston Sectional, Leather</td>\n",
       "      <td>Case</td>\n",
       "      <td>$17,695.00</td>\n",
       "      <td>$18,895.00</td>\n",
       "      <td>['Balsa', 'Black', 'Bruno', 'Canyon']</td>\n",
       "      <td>dwr\\2195267-2.jpg</td>\n",
       "    </tr>\n",
       "  </tbody>\n",
       "</table>\n",
       "</div>"
      ],
      "text/plain": [
       "          id                       Title   brand   price_min   price_max  \\\n",
       "0    2579525   Avio Sectional with Table  Knoll®  $31,255.00  $43,126.00   \n",
       "1    2579423              Avio Sectional  Knoll®  $17,970.00  $25,450.00   \n",
       "2  2579424-2       Avio Sofa, Three Seat  Knoll®  $14,899.00  $21,254.00   \n",
       "3  2195266-1        Kelston Sofa, Fabric    Case   $7,745.00  $11,795.00   \n",
       "4  2195267-2  Kelston Sectional, Leather    Case  $17,695.00  $18,895.00   \n",
       "\n",
       "                                           Colors         image_path  \n",
       "0  ['Aviator', 'Black', 'Chartreuse', 'Daffodil']    dwr\\2579525.jpg  \n",
       "1  ['Aviator', 'Black', 'Chartreuse', 'Daffodil']    dwr\\2579423.jpg  \n",
       "2  ['Aviator', 'Black', 'Chartreuse', 'Daffodil']  dwr\\2579424-2.jpg  \n",
       "3              ['Bark', 'Basil', 'Blue', 'Blush']  dwr\\2195266-1.jpg  \n",
       "4           ['Balsa', 'Black', 'Bruno', 'Canyon']  dwr\\2195267-2.jpg  "
      ]
     },
     "execution_count": 45,
     "metadata": {},
     "output_type": "execute_result"
    }
   ],
   "source": [
    "df.head()"
   ]
  },
  {
   "cell_type": "markdown",
   "metadata": {},
   "source": [
    "# Fixing `price_min` and `price_max` Columns"
   ]
  },
  {
   "cell_type": "code",
   "execution_count": 46,
   "metadata": {},
   "outputs": [],
   "source": [
    "df['price_min']=df['price_min'].str.replace(pat='$',repl='')\n",
    "df['price_max']=df['price_max'].str.replace(pat='$',repl='')\n",
    "df['price_min']=df['price_min'].str.replace(pat=',',repl='')\n",
    "df['price_max']=df['price_max'].str.replace(pat=',',repl='')"
   ]
  },
  {
   "cell_type": "code",
   "execution_count": 47,
   "metadata": {},
   "outputs": [],
   "source": [
    "df['price_min']=df['price_min'].astype('float')\n",
    "df['price_max']=df['price_max'].astype('float')"
   ]
  },
  {
   "cell_type": "code",
   "execution_count": 48,
   "metadata": {},
   "outputs": [],
   "source": [
    "df['Price']=(df['price_min']+df['price_max'])/2"
   ]
  },
  {
   "cell_type": "code",
   "execution_count": 49,
   "metadata": {},
   "outputs": [],
   "source": [
    "df.drop(columns=['price_min','price_max'],inplace=True)"
   ]
  },
  {
   "cell_type": "code",
   "execution_count": 50,
   "metadata": {},
   "outputs": [
    {
     "data": {
      "text/html": [
       "<div>\n",
       "<style scoped>\n",
       "    .dataframe tbody tr th:only-of-type {\n",
       "        vertical-align: middle;\n",
       "    }\n",
       "\n",
       "    .dataframe tbody tr th {\n",
       "        vertical-align: top;\n",
       "    }\n",
       "\n",
       "    .dataframe thead th {\n",
       "        text-align: right;\n",
       "    }\n",
       "</style>\n",
       "<table border=\"1\" class=\"dataframe\">\n",
       "  <thead>\n",
       "    <tr style=\"text-align: right;\">\n",
       "      <th></th>\n",
       "      <th>id</th>\n",
       "      <th>Title</th>\n",
       "      <th>brand</th>\n",
       "      <th>Colors</th>\n",
       "      <th>image_path</th>\n",
       "      <th>Price</th>\n",
       "    </tr>\n",
       "  </thead>\n",
       "  <tbody>\n",
       "    <tr>\n",
       "      <th>0</th>\n",
       "      <td>2579525</td>\n",
       "      <td>Avio Sectional with Table</td>\n",
       "      <td>Knoll®</td>\n",
       "      <td>['Aviator', 'Black', 'Chartreuse', 'Daffodil']</td>\n",
       "      <td>dwr\\2579525.jpg</td>\n",
       "      <td>37190.5</td>\n",
       "    </tr>\n",
       "    <tr>\n",
       "      <th>1</th>\n",
       "      <td>2579423</td>\n",
       "      <td>Avio Sectional</td>\n",
       "      <td>Knoll®</td>\n",
       "      <td>['Aviator', 'Black', 'Chartreuse', 'Daffodil']</td>\n",
       "      <td>dwr\\2579423.jpg</td>\n",
       "      <td>21710.0</td>\n",
       "    </tr>\n",
       "    <tr>\n",
       "      <th>2</th>\n",
       "      <td>2579424-2</td>\n",
       "      <td>Avio Sofa, Three Seat</td>\n",
       "      <td>Knoll®</td>\n",
       "      <td>['Aviator', 'Black', 'Chartreuse', 'Daffodil']</td>\n",
       "      <td>dwr\\2579424-2.jpg</td>\n",
       "      <td>18076.5</td>\n",
       "    </tr>\n",
       "    <tr>\n",
       "      <th>3</th>\n",
       "      <td>2195266-1</td>\n",
       "      <td>Kelston Sofa, Fabric</td>\n",
       "      <td>Case</td>\n",
       "      <td>['Bark', 'Basil', 'Blue', 'Blush']</td>\n",
       "      <td>dwr\\2195266-1.jpg</td>\n",
       "      <td>9770.0</td>\n",
       "    </tr>\n",
       "    <tr>\n",
       "      <th>4</th>\n",
       "      <td>2195267-2</td>\n",
       "      <td>Kelston Sectional, Leather</td>\n",
       "      <td>Case</td>\n",
       "      <td>['Balsa', 'Black', 'Bruno', 'Canyon']</td>\n",
       "      <td>dwr\\2195267-2.jpg</td>\n",
       "      <td>18295.0</td>\n",
       "    </tr>\n",
       "  </tbody>\n",
       "</table>\n",
       "</div>"
      ],
      "text/plain": [
       "          id                       Title   brand  \\\n",
       "0    2579525   Avio Sectional with Table  Knoll®   \n",
       "1    2579423              Avio Sectional  Knoll®   \n",
       "2  2579424-2       Avio Sofa, Three Seat  Knoll®   \n",
       "3  2195266-1        Kelston Sofa, Fabric    Case   \n",
       "4  2195267-2  Kelston Sectional, Leather    Case   \n",
       "\n",
       "                                           Colors         image_path    Price  \n",
       "0  ['Aviator', 'Black', 'Chartreuse', 'Daffodil']    dwr\\2579525.jpg  37190.5  \n",
       "1  ['Aviator', 'Black', 'Chartreuse', 'Daffodil']    dwr\\2579423.jpg  21710.0  \n",
       "2  ['Aviator', 'Black', 'Chartreuse', 'Daffodil']  dwr\\2579424-2.jpg  18076.5  \n",
       "3              ['Bark', 'Basil', 'Blue', 'Blush']  dwr\\2195266-1.jpg   9770.0  \n",
       "4           ['Balsa', 'Black', 'Bruno', 'Canyon']  dwr\\2195267-2.jpg  18295.0  "
      ]
     },
     "execution_count": 50,
     "metadata": {},
     "output_type": "execute_result"
    }
   ],
   "source": [
    "df.head()"
   ]
  },
  {
   "cell_type": "markdown",
   "metadata": {},
   "source": [
    "# Cleaing Color Column"
   ]
  },
  {
   "cell_type": "code",
   "execution_count": 51,
   "metadata": {},
   "outputs": [],
   "source": [
    "df['Colors']=df['Colors'].str.replace(r\"[\\[\\]',/]\",repl='',regex=True)"
   ]
  },
  {
   "cell_type": "code",
   "execution_count": 52,
   "metadata": {},
   "outputs": [
    {
     "data": {
      "text/html": [
       "<div>\n",
       "<style scoped>\n",
       "    .dataframe tbody tr th:only-of-type {\n",
       "        vertical-align: middle;\n",
       "    }\n",
       "\n",
       "    .dataframe tbody tr th {\n",
       "        vertical-align: top;\n",
       "    }\n",
       "\n",
       "    .dataframe thead th {\n",
       "        text-align: right;\n",
       "    }\n",
       "</style>\n",
       "<table border=\"1\" class=\"dataframe\">\n",
       "  <thead>\n",
       "    <tr style=\"text-align: right;\">\n",
       "      <th></th>\n",
       "      <th>id</th>\n",
       "      <th>Title</th>\n",
       "      <th>brand</th>\n",
       "      <th>Colors</th>\n",
       "      <th>image_path</th>\n",
       "      <th>Price</th>\n",
       "    </tr>\n",
       "  </thead>\n",
       "  <tbody>\n",
       "    <tr>\n",
       "      <th>0</th>\n",
       "      <td>2579525</td>\n",
       "      <td>Avio Sectional with Table</td>\n",
       "      <td>Knoll®</td>\n",
       "      <td>Aviator Black Chartreuse Daffodil</td>\n",
       "      <td>dwr\\2579525.jpg</td>\n",
       "      <td>37190.5</td>\n",
       "    </tr>\n",
       "    <tr>\n",
       "      <th>1</th>\n",
       "      <td>2579423</td>\n",
       "      <td>Avio Sectional</td>\n",
       "      <td>Knoll®</td>\n",
       "      <td>Aviator Black Chartreuse Daffodil</td>\n",
       "      <td>dwr\\2579423.jpg</td>\n",
       "      <td>21710.0</td>\n",
       "    </tr>\n",
       "    <tr>\n",
       "      <th>2</th>\n",
       "      <td>2579424-2</td>\n",
       "      <td>Avio Sofa, Three Seat</td>\n",
       "      <td>Knoll®</td>\n",
       "      <td>Aviator Black Chartreuse Daffodil</td>\n",
       "      <td>dwr\\2579424-2.jpg</td>\n",
       "      <td>18076.5</td>\n",
       "    </tr>\n",
       "    <tr>\n",
       "      <th>3</th>\n",
       "      <td>2195266-1</td>\n",
       "      <td>Kelston Sofa, Fabric</td>\n",
       "      <td>Case</td>\n",
       "      <td>Bark Basil Blue Blush</td>\n",
       "      <td>dwr\\2195266-1.jpg</td>\n",
       "      <td>9770.0</td>\n",
       "    </tr>\n",
       "    <tr>\n",
       "      <th>4</th>\n",
       "      <td>2195267-2</td>\n",
       "      <td>Kelston Sectional, Leather</td>\n",
       "      <td>Case</td>\n",
       "      <td>Balsa Black Bruno Canyon</td>\n",
       "      <td>dwr\\2195267-2.jpg</td>\n",
       "      <td>18295.0</td>\n",
       "    </tr>\n",
       "  </tbody>\n",
       "</table>\n",
       "</div>"
      ],
      "text/plain": [
       "          id                       Title   brand  \\\n",
       "0    2579525   Avio Sectional with Table  Knoll®   \n",
       "1    2579423              Avio Sectional  Knoll®   \n",
       "2  2579424-2       Avio Sofa, Three Seat  Knoll®   \n",
       "3  2195266-1        Kelston Sofa, Fabric    Case   \n",
       "4  2195267-2  Kelston Sectional, Leather    Case   \n",
       "\n",
       "                              Colors         image_path    Price  \n",
       "0  Aviator Black Chartreuse Daffodil    dwr\\2579525.jpg  37190.5  \n",
       "1  Aviator Black Chartreuse Daffodil    dwr\\2579423.jpg  21710.0  \n",
       "2  Aviator Black Chartreuse Daffodil  dwr\\2579424-2.jpg  18076.5  \n",
       "3              Bark Basil Blue Blush  dwr\\2195266-1.jpg   9770.0  \n",
       "4           Balsa Black Bruno Canyon  dwr\\2195267-2.jpg  18295.0  "
      ]
     },
     "execution_count": 52,
     "metadata": {},
     "output_type": "execute_result"
    }
   ],
   "source": [
    "df.head()"
   ]
  },
  {
   "cell_type": "markdown",
   "metadata": {},
   "source": [
    "# Droping Duplicate"
   ]
  },
  {
   "cell_type": "code",
   "execution_count": 53,
   "metadata": {},
   "outputs": [],
   "source": [
    "df.drop_duplicates(subset = \"Title\",inplace=True)"
   ]
  },
  {
   "cell_type": "code",
   "execution_count": 54,
   "metadata": {},
   "outputs": [
    {
     "name": "stdout",
     "output_type": "stream",
     "text": [
      "<class 'pandas.core.frame.DataFrame'>\n",
      "Index: 2017 entries, 0 to 2755\n",
      "Data columns (total 6 columns):\n",
      " #   Column      Non-Null Count  Dtype  \n",
      "---  ------      --------------  -----  \n",
      " 0   id          2017 non-null   object \n",
      " 1   Title       2017 non-null   object \n",
      " 2   brand       2006 non-null   object \n",
      " 3   Colors      2017 non-null   object \n",
      " 4   image_path  2010 non-null   object \n",
      " 5   Price       1176 non-null   float64\n",
      "dtypes: float64(1), object(5)\n",
      "memory usage: 110.3+ KB\n"
     ]
    }
   ],
   "source": [
    "df.info()"
   ]
  },
  {
   "cell_type": "markdown",
   "metadata": {},
   "source": [
    "# Making the Links Right"
   ]
  },
  {
   "cell_type": "code",
   "execution_count": 39,
   "metadata": {},
   "outputs": [],
   "source": [
    "df['Link']=df['Link'].str.replace('https://www.example.com/','https://www.containerstore.com/')"
   ]
  },
  {
   "cell_type": "markdown",
   "metadata": {},
   "source": [
    "# Replacing Commas in Colors Column"
   ]
  },
  {
   "cell_type": "code",
   "execution_count": 18,
   "metadata": {},
   "outputs": [],
   "source": [
    "df['Colors']=df['Colors'].str.replace(',','')"
   ]
  },
  {
   "cell_type": "code",
   "execution_count": 19,
   "metadata": {},
   "outputs": [
    {
     "data": {
      "text/html": [
       "<div>\n",
       "<style scoped>\n",
       "    .dataframe tbody tr th:only-of-type {\n",
       "        vertical-align: middle;\n",
       "    }\n",
       "\n",
       "    .dataframe tbody tr th {\n",
       "        vertical-align: top;\n",
       "    }\n",
       "\n",
       "    .dataframe thead th {\n",
       "        text-align: right;\n",
       "    }\n",
       "</style>\n",
       "<table border=\"1\" class=\"dataframe\">\n",
       "  <thead>\n",
       "    <tr style=\"text-align: right;\">\n",
       "      <th></th>\n",
       "      <th>Title</th>\n",
       "      <th>Price</th>\n",
       "      <th>Colors</th>\n",
       "      <th>Link</th>\n",
       "    </tr>\n",
       "  </thead>\n",
       "  <tbody>\n",
       "    <tr>\n",
       "      <th>0</th>\n",
       "      <td>The Container Store Samson Faux Leather Bin</td>\n",
       "      <td>94.99</td>\n",
       "      <td>css-1jtiraa css-1xx16ea</td>\n",
       "      <td>https://www.example.com/s/home-decor/home-decor-new-arrivals/the-container-store-samson-faux-leather-bin/12d?productId=11023148</td>\n",
       "    </tr>\n",
       "    <tr>\n",
       "      <th>1</th>\n",
       "      <td>Zafferano Poldina Pro Wireless Lamp</td>\n",
       "      <td>169.00</td>\n",
       "      <td>css-abqf3x css-1ljdx5i css-1xx16ea</td>\n",
       "      <td>https://www.example.com/s/home-decor/home-decor-new-arrivals/zafferano-poldina-pro-wireless-lamp/12d?productId=11024636</td>\n",
       "    </tr>\n",
       "    <tr>\n",
       "      <th>2</th>\n",
       "      <td>The Container Store Rattan Bins with Lid</td>\n",
       "      <td>144.99</td>\n",
       "      <td>NaN</td>\n",
       "      <td>https://www.example.com/s/home-decor/home-decor-new-arrivals/the-container-store-rattan-bins-with-lid/12d?productId=11023133</td>\n",
       "    </tr>\n",
       "    <tr>\n",
       "      <th>3</th>\n",
       "      <td>The Container Store Pacific Bin</td>\n",
       "      <td>34.99</td>\n",
       "      <td>NaN</td>\n",
       "      <td>https://www.example.com/s/home-decor/home-decor-new-arrivals/the-container-store-pacific-bin/12d?productId=11023713</td>\n",
       "    </tr>\n",
       "    <tr>\n",
       "      <th>4</th>\n",
       "      <td>Yamazaki Tower Narrow Entryway Console Table</td>\n",
       "      <td>79.00</td>\n",
       "      <td>css-1xx16ea css-abqf3x</td>\n",
       "      <td>https://www.example.com/s/home-decor/home-decor-new-arrivals/yamazaki-tower-narrow-entryway-console-table/12d?productId=11024476</td>\n",
       "    </tr>\n",
       "  </tbody>\n",
       "</table>\n",
       "</div>"
      ],
      "text/plain": [
       "                                          Title   Price  \\\n",
       "0   The Container Store Samson Faux Leather Bin   94.99   \n",
       "1           Zafferano Poldina Pro Wireless Lamp  169.00   \n",
       "2      The Container Store Rattan Bins with Lid  144.99   \n",
       "3               The Container Store Pacific Bin   34.99   \n",
       "4  Yamazaki Tower Narrow Entryway Console Table   79.00   \n",
       "\n",
       "                               Colors  \\\n",
       "0             css-1jtiraa css-1xx16ea   \n",
       "1  css-abqf3x css-1ljdx5i css-1xx16ea   \n",
       "2                                 NaN   \n",
       "3                                 NaN   \n",
       "4              css-1xx16ea css-abqf3x   \n",
       "\n",
       "                                                                                                                               Link  \n",
       "0   https://www.example.com/s/home-decor/home-decor-new-arrivals/the-container-store-samson-faux-leather-bin/12d?productId=11023148  \n",
       "1           https://www.example.com/s/home-decor/home-decor-new-arrivals/zafferano-poldina-pro-wireless-lamp/12d?productId=11024636  \n",
       "2      https://www.example.com/s/home-decor/home-decor-new-arrivals/the-container-store-rattan-bins-with-lid/12d?productId=11023133  \n",
       "3               https://www.example.com/s/home-decor/home-decor-new-arrivals/the-container-store-pacific-bin/12d?productId=11023713  \n",
       "4  https://www.example.com/s/home-decor/home-decor-new-arrivals/yamazaki-tower-narrow-entryway-console-table/12d?productId=11024476  "
      ]
     },
     "execution_count": 19,
     "metadata": {},
     "output_type": "execute_result"
    }
   ],
   "source": [
    "df.head()"
   ]
  },
  {
   "cell_type": "code",
   "execution_count": 20,
   "metadata": {},
   "outputs": [],
   "source": [
    "scaler = StandardScaler()"
   ]
  },
  {
   "cell_type": "code",
   "execution_count": 21,
   "metadata": {},
   "outputs": [],
   "source": [
    "df['Price'] = scaler.fit_transform(df[['Price']])"
   ]
  },
  {
   "cell_type": "code",
   "execution_count": 22,
   "metadata": {},
   "outputs": [],
   "source": [
    "df['Colors'] = pd.factorize(df['Colors'])[0]"
   ]
  },
  {
   "cell_type": "code",
   "execution_count": null,
   "metadata": {},
   "outputs": [],
   "source": []
  },
  {
   "cell_type": "code",
   "execution_count": 23,
   "metadata": {},
   "outputs": [],
   "source": [
    "# Creating feature vectors\n",
    "features = df[['Colors', 'Price']].values\n",
    "\n",
    "# Compute cosine similarity matrix\n",
    "similarity_matrix = cosine_similarity(features, features)"
   ]
  },
  {
   "cell_type": "code",
   "execution_count": 41,
   "metadata": {},
   "outputs": [
    {
     "name": "stdout",
     "output_type": "stream",
     "text": [
      "Because you viewed YouCopia ReStickable 3D Fridge Labels Pack of 10, you may also like: Command Large Double Hook, 6-Pocket Mesh Shower Caddy, Chrome Metal Purse Hangers Pkg/6, The Container Store All-Purpose Storage Bag, Large Tall Cabinet Shelf, White Long Grid Stackable Shelf, Erasable Food Storage Labels, Built NY Stainless Steel Utensil Set, Progressive Magnetic Kitchen Scissors, RSVP Silicone Straws with Cleaner Pkg/6\n"
     ]
    }
   ],
   "source": [
    "def recommend_items(item_name, similarity_matrix, df, top_n=10):\n",
    "    if item_name not in df['Title'].values:\n",
    "        return f\"Item '{item_name}' not found in the dataset.\"\n",
    "\n",
    "    item_index = df.index[df['Title'] == item_name].tolist()[0]\n",
    "\n",
    "    similarity_scores = list(enumerate(similarity_matrix[item_index]))\n",
    "\n",
    "    similarity_scores = sorted(similarity_scores, key=lambda x: x[1], reverse=True)\n",
    "\n",
    "    top_similar_items = similarity_scores[1:top_n+1]\n",
    "\n",
    "    recommended_items = [df.iloc[item[0]]['Title'] for item in top_similar_items]\n",
    "\n",
    "    return recommended_items\n",
    "\n",
    "# Example usage\n",
    "item_name = 'YouCopia ReStickable 3D Fridge Labels Pack of 10'\n",
    "recommendations = recommend_items(item_name, similarity_matrix, df)\n",
    "print(f\"Because you viewed {item_name}, you may also like: {', '.join(recommendations)}\")\n"
   ]
  },
  {
   "cell_type": "code",
   "execution_count": 42,
   "metadata": {},
   "outputs": [
    {
     "data": {
      "text/plain": [
       "['Command Large Double Hook',\n",
       " '6-Pocket Mesh Shower Caddy',\n",
       " 'Chrome Metal Purse Hangers Pkg/6',\n",
       " 'The Container Store All-Purpose Storage Bag',\n",
       " 'Large Tall Cabinet Shelf',\n",
       " 'White Long Grid Stackable Shelf',\n",
       " 'Erasable Food Storage Labels',\n",
       " 'Built NY Stainless Steel Utensil Set',\n",
       " 'Progressive Magnetic Kitchen Scissors',\n",
       " 'RSVP Silicone Straws with Cleaner Pkg/6']"
      ]
     },
     "execution_count": 42,
     "metadata": {},
     "output_type": "execute_result"
    }
   ],
   "source": [
    "recommendations"
   ]
  },
  {
   "cell_type": "code",
   "execution_count": 43,
   "metadata": {},
   "outputs": [
    {
     "data": {
      "text/html": [
       "<div>\n",
       "<style scoped>\n",
       "    .dataframe tbody tr th:only-of-type {\n",
       "        vertical-align: middle;\n",
       "    }\n",
       "\n",
       "    .dataframe tbody tr th {\n",
       "        vertical-align: top;\n",
       "    }\n",
       "\n",
       "    .dataframe thead th {\n",
       "        text-align: right;\n",
       "    }\n",
       "</style>\n",
       "<table border=\"1\" class=\"dataframe\">\n",
       "  <thead>\n",
       "    <tr style=\"text-align: right;\">\n",
       "      <th></th>\n",
       "      <th>Title</th>\n",
       "      <th>Price</th>\n",
       "      <th>Colors</th>\n",
       "      <th>Link</th>\n",
       "    </tr>\n",
       "  </thead>\n",
       "  <tbody>\n",
       "    <tr>\n",
       "      <th>1441</th>\n",
       "      <td>YouCopia ReStickable 3D Fridge Labels Pack of 10</td>\n",
       "      <td>-0.433485</td>\n",
       "      <td>-1</td>\n",
       "      <td>https://www.containerstore.com/s/elfa/complete-your-elfa-space/youcopia-restickable-3d-fridge-labels-pkg~10/12d?productId=11019795</td>\n",
       "    </tr>\n",
       "  </tbody>\n",
       "</table>\n",
       "</div>"
      ],
      "text/plain": [
       "                                                 Title     Price  Colors  \\\n",
       "1441  YouCopia ReStickable 3D Fridge Labels Pack of 10 -0.433485      -1   \n",
       "\n",
       "                                                                                                                                    Link  \n",
       "1441  https://www.containerstore.com/s/elfa/complete-your-elfa-space/youcopia-restickable-3d-fridge-labels-pkg~10/12d?productId=11019795  "
      ]
     },
     "execution_count": 43,
     "metadata": {},
     "output_type": "execute_result"
    }
   ],
   "source": [
    "df[df['Title']==item_name]"
   ]
  },
  {
   "cell_type": "code",
   "execution_count": 44,
   "metadata": {},
   "outputs": [
    {
     "data": {
      "text/plain": [
       "1441    https://www.containerstore.com/s/elfa/complete-your-elfa-space/youcopia-restickable-3d-fridge-labels-pkg~10/12d?productId=11019795\n",
       "Name: Link, dtype: object"
      ]
     },
     "execution_count": 44,
     "metadata": {},
     "output_type": "execute_result"
    }
   ],
   "source": [
    "df[df['Title']==item_name]['Link']"
   ]
  },
  {
   "cell_type": "code",
   "execution_count": 45,
   "metadata": {},
   "outputs": [
    {
     "data": {
      "text/plain": [
       "[215    https://www.containerstore.com/s/office/new-office-arrivals/command-large-double-hook/12d?productId=11024883\n",
       " Name: Link, dtype: object,\n",
       " 238    https://www.containerstore.com/s/bath/bathroom-new-arrivals/6_pocket-mesh-shower-caddy/12d?productId=11024855\n",
       " Name: Link, dtype: object,\n",
       " 1281    https://www.containerstore.com/s/elfa/complete-your-elfa-space/chrome-metal-purse-hangers/12d?productId=10037214\n",
       " Name: Link, dtype: object,\n",
       " 1282    https://www.containerstore.com/s/elfa/complete-your-elfa-space/the-container-store-all_purpose-storage-bag/12d?productId=11023043\n",
       " Name: Link, dtype: object,\n",
       " 1341    https://www.containerstore.com/s/elfa/complete-your-elfa-space/large-tall-cabinet-shelf/12d?productId=10035747\n",
       " Name: Link, dtype: object,\n",
       " 1367    https://www.containerstore.com/s/elfa/complete-your-elfa-space/white-long-grid-stackable-shelf/12d?productId=11002124\n",
       " Name: Link, dtype: object,\n",
       " 1446    https://www.containerstore.com/s/elfa/complete-your-elfa-space/erasable-food-storage-labels/12d?productId=10009870\n",
       " Name: Link, dtype: object,\n",
       " 1740    https://www.containerstore.com/s/the-college-shop/kitchen-essentials/built-ny-stainless-steel-utensil-set/12d?productId=11009025\n",
       " Name: Link, dtype: object,\n",
       " 1780    https://www.containerstore.com/s/the-college-shop/kitchen-essentials/progressive-magnetic-kitchen-scissors/12d?productId=11015213\n",
       " Name: Link, dtype: object,\n",
       " 1807    https://www.containerstore.com/s/the-college-shop/kitchen-essentials/rsvp-silicone-straws-with-cleaner/12d?productId=11010091\n",
       " Name: Link, dtype: object]"
      ]
     },
     "execution_count": 45,
     "metadata": {},
     "output_type": "execute_result"
    }
   ],
   "source": [
    "[df[df['Title']==rec]['Link'] for rec in recommendations]"
   ]
  },
  {
   "cell_type": "code",
   "execution_count": null,
   "metadata": {},
   "outputs": [],
   "source": []
  },
  {
   "cell_type": "code",
   "execution_count": null,
   "metadata": {},
   "outputs": [],
   "source": []
  },
  {
   "cell_type": "code",
   "execution_count": 22,
   "metadata": {},
   "outputs": [
    {
     "name": "stdout",
     "output_type": "stream",
     "text": [
      "['Aviator', 'Black', 'Chartreuse', 'Daffodil']\n"
     ]
    }
   ],
   "source": [
    "import re\n",
    "\n",
    "# Example string\n",
    "text = \"['Aviator', 'Black', 'Chartreuse', 'Daffodil']\"\n",
    "\n",
    "# Extract words using regex\n",
    "words = re.findall(r'\\b\\w+\\b', text)\n",
    "\n",
    "print(words)"
   ]
  },
  {
   "cell_type": "code",
   "execution_count": null,
   "metadata": {},
   "outputs": [],
   "source": []
  },
  {
   "cell_type": "code",
   "execution_count": null,
   "metadata": {},
   "outputs": [],
   "source": []
  },
  {
   "cell_type": "code",
   "execution_count": null,
   "metadata": {},
   "outputs": [],
   "source": [
    "import pandas as pd\n",
    "from sklearn.metrics.pairwise import cosine_similarity\n",
    "from sklearn.preprocessing import StandardScaler\n",
    "\n",
    "# Example dataset (replace with your actual dataset loading)\n",
    "data = {\n",
    "    'furniture_name': ['Sofa', 'Table', 'Chair', 'Cushion', 'Bed', 'Desk'],\n",
    "    'color': ['Red', 'Brown', 'White', 'Blue', 'Black', 'Brown'],\n",
    "    'price': [500, 300, 150, 50, 800, 400]\n",
    "}\n",
    "\n",
    "df = pd.DataFrame(data)\n",
    "\n",
    "# Encoding categorical variables (color)\n",
    "df['color_encoded'] = pd.factorize(df['color'])[0]\n",
    "\n",
    "# Scaling numerical features (price)\n",
    "scaler = StandardScaler()\n",
    "df['price_scaled'] = scaler.fit_transform(df[['price']])\n",
    "\n",
    "# Creating feature vectors\n",
    "features = df[['color_encoded', 'price_scaled']].values\n",
    "\n",
    "# Compute cosine similarity matrix\n",
    "similarity_matrix = cosine_similarity(features, features)\n",
    "\n",
    "# Function to recommend items\n",
    "def recommend_items(item_name, similarity_matrix, df, top_n=3):\n",
    "    item_index = df.index[df['furniture_name'] == item_name][0]\n",
    "    similarity_scores = list(enumerate(similarity_matrix[item_index]))\n",
    "    similarity_scores = sorted(similarity_scores, key=lambda x: x[1], reverse=True)\n",
    "    top_similar_items = similarity_scores[1:top_n+1]  # Exclude itself, get top N similar items\n",
    "    recommended_items = [df.iloc[item[0]]['furniture_name'] for item in top_similar_items]\n",
    "    return recommended_items\n",
    "\n",
    "# Example usage\n",
    "item_name = 'Sofa'\n",
    "recommendations = recommend_items(item_name, similarity_matrix, df)\n",
    "print(f\"Because you viewed {item_name}, you may also like: {', '.join(recommendations)}\")\n"
   ]
  },
  {
   "cell_type": "code",
   "execution_count": null,
   "metadata": {},
   "outputs": [],
   "source": []
  }
 ],
 "metadata": {
  "kernelspec": {
   "display_name": ".venv",
   "language": "python",
   "name": "python3"
  },
  "language_info": {
   "codemirror_mode": {
    "name": "ipython",
    "version": 3
   },
   "file_extension": ".py",
   "mimetype": "text/x-python",
   "name": "python",
   "nbconvert_exporter": "python",
   "pygments_lexer": "ipython3",
   "version": "3.9.13"
  }
 },
 "nbformat": 4,
 "nbformat_minor": 2
}
