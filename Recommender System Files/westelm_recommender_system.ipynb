{
 "cells": [
  {
   "cell_type": "markdown",
   "metadata": {},
   "source": [
    "# Import Libraries"
   ]
  },
  {
   "cell_type": "code",
   "execution_count": 1,
   "metadata": {},
   "outputs": [],
   "source": [
    "import pandas as pd \n",
    "import numpy as np\n",
    "import re\n",
    "from sklearn.metrics.pairwise import cosine_similarity\n",
    "from sklearn.preprocessing import StandardScaler\n",
    "pd.set_option('display.max_colwidth', None) "
   ]
  },
  {
   "cell_type": "markdown",
   "metadata": {},
   "source": [
    "# Loading Dataframe"
   ]
  },
  {
   "cell_type": "code",
   "execution_count": 2,
   "metadata": {},
   "outputs": [],
   "source": [
    "df=pd.read_csv('../data/Westelm_data.csv')"
   ]
  },
  {
   "cell_type": "code",
   "execution_count": 3,
   "metadata": {},
   "outputs": [
    {
     "name": "stdout",
     "output_type": "stream",
     "text": [
      "<class 'pandas.core.frame.DataFrame'>\n",
      "RangeIndex: 4257 entries, 0 to 4256\n",
      "Data columns (total 6 columns):\n",
      " #   Column         Non-Null Count  Dtype \n",
      "---  ------         --------------  ----- \n",
      " 0   Title          4257 non-null   object\n",
      " 1   Link           4257 non-null   object\n",
      " 2   Sale Price     4257 non-null   object\n",
      " 3   Regular Price  4257 non-null   object\n",
      " 4   Image Path     4257 non-null   object\n",
      " 5   Swatch Colors  3165 non-null   object\n",
      "dtypes: object(6)\n",
      "memory usage: 199.7+ KB\n"
     ]
    }
   ],
   "source": [
    "df.info()"
   ]
  },
  {
   "cell_type": "code",
   "execution_count": 4,
   "metadata": {},
   "outputs": [
    {
     "data": {
      "text/html": [
       "<div>\n",
       "<style scoped>\n",
       "    .dataframe tbody tr th:only-of-type {\n",
       "        vertical-align: middle;\n",
       "    }\n",
       "\n",
       "    .dataframe tbody tr th {\n",
       "        vertical-align: top;\n",
       "    }\n",
       "\n",
       "    .dataframe thead th {\n",
       "        text-align: right;\n",
       "    }\n",
       "</style>\n",
       "<table border=\"1\" class=\"dataframe\">\n",
       "  <thead>\n",
       "    <tr style=\"text-align: right;\">\n",
       "      <th></th>\n",
       "      <th>Title</th>\n",
       "      <th>Link</th>\n",
       "      <th>Sale Price</th>\n",
       "      <th>Regular Price</th>\n",
       "      <th>Image Path</th>\n",
       "      <th>Swatch Colors</th>\n",
       "    </tr>\n",
       "  </thead>\n",
       "  <tbody>\n",
       "    <tr>\n",
       "      <th>0</th>\n",
       "      <td>Haven 2-Piece Bumper Chaise Sectional (106\"–113\")</td>\n",
       "      <td>https://www.westelm.com/products/haven-2-piece-terminal-chaise-sectional-h3422/?pkey=csectionals</td>\n",
       "      <td>2,633.30</td>\n",
       "      <td>4,698</td>\n",
       "      <td>images/Haven_2-Piece_Bumper_Chaise_Sectional_(106\"–113\").jpg</td>\n",
       "      <td>Performance Yarn Dyed Linen Weave, Alabaster, Performance Yarn Dyed Linen Weave, Pewter, Performance Yarn Dyed Linen Weave, Graphite, Performance Yarn Dyed Linen Weave, Frost Gray</td>\n",
       "    </tr>\n",
       "    <tr>\n",
       "      <th>1</th>\n",
       "      <td>Laurent 2-Piece Wedge Chaise Sectional (111.5\")</td>\n",
       "      <td>https://www.westelm.com/products/laurent-2-piece-wedge-chaise-sectional-h12004/?pkey=csectionals</td>\n",
       "      <td>2,399</td>\n",
       "      <td>2,999</td>\n",
       "      <td>images/Laurent_2-Piece_Wedge_Chaise_Sectional_(111.5\").jpg</td>\n",
       "      <td>Performance Yarn Dyed Linen Weave, Alabaster, Performance Yarn Dyed Linen Weave, Frost Gray, Performance Yarn Dyed Linen Weave, Sand, Yarn Dyed Linen Weave, Graphite</td>\n",
       "    </tr>\n",
       "    <tr>\n",
       "      <th>2</th>\n",
       "      <td>Marin 2-Piece Bumper Chaise Sectional (114\")</td>\n",
       "      <td>https://www.westelm.com/products/marin-terminal-chaise-sectional-h6956/?pkey=csectionals</td>\n",
       "      <td>2,309.99</td>\n",
       "      <td>4,098</td>\n",
       "      <td>images/Marin_2-Piece_Bumper_Chaise_Sectional_(114\").jpg</td>\n",
       "      <td>Performance Yarn Dyed Linen Weave, Alabaster, Performance Yarn Dyed Linen Weave, Graphite, Performance Yarn Dyed Linen Weave, Frost Gray, Performance Yarn Dyed Linen Weave, Sand</td>\n",
       "    </tr>\n",
       "    <tr>\n",
       "      <th>3</th>\n",
       "      <td>Harris 2-Piece Bumper Chaise Sectional (100\"–116\")</td>\n",
       "      <td>https://www.westelm.com/products/harris-2-piece-terminal-sectional-h4618/?pkey=csectionals</td>\n",
       "      <td>2,198</td>\n",
       "      <td>3,598</td>\n",
       "      <td>images/Harris_2-Piece_Bumper_Chaise_Sectional_(100\"–116\").jpg</td>\n",
       "      <td>Performance Yarn Dyed Linen Weave, Alabaster, Performance Yarn Dyed Linen Weave, Graphite, Performance Yarn Dyed Linen Weave, Frost Gray, Performance Yarn Dyed Linen Weave, Midnight</td>\n",
       "    </tr>\n",
       "    <tr>\n",
       "      <th>4</th>\n",
       "      <td>Harmony 2-Piece Chaise Sectional (112\"–128\")</td>\n",
       "      <td>https://www.westelm.com/products/harmony-2-piece-chaise-sectional-h2478/?pkey=csectionals</td>\n",
       "      <td>3,228.30</td>\n",
       "      <td>5,098</td>\n",
       "      <td>images/Harmony_2-Piece_Chaise_Sectional_(112\"–128\").jpg</td>\n",
       "      <td>Performance Yarn Dyed Linen Weave, Alabaster, Performance Yarn Dyed Linen Weave, Graphite, Performance Yarn Dyed Linen Weave, Frost Gray, Yarn Dyed Linen Weave, Alabaster</td>\n",
       "    </tr>\n",
       "  </tbody>\n",
       "</table>\n",
       "</div>"
      ],
      "text/plain": [
       "                                                Title  \\\n",
       "0   Haven 2-Piece Bumper Chaise Sectional (106\"–113\")   \n",
       "1     Laurent 2-Piece Wedge Chaise Sectional (111.5\")   \n",
       "2        Marin 2-Piece Bumper Chaise Sectional (114\")   \n",
       "3  Harris 2-Piece Bumper Chaise Sectional (100\"–116\")   \n",
       "4        Harmony 2-Piece Chaise Sectional (112\"–128\")   \n",
       "\n",
       "                                                                                               Link  \\\n",
       "0  https://www.westelm.com/products/haven-2-piece-terminal-chaise-sectional-h3422/?pkey=csectionals   \n",
       "1  https://www.westelm.com/products/laurent-2-piece-wedge-chaise-sectional-h12004/?pkey=csectionals   \n",
       "2          https://www.westelm.com/products/marin-terminal-chaise-sectional-h6956/?pkey=csectionals   \n",
       "3        https://www.westelm.com/products/harris-2-piece-terminal-sectional-h4618/?pkey=csectionals   \n",
       "4         https://www.westelm.com/products/harmony-2-piece-chaise-sectional-h2478/?pkey=csectionals   \n",
       "\n",
       "  Sale Price Regular Price  \\\n",
       "0   2,633.30         4,698   \n",
       "1      2,399         2,999   \n",
       "2   2,309.99         4,098   \n",
       "3      2,198         3,598   \n",
       "4   3,228.30         5,098   \n",
       "\n",
       "                                                      Image Path  \\\n",
       "0   images/Haven_2-Piece_Bumper_Chaise_Sectional_(106\"–113\").jpg   \n",
       "1     images/Laurent_2-Piece_Wedge_Chaise_Sectional_(111.5\").jpg   \n",
       "2        images/Marin_2-Piece_Bumper_Chaise_Sectional_(114\").jpg   \n",
       "3  images/Harris_2-Piece_Bumper_Chaise_Sectional_(100\"–116\").jpg   \n",
       "4        images/Harmony_2-Piece_Chaise_Sectional_(112\"–128\").jpg   \n",
       "\n",
       "                                                                                                                                                                           Swatch Colors  \n",
       "0    Performance Yarn Dyed Linen Weave, Alabaster, Performance Yarn Dyed Linen Weave, Pewter, Performance Yarn Dyed Linen Weave, Graphite, Performance Yarn Dyed Linen Weave, Frost Gray  \n",
       "1                  Performance Yarn Dyed Linen Weave, Alabaster, Performance Yarn Dyed Linen Weave, Frost Gray, Performance Yarn Dyed Linen Weave, Sand, Yarn Dyed Linen Weave, Graphite  \n",
       "2      Performance Yarn Dyed Linen Weave, Alabaster, Performance Yarn Dyed Linen Weave, Graphite, Performance Yarn Dyed Linen Weave, Frost Gray, Performance Yarn Dyed Linen Weave, Sand  \n",
       "3  Performance Yarn Dyed Linen Weave, Alabaster, Performance Yarn Dyed Linen Weave, Graphite, Performance Yarn Dyed Linen Weave, Frost Gray, Performance Yarn Dyed Linen Weave, Midnight  \n",
       "4             Performance Yarn Dyed Linen Weave, Alabaster, Performance Yarn Dyed Linen Weave, Graphite, Performance Yarn Dyed Linen Weave, Frost Gray, Yarn Dyed Linen Weave, Alabaster  "
      ]
     },
     "execution_count": 4,
     "metadata": {},
     "output_type": "execute_result"
    }
   ],
   "source": [
    "df.head()"
   ]
  },
  {
   "cell_type": "code",
   "execution_count": 5,
   "metadata": {},
   "outputs": [
    {
     "data": {
      "text/plain": [
       "Title               0\n",
       "Link                0\n",
       "Sale Price          0\n",
       "Regular Price       0\n",
       "Image Path          0\n",
       "Swatch Colors    1092\n",
       "dtype: int64"
      ]
     },
     "execution_count": 5,
     "metadata": {},
     "output_type": "execute_result"
    }
   ],
   "source": [
    "df.isna().sum()"
   ]
  },
  {
   "cell_type": "code",
   "execution_count": 6,
   "metadata": {},
   "outputs": [],
   "source": [
    "df = df[['Title','Sale Price','Swatch Colors','Link']]"
   ]
  },
  {
   "cell_type": "code",
   "execution_count": 7,
   "metadata": {},
   "outputs": [
    {
     "data": {
      "text/plain": [
       "Title               0\n",
       "Sale Price          0\n",
       "Swatch Colors    1092\n",
       "Link                0\n",
       "dtype: int64"
      ]
     },
     "execution_count": 7,
     "metadata": {},
     "output_type": "execute_result"
    }
   ],
   "source": [
    "df.isna().sum()"
   ]
  },
  {
   "cell_type": "code",
   "execution_count": 8,
   "metadata": {},
   "outputs": [
    {
     "name": "stdout",
     "output_type": "stream",
     "text": [
      "<class 'pandas.core.frame.DataFrame'>\n",
      "RangeIndex: 4257 entries, 0 to 4256\n",
      "Data columns (total 4 columns):\n",
      " #   Column         Non-Null Count  Dtype \n",
      "---  ------         --------------  ----- \n",
      " 0   Title          4257 non-null   object\n",
      " 1   Sale Price     4257 non-null   object\n",
      " 2   Swatch Colors  3165 non-null   object\n",
      " 3   Link           4257 non-null   object\n",
      "dtypes: object(4)\n",
      "memory usage: 133.2+ KB\n"
     ]
    }
   ],
   "source": [
    "df.info()"
   ]
  },
  {
   "cell_type": "code",
   "execution_count": 9,
   "metadata": {},
   "outputs": [],
   "source": [
    "df.rename(columns={'Sale Price': 'Price',\n",
    "                   'Swatch Colors': 'Colors'},\n",
    "          inplace=True, errors='raise')"
   ]
  },
  {
   "cell_type": "markdown",
   "metadata": {},
   "source": [
    "# Displaying Dataset"
   ]
  },
  {
   "cell_type": "code",
   "execution_count": 10,
   "metadata": {},
   "outputs": [
    {
     "data": {
      "text/html": [
       "<div>\n",
       "<style scoped>\n",
       "    .dataframe tbody tr th:only-of-type {\n",
       "        vertical-align: middle;\n",
       "    }\n",
       "\n",
       "    .dataframe tbody tr th {\n",
       "        vertical-align: top;\n",
       "    }\n",
       "\n",
       "    .dataframe thead th {\n",
       "        text-align: right;\n",
       "    }\n",
       "</style>\n",
       "<table border=\"1\" class=\"dataframe\">\n",
       "  <thead>\n",
       "    <tr style=\"text-align: right;\">\n",
       "      <th></th>\n",
       "      <th>Title</th>\n",
       "      <th>Price</th>\n",
       "      <th>Colors</th>\n",
       "      <th>Link</th>\n",
       "    </tr>\n",
       "  </thead>\n",
       "  <tbody>\n",
       "    <tr>\n",
       "      <th>0</th>\n",
       "      <td>Haven 2-Piece Bumper Chaise Sectional (106\"–113\")</td>\n",
       "      <td>2,633.30</td>\n",
       "      <td>Performance Yarn Dyed Linen Weave, Alabaster, Performance Yarn Dyed Linen Weave, Pewter, Performance Yarn Dyed Linen Weave, Graphite, Performance Yarn Dyed Linen Weave, Frost Gray</td>\n",
       "      <td>https://www.westelm.com/products/haven-2-piece-terminal-chaise-sectional-h3422/?pkey=csectionals</td>\n",
       "    </tr>\n",
       "    <tr>\n",
       "      <th>1</th>\n",
       "      <td>Laurent 2-Piece Wedge Chaise Sectional (111.5\")</td>\n",
       "      <td>2,399</td>\n",
       "      <td>Performance Yarn Dyed Linen Weave, Alabaster, Performance Yarn Dyed Linen Weave, Frost Gray, Performance Yarn Dyed Linen Weave, Sand, Yarn Dyed Linen Weave, Graphite</td>\n",
       "      <td>https://www.westelm.com/products/laurent-2-piece-wedge-chaise-sectional-h12004/?pkey=csectionals</td>\n",
       "    </tr>\n",
       "    <tr>\n",
       "      <th>2</th>\n",
       "      <td>Marin 2-Piece Bumper Chaise Sectional (114\")</td>\n",
       "      <td>2,309.99</td>\n",
       "      <td>Performance Yarn Dyed Linen Weave, Alabaster, Performance Yarn Dyed Linen Weave, Graphite, Performance Yarn Dyed Linen Weave, Frost Gray, Performance Yarn Dyed Linen Weave, Sand</td>\n",
       "      <td>https://www.westelm.com/products/marin-terminal-chaise-sectional-h6956/?pkey=csectionals</td>\n",
       "    </tr>\n",
       "    <tr>\n",
       "      <th>3</th>\n",
       "      <td>Harris 2-Piece Bumper Chaise Sectional (100\"–116\")</td>\n",
       "      <td>2,198</td>\n",
       "      <td>Performance Yarn Dyed Linen Weave, Alabaster, Performance Yarn Dyed Linen Weave, Graphite, Performance Yarn Dyed Linen Weave, Frost Gray, Performance Yarn Dyed Linen Weave, Midnight</td>\n",
       "      <td>https://www.westelm.com/products/harris-2-piece-terminal-sectional-h4618/?pkey=csectionals</td>\n",
       "    </tr>\n",
       "    <tr>\n",
       "      <th>4</th>\n",
       "      <td>Harmony 2-Piece Chaise Sectional (112\"–128\")</td>\n",
       "      <td>3,228.30</td>\n",
       "      <td>Performance Yarn Dyed Linen Weave, Alabaster, Performance Yarn Dyed Linen Weave, Graphite, Performance Yarn Dyed Linen Weave, Frost Gray, Yarn Dyed Linen Weave, Alabaster</td>\n",
       "      <td>https://www.westelm.com/products/harmony-2-piece-chaise-sectional-h2478/?pkey=csectionals</td>\n",
       "    </tr>\n",
       "  </tbody>\n",
       "</table>\n",
       "</div>"
      ],
      "text/plain": [
       "                                                Title     Price  \\\n",
       "0   Haven 2-Piece Bumper Chaise Sectional (106\"–113\")  2,633.30   \n",
       "1     Laurent 2-Piece Wedge Chaise Sectional (111.5\")     2,399   \n",
       "2        Marin 2-Piece Bumper Chaise Sectional (114\")  2,309.99   \n",
       "3  Harris 2-Piece Bumper Chaise Sectional (100\"–116\")     2,198   \n",
       "4        Harmony 2-Piece Chaise Sectional (112\"–128\")  3,228.30   \n",
       "\n",
       "                                                                                                                                                                                  Colors  \\\n",
       "0    Performance Yarn Dyed Linen Weave, Alabaster, Performance Yarn Dyed Linen Weave, Pewter, Performance Yarn Dyed Linen Weave, Graphite, Performance Yarn Dyed Linen Weave, Frost Gray   \n",
       "1                  Performance Yarn Dyed Linen Weave, Alabaster, Performance Yarn Dyed Linen Weave, Frost Gray, Performance Yarn Dyed Linen Weave, Sand, Yarn Dyed Linen Weave, Graphite   \n",
       "2      Performance Yarn Dyed Linen Weave, Alabaster, Performance Yarn Dyed Linen Weave, Graphite, Performance Yarn Dyed Linen Weave, Frost Gray, Performance Yarn Dyed Linen Weave, Sand   \n",
       "3  Performance Yarn Dyed Linen Weave, Alabaster, Performance Yarn Dyed Linen Weave, Graphite, Performance Yarn Dyed Linen Weave, Frost Gray, Performance Yarn Dyed Linen Weave, Midnight   \n",
       "4             Performance Yarn Dyed Linen Weave, Alabaster, Performance Yarn Dyed Linen Weave, Graphite, Performance Yarn Dyed Linen Weave, Frost Gray, Yarn Dyed Linen Weave, Alabaster   \n",
       "\n",
       "                                                                                               Link  \n",
       "0  https://www.westelm.com/products/haven-2-piece-terminal-chaise-sectional-h3422/?pkey=csectionals  \n",
       "1  https://www.westelm.com/products/laurent-2-piece-wedge-chaise-sectional-h12004/?pkey=csectionals  \n",
       "2          https://www.westelm.com/products/marin-terminal-chaise-sectional-h6956/?pkey=csectionals  \n",
       "3        https://www.westelm.com/products/harris-2-piece-terminal-sectional-h4618/?pkey=csectionals  \n",
       "4         https://www.westelm.com/products/harmony-2-piece-chaise-sectional-h2478/?pkey=csectionals  "
      ]
     },
     "execution_count": 10,
     "metadata": {},
     "output_type": "execute_result"
    }
   ],
   "source": [
    "df.head()"
   ]
  },
  {
   "cell_type": "markdown",
   "metadata": {},
   "source": [
    "# Droping Duplicate"
   ]
  },
  {
   "cell_type": "code",
   "execution_count": 11,
   "metadata": {},
   "outputs": [],
   "source": [
    "df.drop_duplicates(subset = \"Title\",inplace=True)"
   ]
  },
  {
   "cell_type": "code",
   "execution_count": 12,
   "metadata": {},
   "outputs": [
    {
     "name": "stdout",
     "output_type": "stream",
     "text": [
      "<class 'pandas.core.frame.DataFrame'>\n",
      "Index: 2212 entries, 0 to 4123\n",
      "Data columns (total 4 columns):\n",
      " #   Column  Non-Null Count  Dtype \n",
      "---  ------  --------------  ----- \n",
      " 0   Title   2212 non-null   object\n",
      " 1   Price   2212 non-null   object\n",
      " 2   Colors  1599 non-null   object\n",
      " 3   Link    2212 non-null   object\n",
      "dtypes: object(4)\n",
      "memory usage: 86.4+ KB\n"
     ]
    }
   ],
   "source": [
    "df.info()"
   ]
  },
  {
   "cell_type": "markdown",
   "metadata": {},
   "source": [
    "# Using Regex to Clean `Title` Column"
   ]
  },
  {
   "cell_type": "code",
   "execution_count": 13,
   "metadata": {},
   "outputs": [],
   "source": [
    "df['Title'] = df['Title'].str.replace(r'\\s*\\([^)]*\\)', '',regex=True)"
   ]
  },
  {
   "cell_type": "code",
   "execution_count": 14,
   "metadata": {},
   "outputs": [
    {
     "data": {
      "text/html": [
       "<div>\n",
       "<style scoped>\n",
       "    .dataframe tbody tr th:only-of-type {\n",
       "        vertical-align: middle;\n",
       "    }\n",
       "\n",
       "    .dataframe tbody tr th {\n",
       "        vertical-align: top;\n",
       "    }\n",
       "\n",
       "    .dataframe thead th {\n",
       "        text-align: right;\n",
       "    }\n",
       "</style>\n",
       "<table border=\"1\" class=\"dataframe\">\n",
       "  <thead>\n",
       "    <tr style=\"text-align: right;\">\n",
       "      <th></th>\n",
       "      <th>Title</th>\n",
       "      <th>Price</th>\n",
       "      <th>Colors</th>\n",
       "      <th>Link</th>\n",
       "    </tr>\n",
       "  </thead>\n",
       "  <tbody>\n",
       "    <tr>\n",
       "      <th>0</th>\n",
       "      <td>Haven 2-Piece Bumper Chaise Sectional</td>\n",
       "      <td>2,633.30</td>\n",
       "      <td>Performance Yarn Dyed Linen Weave, Alabaster, Performance Yarn Dyed Linen Weave, Pewter, Performance Yarn Dyed Linen Weave, Graphite, Performance Yarn Dyed Linen Weave, Frost Gray</td>\n",
       "      <td>https://www.westelm.com/products/haven-2-piece-terminal-chaise-sectional-h3422/?pkey=csectionals</td>\n",
       "    </tr>\n",
       "    <tr>\n",
       "      <th>1</th>\n",
       "      <td>Laurent 2-Piece Wedge Chaise Sectional</td>\n",
       "      <td>2,399</td>\n",
       "      <td>Performance Yarn Dyed Linen Weave, Alabaster, Performance Yarn Dyed Linen Weave, Frost Gray, Performance Yarn Dyed Linen Weave, Sand, Yarn Dyed Linen Weave, Graphite</td>\n",
       "      <td>https://www.westelm.com/products/laurent-2-piece-wedge-chaise-sectional-h12004/?pkey=csectionals</td>\n",
       "    </tr>\n",
       "    <tr>\n",
       "      <th>2</th>\n",
       "      <td>Marin 2-Piece Bumper Chaise Sectional</td>\n",
       "      <td>2,309.99</td>\n",
       "      <td>Performance Yarn Dyed Linen Weave, Alabaster, Performance Yarn Dyed Linen Weave, Graphite, Performance Yarn Dyed Linen Weave, Frost Gray, Performance Yarn Dyed Linen Weave, Sand</td>\n",
       "      <td>https://www.westelm.com/products/marin-terminal-chaise-sectional-h6956/?pkey=csectionals</td>\n",
       "    </tr>\n",
       "    <tr>\n",
       "      <th>3</th>\n",
       "      <td>Harris 2-Piece Bumper Chaise Sectional</td>\n",
       "      <td>2,198</td>\n",
       "      <td>Performance Yarn Dyed Linen Weave, Alabaster, Performance Yarn Dyed Linen Weave, Graphite, Performance Yarn Dyed Linen Weave, Frost Gray, Performance Yarn Dyed Linen Weave, Midnight</td>\n",
       "      <td>https://www.westelm.com/products/harris-2-piece-terminal-sectional-h4618/?pkey=csectionals</td>\n",
       "    </tr>\n",
       "    <tr>\n",
       "      <th>4</th>\n",
       "      <td>Harmony 2-Piece Chaise Sectional</td>\n",
       "      <td>3,228.30</td>\n",
       "      <td>Performance Yarn Dyed Linen Weave, Alabaster, Performance Yarn Dyed Linen Weave, Graphite, Performance Yarn Dyed Linen Weave, Frost Gray, Yarn Dyed Linen Weave, Alabaster</td>\n",
       "      <td>https://www.westelm.com/products/harmony-2-piece-chaise-sectional-h2478/?pkey=csectionals</td>\n",
       "    </tr>\n",
       "  </tbody>\n",
       "</table>\n",
       "</div>"
      ],
      "text/plain": [
       "                                    Title     Price  \\\n",
       "0   Haven 2-Piece Bumper Chaise Sectional  2,633.30   \n",
       "1  Laurent 2-Piece Wedge Chaise Sectional     2,399   \n",
       "2   Marin 2-Piece Bumper Chaise Sectional  2,309.99   \n",
       "3  Harris 2-Piece Bumper Chaise Sectional     2,198   \n",
       "4        Harmony 2-Piece Chaise Sectional  3,228.30   \n",
       "\n",
       "                                                                                                                                                                                  Colors  \\\n",
       "0    Performance Yarn Dyed Linen Weave, Alabaster, Performance Yarn Dyed Linen Weave, Pewter, Performance Yarn Dyed Linen Weave, Graphite, Performance Yarn Dyed Linen Weave, Frost Gray   \n",
       "1                  Performance Yarn Dyed Linen Weave, Alabaster, Performance Yarn Dyed Linen Weave, Frost Gray, Performance Yarn Dyed Linen Weave, Sand, Yarn Dyed Linen Weave, Graphite   \n",
       "2      Performance Yarn Dyed Linen Weave, Alabaster, Performance Yarn Dyed Linen Weave, Graphite, Performance Yarn Dyed Linen Weave, Frost Gray, Performance Yarn Dyed Linen Weave, Sand   \n",
       "3  Performance Yarn Dyed Linen Weave, Alabaster, Performance Yarn Dyed Linen Weave, Graphite, Performance Yarn Dyed Linen Weave, Frost Gray, Performance Yarn Dyed Linen Weave, Midnight   \n",
       "4             Performance Yarn Dyed Linen Weave, Alabaster, Performance Yarn Dyed Linen Weave, Graphite, Performance Yarn Dyed Linen Weave, Frost Gray, Yarn Dyed Linen Weave, Alabaster   \n",
       "\n",
       "                                                                                               Link  \n",
       "0  https://www.westelm.com/products/haven-2-piece-terminal-chaise-sectional-h3422/?pkey=csectionals  \n",
       "1  https://www.westelm.com/products/laurent-2-piece-wedge-chaise-sectional-h12004/?pkey=csectionals  \n",
       "2          https://www.westelm.com/products/marin-terminal-chaise-sectional-h6956/?pkey=csectionals  \n",
       "3        https://www.westelm.com/products/harris-2-piece-terminal-sectional-h4618/?pkey=csectionals  \n",
       "4         https://www.westelm.com/products/harmony-2-piece-chaise-sectional-h2478/?pkey=csectionals  "
      ]
     },
     "execution_count": 14,
     "metadata": {},
     "output_type": "execute_result"
    }
   ],
   "source": [
    "df.head()"
   ]
  },
  {
   "cell_type": "markdown",
   "metadata": {},
   "source": [
    "# Replacing Commas With Nothing in Price Column"
   ]
  },
  {
   "cell_type": "code",
   "execution_count": 15,
   "metadata": {},
   "outputs": [],
   "source": [
    "df['Price'] = df['Price'].str.replace(',', '',regex=True)"
   ]
  },
  {
   "cell_type": "code",
   "execution_count": 16,
   "metadata": {},
   "outputs": [
    {
     "data": {
      "text/html": [
       "<div>\n",
       "<style scoped>\n",
       "    .dataframe tbody tr th:only-of-type {\n",
       "        vertical-align: middle;\n",
       "    }\n",
       "\n",
       "    .dataframe tbody tr th {\n",
       "        vertical-align: top;\n",
       "    }\n",
       "\n",
       "    .dataframe thead th {\n",
       "        text-align: right;\n",
       "    }\n",
       "</style>\n",
       "<table border=\"1\" class=\"dataframe\">\n",
       "  <thead>\n",
       "    <tr style=\"text-align: right;\">\n",
       "      <th></th>\n",
       "      <th>Title</th>\n",
       "      <th>Price</th>\n",
       "      <th>Colors</th>\n",
       "      <th>Link</th>\n",
       "    </tr>\n",
       "  </thead>\n",
       "  <tbody>\n",
       "    <tr>\n",
       "      <th>0</th>\n",
       "      <td>Haven 2-Piece Bumper Chaise Sectional</td>\n",
       "      <td>2633.30</td>\n",
       "      <td>Performance Yarn Dyed Linen Weave, Alabaster, Performance Yarn Dyed Linen Weave, Pewter, Performance Yarn Dyed Linen Weave, Graphite, Performance Yarn Dyed Linen Weave, Frost Gray</td>\n",
       "      <td>https://www.westelm.com/products/haven-2-piece-terminal-chaise-sectional-h3422/?pkey=csectionals</td>\n",
       "    </tr>\n",
       "    <tr>\n",
       "      <th>1</th>\n",
       "      <td>Laurent 2-Piece Wedge Chaise Sectional</td>\n",
       "      <td>2399</td>\n",
       "      <td>Performance Yarn Dyed Linen Weave, Alabaster, Performance Yarn Dyed Linen Weave, Frost Gray, Performance Yarn Dyed Linen Weave, Sand, Yarn Dyed Linen Weave, Graphite</td>\n",
       "      <td>https://www.westelm.com/products/laurent-2-piece-wedge-chaise-sectional-h12004/?pkey=csectionals</td>\n",
       "    </tr>\n",
       "    <tr>\n",
       "      <th>2</th>\n",
       "      <td>Marin 2-Piece Bumper Chaise Sectional</td>\n",
       "      <td>2309.99</td>\n",
       "      <td>Performance Yarn Dyed Linen Weave, Alabaster, Performance Yarn Dyed Linen Weave, Graphite, Performance Yarn Dyed Linen Weave, Frost Gray, Performance Yarn Dyed Linen Weave, Sand</td>\n",
       "      <td>https://www.westelm.com/products/marin-terminal-chaise-sectional-h6956/?pkey=csectionals</td>\n",
       "    </tr>\n",
       "    <tr>\n",
       "      <th>3</th>\n",
       "      <td>Harris 2-Piece Bumper Chaise Sectional</td>\n",
       "      <td>2198</td>\n",
       "      <td>Performance Yarn Dyed Linen Weave, Alabaster, Performance Yarn Dyed Linen Weave, Graphite, Performance Yarn Dyed Linen Weave, Frost Gray, Performance Yarn Dyed Linen Weave, Midnight</td>\n",
       "      <td>https://www.westelm.com/products/harris-2-piece-terminal-sectional-h4618/?pkey=csectionals</td>\n",
       "    </tr>\n",
       "    <tr>\n",
       "      <th>4</th>\n",
       "      <td>Harmony 2-Piece Chaise Sectional</td>\n",
       "      <td>3228.30</td>\n",
       "      <td>Performance Yarn Dyed Linen Weave, Alabaster, Performance Yarn Dyed Linen Weave, Graphite, Performance Yarn Dyed Linen Weave, Frost Gray, Yarn Dyed Linen Weave, Alabaster</td>\n",
       "      <td>https://www.westelm.com/products/harmony-2-piece-chaise-sectional-h2478/?pkey=csectionals</td>\n",
       "    </tr>\n",
       "  </tbody>\n",
       "</table>\n",
       "</div>"
      ],
      "text/plain": [
       "                                    Title    Price  \\\n",
       "0   Haven 2-Piece Bumper Chaise Sectional  2633.30   \n",
       "1  Laurent 2-Piece Wedge Chaise Sectional     2399   \n",
       "2   Marin 2-Piece Bumper Chaise Sectional  2309.99   \n",
       "3  Harris 2-Piece Bumper Chaise Sectional     2198   \n",
       "4        Harmony 2-Piece Chaise Sectional  3228.30   \n",
       "\n",
       "                                                                                                                                                                                  Colors  \\\n",
       "0    Performance Yarn Dyed Linen Weave, Alabaster, Performance Yarn Dyed Linen Weave, Pewter, Performance Yarn Dyed Linen Weave, Graphite, Performance Yarn Dyed Linen Weave, Frost Gray   \n",
       "1                  Performance Yarn Dyed Linen Weave, Alabaster, Performance Yarn Dyed Linen Weave, Frost Gray, Performance Yarn Dyed Linen Weave, Sand, Yarn Dyed Linen Weave, Graphite   \n",
       "2      Performance Yarn Dyed Linen Weave, Alabaster, Performance Yarn Dyed Linen Weave, Graphite, Performance Yarn Dyed Linen Weave, Frost Gray, Performance Yarn Dyed Linen Weave, Sand   \n",
       "3  Performance Yarn Dyed Linen Weave, Alabaster, Performance Yarn Dyed Linen Weave, Graphite, Performance Yarn Dyed Linen Weave, Frost Gray, Performance Yarn Dyed Linen Weave, Midnight   \n",
       "4             Performance Yarn Dyed Linen Weave, Alabaster, Performance Yarn Dyed Linen Weave, Graphite, Performance Yarn Dyed Linen Weave, Frost Gray, Yarn Dyed Linen Weave, Alabaster   \n",
       "\n",
       "                                                                                               Link  \n",
       "0  https://www.westelm.com/products/haven-2-piece-terminal-chaise-sectional-h3422/?pkey=csectionals  \n",
       "1  https://www.westelm.com/products/laurent-2-piece-wedge-chaise-sectional-h12004/?pkey=csectionals  \n",
       "2          https://www.westelm.com/products/marin-terminal-chaise-sectional-h6956/?pkey=csectionals  \n",
       "3        https://www.westelm.com/products/harris-2-piece-terminal-sectional-h4618/?pkey=csectionals  \n",
       "4         https://www.westelm.com/products/harmony-2-piece-chaise-sectional-h2478/?pkey=csectionals  "
      ]
     },
     "execution_count": 16,
     "metadata": {},
     "output_type": "execute_result"
    }
   ],
   "source": [
    "df.head()"
   ]
  },
  {
   "cell_type": "markdown",
   "metadata": {},
   "source": [
    "# Replacing Commas with Nothing in Colors Column "
   ]
  },
  {
   "cell_type": "code",
   "execution_count": 17,
   "metadata": {},
   "outputs": [],
   "source": [
    "df['Colors']=df['Colors'].str.replace(',','')"
   ]
  },
  {
   "cell_type": "code",
   "execution_count": 18,
   "metadata": {},
   "outputs": [
    {
     "data": {
      "text/html": [
       "<div>\n",
       "<style scoped>\n",
       "    .dataframe tbody tr th:only-of-type {\n",
       "        vertical-align: middle;\n",
       "    }\n",
       "\n",
       "    .dataframe tbody tr th {\n",
       "        vertical-align: top;\n",
       "    }\n",
       "\n",
       "    .dataframe thead th {\n",
       "        text-align: right;\n",
       "    }\n",
       "</style>\n",
       "<table border=\"1\" class=\"dataframe\">\n",
       "  <thead>\n",
       "    <tr style=\"text-align: right;\">\n",
       "      <th></th>\n",
       "      <th>Title</th>\n",
       "      <th>Price</th>\n",
       "      <th>Colors</th>\n",
       "      <th>Link</th>\n",
       "    </tr>\n",
       "  </thead>\n",
       "  <tbody>\n",
       "    <tr>\n",
       "      <th>0</th>\n",
       "      <td>Haven 2-Piece Bumper Chaise Sectional</td>\n",
       "      <td>2633.30</td>\n",
       "      <td>Performance Yarn Dyed Linen Weave Alabaster Performance Yarn Dyed Linen Weave Pewter Performance Yarn Dyed Linen Weave Graphite Performance Yarn Dyed Linen Weave Frost Gray</td>\n",
       "      <td>https://www.westelm.com/products/haven-2-piece-terminal-chaise-sectional-h3422/?pkey=csectionals</td>\n",
       "    </tr>\n",
       "    <tr>\n",
       "      <th>1</th>\n",
       "      <td>Laurent 2-Piece Wedge Chaise Sectional</td>\n",
       "      <td>2399</td>\n",
       "      <td>Performance Yarn Dyed Linen Weave Alabaster Performance Yarn Dyed Linen Weave Frost Gray Performance Yarn Dyed Linen Weave Sand Yarn Dyed Linen Weave Graphite</td>\n",
       "      <td>https://www.westelm.com/products/laurent-2-piece-wedge-chaise-sectional-h12004/?pkey=csectionals</td>\n",
       "    </tr>\n",
       "    <tr>\n",
       "      <th>2</th>\n",
       "      <td>Marin 2-Piece Bumper Chaise Sectional</td>\n",
       "      <td>2309.99</td>\n",
       "      <td>Performance Yarn Dyed Linen Weave Alabaster Performance Yarn Dyed Linen Weave Graphite Performance Yarn Dyed Linen Weave Frost Gray Performance Yarn Dyed Linen Weave Sand</td>\n",
       "      <td>https://www.westelm.com/products/marin-terminal-chaise-sectional-h6956/?pkey=csectionals</td>\n",
       "    </tr>\n",
       "    <tr>\n",
       "      <th>3</th>\n",
       "      <td>Harris 2-Piece Bumper Chaise Sectional</td>\n",
       "      <td>2198</td>\n",
       "      <td>Performance Yarn Dyed Linen Weave Alabaster Performance Yarn Dyed Linen Weave Graphite Performance Yarn Dyed Linen Weave Frost Gray Performance Yarn Dyed Linen Weave Midnight</td>\n",
       "      <td>https://www.westelm.com/products/harris-2-piece-terminal-sectional-h4618/?pkey=csectionals</td>\n",
       "    </tr>\n",
       "    <tr>\n",
       "      <th>4</th>\n",
       "      <td>Harmony 2-Piece Chaise Sectional</td>\n",
       "      <td>3228.30</td>\n",
       "      <td>Performance Yarn Dyed Linen Weave Alabaster Performance Yarn Dyed Linen Weave Graphite Performance Yarn Dyed Linen Weave Frost Gray Yarn Dyed Linen Weave Alabaster</td>\n",
       "      <td>https://www.westelm.com/products/harmony-2-piece-chaise-sectional-h2478/?pkey=csectionals</td>\n",
       "    </tr>\n",
       "  </tbody>\n",
       "</table>\n",
       "</div>"
      ],
      "text/plain": [
       "                                    Title    Price  \\\n",
       "0   Haven 2-Piece Bumper Chaise Sectional  2633.30   \n",
       "1  Laurent 2-Piece Wedge Chaise Sectional     2399   \n",
       "2   Marin 2-Piece Bumper Chaise Sectional  2309.99   \n",
       "3  Harris 2-Piece Bumper Chaise Sectional     2198   \n",
       "4        Harmony 2-Piece Chaise Sectional  3228.30   \n",
       "\n",
       "                                                                                                                                                                           Colors  \\\n",
       "0    Performance Yarn Dyed Linen Weave Alabaster Performance Yarn Dyed Linen Weave Pewter Performance Yarn Dyed Linen Weave Graphite Performance Yarn Dyed Linen Weave Frost Gray   \n",
       "1                  Performance Yarn Dyed Linen Weave Alabaster Performance Yarn Dyed Linen Weave Frost Gray Performance Yarn Dyed Linen Weave Sand Yarn Dyed Linen Weave Graphite   \n",
       "2      Performance Yarn Dyed Linen Weave Alabaster Performance Yarn Dyed Linen Weave Graphite Performance Yarn Dyed Linen Weave Frost Gray Performance Yarn Dyed Linen Weave Sand   \n",
       "3  Performance Yarn Dyed Linen Weave Alabaster Performance Yarn Dyed Linen Weave Graphite Performance Yarn Dyed Linen Weave Frost Gray Performance Yarn Dyed Linen Weave Midnight   \n",
       "4             Performance Yarn Dyed Linen Weave Alabaster Performance Yarn Dyed Linen Weave Graphite Performance Yarn Dyed Linen Weave Frost Gray Yarn Dyed Linen Weave Alabaster   \n",
       "\n",
       "                                                                                               Link  \n",
       "0  https://www.westelm.com/products/haven-2-piece-terminal-chaise-sectional-h3422/?pkey=csectionals  \n",
       "1  https://www.westelm.com/products/laurent-2-piece-wedge-chaise-sectional-h12004/?pkey=csectionals  \n",
       "2          https://www.westelm.com/products/marin-terminal-chaise-sectional-h6956/?pkey=csectionals  \n",
       "3        https://www.westelm.com/products/harris-2-piece-terminal-sectional-h4618/?pkey=csectionals  \n",
       "4         https://www.westelm.com/products/harmony-2-piece-chaise-sectional-h2478/?pkey=csectionals  "
      ]
     },
     "execution_count": 18,
     "metadata": {},
     "output_type": "execute_result"
    }
   ],
   "source": [
    "df.head()"
   ]
  },
  {
   "cell_type": "code",
   "execution_count": 19,
   "metadata": {},
   "outputs": [],
   "source": [
    "df['Colors'] = pd.factorize(df['Colors'])[0]"
   ]
  },
  {
   "cell_type": "code",
   "execution_count": 20,
   "metadata": {},
   "outputs": [
    {
     "data": {
      "text/html": [
       "<div>\n",
       "<style scoped>\n",
       "    .dataframe tbody tr th:only-of-type {\n",
       "        vertical-align: middle;\n",
       "    }\n",
       "\n",
       "    .dataframe tbody tr th {\n",
       "        vertical-align: top;\n",
       "    }\n",
       "\n",
       "    .dataframe thead th {\n",
       "        text-align: right;\n",
       "    }\n",
       "</style>\n",
       "<table border=\"1\" class=\"dataframe\">\n",
       "  <thead>\n",
       "    <tr style=\"text-align: right;\">\n",
       "      <th></th>\n",
       "      <th>Title</th>\n",
       "      <th>Price</th>\n",
       "      <th>Colors</th>\n",
       "      <th>Link</th>\n",
       "    </tr>\n",
       "  </thead>\n",
       "  <tbody>\n",
       "    <tr>\n",
       "      <th>0</th>\n",
       "      <td>Haven 2-Piece Bumper Chaise Sectional</td>\n",
       "      <td>2633.30</td>\n",
       "      <td>0</td>\n",
       "      <td>https://www.westelm.com/products/haven-2-piece-terminal-chaise-sectional-h3422/?pkey=csectionals</td>\n",
       "    </tr>\n",
       "    <tr>\n",
       "      <th>1</th>\n",
       "      <td>Laurent 2-Piece Wedge Chaise Sectional</td>\n",
       "      <td>2399</td>\n",
       "      <td>1</td>\n",
       "      <td>https://www.westelm.com/products/laurent-2-piece-wedge-chaise-sectional-h12004/?pkey=csectionals</td>\n",
       "    </tr>\n",
       "    <tr>\n",
       "      <th>2</th>\n",
       "      <td>Marin 2-Piece Bumper Chaise Sectional</td>\n",
       "      <td>2309.99</td>\n",
       "      <td>2</td>\n",
       "      <td>https://www.westelm.com/products/marin-terminal-chaise-sectional-h6956/?pkey=csectionals</td>\n",
       "    </tr>\n",
       "    <tr>\n",
       "      <th>3</th>\n",
       "      <td>Harris 2-Piece Bumper Chaise Sectional</td>\n",
       "      <td>2198</td>\n",
       "      <td>3</td>\n",
       "      <td>https://www.westelm.com/products/harris-2-piece-terminal-sectional-h4618/?pkey=csectionals</td>\n",
       "    </tr>\n",
       "    <tr>\n",
       "      <th>4</th>\n",
       "      <td>Harmony 2-Piece Chaise Sectional</td>\n",
       "      <td>3228.30</td>\n",
       "      <td>4</td>\n",
       "      <td>https://www.westelm.com/products/harmony-2-piece-chaise-sectional-h2478/?pkey=csectionals</td>\n",
       "    </tr>\n",
       "  </tbody>\n",
       "</table>\n",
       "</div>"
      ],
      "text/plain": [
       "                                    Title    Price  Colors  \\\n",
       "0   Haven 2-Piece Bumper Chaise Sectional  2633.30       0   \n",
       "1  Laurent 2-Piece Wedge Chaise Sectional     2399       1   \n",
       "2   Marin 2-Piece Bumper Chaise Sectional  2309.99       2   \n",
       "3  Harris 2-Piece Bumper Chaise Sectional     2198       3   \n",
       "4        Harmony 2-Piece Chaise Sectional  3228.30       4   \n",
       "\n",
       "                                                                                               Link  \n",
       "0  https://www.westelm.com/products/haven-2-piece-terminal-chaise-sectional-h3422/?pkey=csectionals  \n",
       "1  https://www.westelm.com/products/laurent-2-piece-wedge-chaise-sectional-h12004/?pkey=csectionals  \n",
       "2          https://www.westelm.com/products/marin-terminal-chaise-sectional-h6956/?pkey=csectionals  \n",
       "3        https://www.westelm.com/products/harris-2-piece-terminal-sectional-h4618/?pkey=csectionals  \n",
       "4         https://www.westelm.com/products/harmony-2-piece-chaise-sectional-h2478/?pkey=csectionals  "
      ]
     },
     "execution_count": 20,
     "metadata": {},
     "output_type": "execute_result"
    }
   ],
   "source": [
    "df.head()"
   ]
  },
  {
   "cell_type": "markdown",
   "metadata": {},
   "source": [
    "# Converting Price From String To Float"
   ]
  },
  {
   "cell_type": "code",
   "execution_count": 21,
   "metadata": {},
   "outputs": [],
   "source": [
    "df['Price'] = df['Price'].str.replace(r'\\S*[a-zA-Z]\\S*', '0',regex=True)"
   ]
  },
  {
   "cell_type": "code",
   "execution_count": 25,
   "metadata": {},
   "outputs": [],
   "source": [
    "df['Price'] = df['Price'].str.replace(' ', '')"
   ]
  },
  {
   "cell_type": "code",
   "execution_count": 30,
   "metadata": {},
   "outputs": [],
   "source": [
    "df['Price']=df['Price'].astype('float')"
   ]
  },
  {
   "cell_type": "code",
   "execution_count": 31,
   "metadata": {},
   "outputs": [],
   "source": [
    "scaler = StandardScaler()"
   ]
  },
  {
   "cell_type": "code",
   "execution_count": 32,
   "metadata": {},
   "outputs": [],
   "source": [
    "df['Price'] = scaler.fit_transform(df[['Price']])"
   ]
  },
  {
   "cell_type": "code",
   "execution_count": 33,
   "metadata": {},
   "outputs": [],
   "source": [
    "# Creating feature vectors\n",
    "features = df[['Colors', 'Price']].values\n",
    "\n",
    "# Compute cosine similarity matrix\n",
    "similarity_matrix = cosine_similarity(features, features)"
   ]
  },
  {
   "cell_type": "code",
   "execution_count": 35,
   "metadata": {},
   "outputs": [
    {
     "name": "stdout",
     "output_type": "stream",
     "text": [
      "Because you viewed Haven 2-Piece Bumper Chaise Sectional, you may also like: Harmony Modular 3-Piece Ottoman Sectional, Harris 2-Piece Sleeper Sectional w/ Bumper Chaise, Harmony Modular 2-Piece Sleeper Sectional w/ Storage Chaise, Harper 2-Piece Chaise Sectional, Harmony Modular 2-Piece Chaise Sectional, Parker 2-Piece Chaise Sectional, Nassau 2-Piece Chaise Sectional, Harris Skirted Slipcover 2-Piece Chaise Sectional, Harris 2-Piece Reversible Sectional, Harris 2-Piece Pop-Up Sleeper Sectional w/ Storage Chaise\n"
     ]
    }
   ],
   "source": [
    "def recommend_items(item_name, similarity_matrix, df, top_n=10):\n",
    "    if item_name not in df['Title'].values:\n",
    "        return f\"Item '{item_name}' not found in the dataset.\"\n",
    "\n",
    "    item_index = df.index[df['Title'] == item_name].tolist()[0]\n",
    "\n",
    "    similarity_scores = list(enumerate(similarity_matrix[item_index]))\n",
    "\n",
    "    similarity_scores = sorted(similarity_scores, key=lambda x: x[1], reverse=True)\n",
    "\n",
    "    top_similar_items = similarity_scores[1:top_n+1]\n",
    "\n",
    "    recommended_items = [df.iloc[item[0]]['Title'] for item in top_similar_items]\n",
    "\n",
    "    return recommended_items\n",
    "\n",
    "# Example usage\n",
    "item_name = 'Haven 2-Piece Bumper Chaise Sectional'\n",
    "recommendations = recommend_items(item_name, similarity_matrix, df)\n",
    "print(f\"Because you viewed {item_name}, you may also like: {', '.join(recommendations)}\")\n"
   ]
  },
  {
   "cell_type": "code",
   "execution_count": 36,
   "metadata": {},
   "outputs": [
    {
     "data": {
      "text/plain": [
       "['Harmony Modular 3-Piece Ottoman Sectional',\n",
       " 'Harris 2-Piece Sleeper Sectional w/ Bumper Chaise',\n",
       " 'Harmony Modular 2-Piece Sleeper Sectional w/ Storage Chaise',\n",
       " 'Harper 2-Piece Chaise Sectional',\n",
       " 'Harmony Modular 2-Piece Chaise Sectional',\n",
       " 'Parker 2-Piece Chaise Sectional',\n",
       " 'Nassau 2-Piece Chaise Sectional',\n",
       " 'Harris Skirted Slipcover 2-Piece Chaise Sectional',\n",
       " 'Harris 2-Piece Reversible Sectional',\n",
       " 'Harris 2-Piece Pop-Up Sleeper Sectional w/ Storage Chaise']"
      ]
     },
     "execution_count": 36,
     "metadata": {},
     "output_type": "execute_result"
    }
   ],
   "source": [
    "recommendations"
   ]
  },
  {
   "cell_type": "code",
   "execution_count": 37,
   "metadata": {},
   "outputs": [
    {
     "data": {
      "text/html": [
       "<div>\n",
       "<style scoped>\n",
       "    .dataframe tbody tr th:only-of-type {\n",
       "        vertical-align: middle;\n",
       "    }\n",
       "\n",
       "    .dataframe tbody tr th {\n",
       "        vertical-align: top;\n",
       "    }\n",
       "\n",
       "    .dataframe thead th {\n",
       "        text-align: right;\n",
       "    }\n",
       "</style>\n",
       "<table border=\"1\" class=\"dataframe\">\n",
       "  <thead>\n",
       "    <tr style=\"text-align: right;\">\n",
       "      <th></th>\n",
       "      <th>Title</th>\n",
       "      <th>Price</th>\n",
       "      <th>Colors</th>\n",
       "      <th>Link</th>\n",
       "    </tr>\n",
       "  </thead>\n",
       "  <tbody>\n",
       "  </tbody>\n",
       "</table>\n",
       "</div>"
      ],
      "text/plain": [
       "Empty DataFrame\n",
       "Columns: [Title, Price, Colors, Link]\n",
       "Index: []"
      ]
     },
     "execution_count": 37,
     "metadata": {},
     "output_type": "execute_result"
    }
   ],
   "source": [
    "df[df['Title']==\"Big Sur Leather Sectional Ottoman\"]"
   ]
  },
  {
   "cell_type": "code",
   "execution_count": 38,
   "metadata": {},
   "outputs": [
    {
     "data": {
      "text/plain": [
       "Series([], Name: Link, dtype: object)"
      ]
     },
     "execution_count": 38,
     "metadata": {},
     "output_type": "execute_result"
    }
   ],
   "source": [
    "df[df['Title']==\"Big Sur Leather Sectional Ottoman\"]['Link']"
   ]
  },
  {
   "cell_type": "code",
   "execution_count": 39,
   "metadata": {},
   "outputs": [
    {
     "data": {
      "text/plain": [
       "[5    https://www.westelm.com/products/harmony-modular-3-piece-chaise-sectional-h6269/?pkey=csectionals\n",
       " Name: Link, dtype: object,\n",
       " 7    https://www.westelm.com/products/harris-sleeper-sectional-w-terminal-chaise-h4588/?pkey=csectionals\n",
       " Name: Link, dtype: object,\n",
       " 8    https://www.westelm.com/products/harmony-modular-2-piece-sleeper-sectional-w-storage-h6268/?pkey=csectionals\n",
       " Name: Link, dtype: object,\n",
       " 10    https://www.westelm.com/products/harper-2-piece-chaise-sectional-h6919/?pkey=csectionals\n",
       " Name: Link, dtype: object,\n",
       " 17    https://www.westelm.com/products/harmony-modular-2-piece-chaise-sectional-h6267/?pkey=csectionals\n",
       " Name: Link, dtype: object,\n",
       " 18    https://www.westelm.com/products/parker-2-piece-chaise-sectional-h9538/?pkey=csectionals\n",
       " Name: Link, dtype: object,\n",
       " 24    https://www.westelm.com/products/nassau-2-piece-chaise-sectional-h12314/?pkey=csectionals\n",
       " Name: Link, dtype: object,\n",
       " 25    https://www.westelm.com/products/harris-skirted-slipcover-2-piece-chaise-sectional-h11825/?pkey=csectionals\n",
       " Name: Link, dtype: object,\n",
       " 31    https://www.westelm.com/products/harris-reversible-sectional-h4892/?pkey=csectionals\n",
       " Name: Link, dtype: object,\n",
       " 34    https://www.westelm.com/products/harris-2-piece-pop-up-sleeper-sectional-w-storage-h6490/?pkey=csectionals\n",
       " Name: Link, dtype: object]"
      ]
     },
     "execution_count": 39,
     "metadata": {},
     "output_type": "execute_result"
    }
   ],
   "source": [
    "[df[df['Title']==rec]['Link'] for rec in recommendations]"
   ]
  },
  {
   "cell_type": "code",
   "execution_count": null,
   "metadata": {},
   "outputs": [],
   "source": []
  },
  {
   "cell_type": "code",
   "execution_count": null,
   "metadata": {},
   "outputs": [],
   "source": []
  },
  {
   "cell_type": "code",
   "execution_count": null,
   "metadata": {},
   "outputs": [],
   "source": []
  },
  {
   "cell_type": "code",
   "execution_count": null,
   "metadata": {},
   "outputs": [],
   "source": []
  },
  {
   "cell_type": "code",
   "execution_count": null,
   "metadata": {},
   "outputs": [],
   "source": []
  },
  {
   "cell_type": "code",
   "execution_count": null,
   "metadata": {},
   "outputs": [],
   "source": [
    "import pandas as pd\n",
    "from sklearn.metrics.pairwise import cosine_similarity\n",
    "from sklearn.preprocessing import StandardScaler\n",
    "\n",
    "# Example dataset (replace with your actual dataset loading)\n",
    "data = {\n",
    "    'furniture_name': ['Sofa', 'Table', 'Chair', 'Cushion', 'Bed', 'Desk'],\n",
    "    'color': ['Red', 'Brown', 'White', 'Blue', 'Black', 'Brown'],\n",
    "    'price': [500, 300, 150, 50, 800, 400]\n",
    "}\n",
    "\n",
    "df = pd.DataFrame(data)\n",
    "\n",
    "# Encoding categorical variables (color)\n",
    "df['color_encoded'] = pd.factorize(df['color'])[0]\n",
    "\n",
    "# Scaling numerical features (price)\n",
    "scaler = StandardScaler()\n",
    "df['price_scaled'] = scaler.fit_transform(df[['price']])\n",
    "\n",
    "# Creating feature vectors\n",
    "features = df[['color_encoded', 'price_scaled']].values\n",
    "\n",
    "# Compute cosine similarity matrix\n",
    "similarity_matrix = cosine_similarity(features, features)\n",
    "\n",
    "# Function to recommend items\n",
    "def recommend_items(item_name, similarity_matrix, df, top_n=3):\n",
    "    item_index = df.index[df['furniture_name'] == item_name][0]\n",
    "    similarity_scores = list(enumerate(similarity_matrix[item_index]))\n",
    "    similarity_scores = sorted(similarity_scores, key=lambda x: x[1], reverse=True)\n",
    "    top_similar_items = similarity_scores[1:top_n+1]  # Exclude itself, get top N similar items\n",
    "    recommended_items = [df.iloc[item[0]]['furniture_name'] for item in top_similar_items]\n",
    "    return recommended_items\n",
    "\n",
    "# Example usage\n",
    "item_name = 'Sofa'\n",
    "recommendations = recommend_items(item_name, similarity_matrix, df)\n",
    "print(f\"Because you viewed {item_name}, you may also like: {', '.join(recommendations)}\")\n"
   ]
  },
  {
   "cell_type": "code",
   "execution_count": null,
   "metadata": {},
   "outputs": [],
   "source": []
  }
 ],
 "metadata": {
  "kernelspec": {
   "display_name": ".venv",
   "language": "python",
   "name": "python3"
  },
  "language_info": {
   "codemirror_mode": {
    "name": "ipython",
    "version": 3
   },
   "file_extension": ".py",
   "mimetype": "text/x-python",
   "name": "python",
   "nbconvert_exporter": "python",
   "pygments_lexer": "ipython3",
   "version": "3.9.13"
  }
 },
 "nbformat": 4,
 "nbformat_minor": 2
}
