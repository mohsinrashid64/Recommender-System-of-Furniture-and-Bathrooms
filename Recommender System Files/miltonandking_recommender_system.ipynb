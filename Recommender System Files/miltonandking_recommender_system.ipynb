{
 "cells": [
  {
   "cell_type": "markdown",
   "metadata": {},
   "source": [
    "# Import Libraries"
   ]
  },
  {
   "cell_type": "code",
   "execution_count": 1,
   "metadata": {},
   "outputs": [],
   "source": [
    "import pandas as pd \n",
    "import numpy as np\n",
    "import re\n",
    "from sklearn.metrics.pairwise import cosine_similarity\n",
    "from sklearn.preprocessing import StandardScaler\n",
    "pd.set_option('display.max_colwidth', None) "
   ]
  },
  {
   "cell_type": "markdown",
   "metadata": {},
   "source": [
    "# Loading Dataframe"
   ]
  },
  {
   "cell_type": "code",
   "execution_count": 2,
   "metadata": {},
   "outputs": [],
   "source": [
    "df=pd.read_csv('../data/miltonandking.csv')"
   ]
  },
  {
   "cell_type": "code",
   "execution_count": 3,
   "metadata": {},
   "outputs": [
    {
     "data": {
      "text/html": [
       "<div>\n",
       "<style scoped>\n",
       "    .dataframe tbody tr th:only-of-type {\n",
       "        vertical-align: middle;\n",
       "    }\n",
       "\n",
       "    .dataframe tbody tr th {\n",
       "        vertical-align: top;\n",
       "    }\n",
       "\n",
       "    .dataframe thead th {\n",
       "        text-align: right;\n",
       "    }\n",
       "</style>\n",
       "<table border=\"1\" class=\"dataframe\">\n",
       "  <thead>\n",
       "    <tr style=\"text-align: right;\">\n",
       "      <th></th>\n",
       "      <th>Title</th>\n",
       "      <th>Price</th>\n",
       "      <th>Link</th>\n",
       "      <th>Image Path</th>\n",
       "      <th>Colors</th>\n",
       "    </tr>\n",
       "  </thead>\n",
       "  <tbody>\n",
       "    <tr>\n",
       "      <th>0</th>\n",
       "      <td>Sweet Briar Wallpaper</td>\n",
       "      <td>$165.00Per Roll($2.50/sq. ft.)</td>\n",
       "      <td>https://www.miltonandking.com/product/sweet-briar-wallpaper/?attribute_pa_color=stone</td>\n",
       "      <td>miltonandking\\WR561HC-S-SweetBriar-Stone-1.jpg</td>\n",
       "      <td>['Stone', 'Dusty Pink', 'Linen', 'Emerald', 'Navy', 'Slate Grey', 'Charcoal']</td>\n",
       "    </tr>\n",
       "    <tr>\n",
       "      <th>1</th>\n",
       "      <td>Wild Meadow Wallpaper</td>\n",
       "      <td>$165.00Per Roll($2.50/sq. ft.)</td>\n",
       "      <td>https://www.miltonandking.com/product/wild-meadow-wallpaper/?attribute_pa_color=dark-green</td>\n",
       "      <td>miltonandking\\WR562HC-DG-WildMeadow-DarkGreen-1.jpg</td>\n",
       "      <td>['Dark Green', 'Charcoal', 'French Grey', 'Navy', 'Stone']</td>\n",
       "    </tr>\n",
       "    <tr>\n",
       "      <th>2</th>\n",
       "      <td>Meadows Antique Wallpaper</td>\n",
       "      <td>$165.00Per Roll($2.50/sq. ft.)</td>\n",
       "      <td>https://www.miltonandking.com/product/meadows-antique-wallpaper/?attribute_pa_color=antique-green</td>\n",
       "      <td>miltonandking\\WR563HC-AG-MeadowsAntique-AntiqueGreen-1.jpg</td>\n",
       "      <td>['Antique Green', 'Charcoal', 'French Grey', 'Navy', 'Stone']</td>\n",
       "    </tr>\n",
       "    <tr>\n",
       "      <th>3</th>\n",
       "      <td>Garden Delight Wallpaper</td>\n",
       "      <td>$165.00Per Roll($2.50/sq. ft.)</td>\n",
       "      <td>https://www.miltonandking.com/product/garden-delight-wallpaper/?attribute_pa_color=dusty-blue</td>\n",
       "      <td>miltonandking\\WR559HC-DB-GardenDelight-DustyBlue-1.jpg</td>\n",
       "      <td>['Dusty Blue', 'Dusty Pink', 'Linen', 'Emerald', 'Navy', 'Slate Grey', 'Stone']</td>\n",
       "    </tr>\n",
       "    <tr>\n",
       "      <th>4</th>\n",
       "      <td>Woodland Floral Wallpaper</td>\n",
       "      <td>$165.00Per Roll($2.50/sq. ft.)</td>\n",
       "      <td>https://www.miltonandking.com/product/woodland-floral-wallpaper/?attribute_pa_color=linen</td>\n",
       "      <td>miltonandking\\WR564HC-L-WoodlandFloral-Linen-1.jpg</td>\n",
       "      <td>['Linen', 'Antique Grey', 'Green', 'Navy', 'Stone']</td>\n",
       "    </tr>\n",
       "  </tbody>\n",
       "</table>\n",
       "</div>"
      ],
      "text/plain": [
       "                       Title                           Price  \\\n",
       "0      Sweet Briar Wallpaper  $165.00Per Roll($2.50/sq. ft.)   \n",
       "1      Wild Meadow Wallpaper  $165.00Per Roll($2.50/sq. ft.)   \n",
       "2  Meadows Antique Wallpaper  $165.00Per Roll($2.50/sq. ft.)   \n",
       "3   Garden Delight Wallpaper  $165.00Per Roll($2.50/sq. ft.)   \n",
       "4  Woodland Floral Wallpaper  $165.00Per Roll($2.50/sq. ft.)   \n",
       "\n",
       "                                                                                                Link  \\\n",
       "0              https://www.miltonandking.com/product/sweet-briar-wallpaper/?attribute_pa_color=stone   \n",
       "1         https://www.miltonandking.com/product/wild-meadow-wallpaper/?attribute_pa_color=dark-green   \n",
       "2  https://www.miltonandking.com/product/meadows-antique-wallpaper/?attribute_pa_color=antique-green   \n",
       "3      https://www.miltonandking.com/product/garden-delight-wallpaper/?attribute_pa_color=dusty-blue   \n",
       "4          https://www.miltonandking.com/product/woodland-floral-wallpaper/?attribute_pa_color=linen   \n",
       "\n",
       "                                                   Image Path  \\\n",
       "0              miltonandking\\WR561HC-S-SweetBriar-Stone-1.jpg   \n",
       "1         miltonandking\\WR562HC-DG-WildMeadow-DarkGreen-1.jpg   \n",
       "2  miltonandking\\WR563HC-AG-MeadowsAntique-AntiqueGreen-1.jpg   \n",
       "3      miltonandking\\WR559HC-DB-GardenDelight-DustyBlue-1.jpg   \n",
       "4          miltonandking\\WR564HC-L-WoodlandFloral-Linen-1.jpg   \n",
       "\n",
       "                                                                            Colors  \n",
       "0    ['Stone', 'Dusty Pink', 'Linen', 'Emerald', 'Navy', 'Slate Grey', 'Charcoal']  \n",
       "1                       ['Dark Green', 'Charcoal', 'French Grey', 'Navy', 'Stone']  \n",
       "2                    ['Antique Green', 'Charcoal', 'French Grey', 'Navy', 'Stone']  \n",
       "3  ['Dusty Blue', 'Dusty Pink', 'Linen', 'Emerald', 'Navy', 'Slate Grey', 'Stone']  \n",
       "4                              ['Linen', 'Antique Grey', 'Green', 'Navy', 'Stone']  "
      ]
     },
     "execution_count": 3,
     "metadata": {},
     "output_type": "execute_result"
    }
   ],
   "source": [
    "df.head()"
   ]
  },
  {
   "cell_type": "markdown",
   "metadata": {},
   "source": [
    "# Droping Duplicate"
   ]
  },
  {
   "cell_type": "code",
   "execution_count": 4,
   "metadata": {},
   "outputs": [
    {
     "data": {
      "text/plain": [
       "(759, 5)"
      ]
     },
     "execution_count": 4,
     "metadata": {},
     "output_type": "execute_result"
    }
   ],
   "source": [
    "df.shape"
   ]
  },
  {
   "cell_type": "code",
   "execution_count": 5,
   "metadata": {},
   "outputs": [],
   "source": [
    "df.drop_duplicates(subset = \"Title\",inplace=True)"
   ]
  },
  {
   "cell_type": "code",
   "execution_count": 6,
   "metadata": {},
   "outputs": [
    {
     "data": {
      "text/plain": [
       "(638, 5)"
      ]
     },
     "execution_count": 6,
     "metadata": {},
     "output_type": "execute_result"
    }
   ],
   "source": [
    "df.shape"
   ]
  },
  {
   "cell_type": "markdown",
   "metadata": {},
   "source": [
    "# Cleaning The Price Column"
   ]
  },
  {
   "cell_type": "code",
   "execution_count": 7,
   "metadata": {},
   "outputs": [],
   "source": [
    "df['Price']=df['Price'].str.replace(pat=r'P.*',repl='',regex=True)"
   ]
  },
  {
   "cell_type": "code",
   "execution_count": 8,
   "metadata": {},
   "outputs": [],
   "source": [
    "df['Price']=df['Price'].str.replace(pat='$',repl='')"
   ]
  },
  {
   "cell_type": "code",
   "execution_count": 9,
   "metadata": {},
   "outputs": [
    {
     "data": {
      "text/html": [
       "<div>\n",
       "<style scoped>\n",
       "    .dataframe tbody tr th:only-of-type {\n",
       "        vertical-align: middle;\n",
       "    }\n",
       "\n",
       "    .dataframe tbody tr th {\n",
       "        vertical-align: top;\n",
       "    }\n",
       "\n",
       "    .dataframe thead th {\n",
       "        text-align: right;\n",
       "    }\n",
       "</style>\n",
       "<table border=\"1\" class=\"dataframe\">\n",
       "  <thead>\n",
       "    <tr style=\"text-align: right;\">\n",
       "      <th></th>\n",
       "      <th>Title</th>\n",
       "      <th>Price</th>\n",
       "      <th>Link</th>\n",
       "      <th>Image Path</th>\n",
       "      <th>Colors</th>\n",
       "    </tr>\n",
       "  </thead>\n",
       "  <tbody>\n",
       "    <tr>\n",
       "      <th>0</th>\n",
       "      <td>Sweet Briar Wallpaper</td>\n",
       "      <td>165.00</td>\n",
       "      <td>https://www.miltonandking.com/product/sweet-briar-wallpaper/?attribute_pa_color=stone</td>\n",
       "      <td>miltonandking\\WR561HC-S-SweetBriar-Stone-1.jpg</td>\n",
       "      <td>['Stone', 'Dusty Pink', 'Linen', 'Emerald', 'Navy', 'Slate Grey', 'Charcoal']</td>\n",
       "    </tr>\n",
       "    <tr>\n",
       "      <th>1</th>\n",
       "      <td>Wild Meadow Wallpaper</td>\n",
       "      <td>165.00</td>\n",
       "      <td>https://www.miltonandking.com/product/wild-meadow-wallpaper/?attribute_pa_color=dark-green</td>\n",
       "      <td>miltonandking\\WR562HC-DG-WildMeadow-DarkGreen-1.jpg</td>\n",
       "      <td>['Dark Green', 'Charcoal', 'French Grey', 'Navy', 'Stone']</td>\n",
       "    </tr>\n",
       "    <tr>\n",
       "      <th>2</th>\n",
       "      <td>Meadows Antique Wallpaper</td>\n",
       "      <td>165.00</td>\n",
       "      <td>https://www.miltonandking.com/product/meadows-antique-wallpaper/?attribute_pa_color=antique-green</td>\n",
       "      <td>miltonandking\\WR563HC-AG-MeadowsAntique-AntiqueGreen-1.jpg</td>\n",
       "      <td>['Antique Green', 'Charcoal', 'French Grey', 'Navy', 'Stone']</td>\n",
       "    </tr>\n",
       "    <tr>\n",
       "      <th>3</th>\n",
       "      <td>Garden Delight Wallpaper</td>\n",
       "      <td>165.00</td>\n",
       "      <td>https://www.miltonandking.com/product/garden-delight-wallpaper/?attribute_pa_color=dusty-blue</td>\n",
       "      <td>miltonandking\\WR559HC-DB-GardenDelight-DustyBlue-1.jpg</td>\n",
       "      <td>['Dusty Blue', 'Dusty Pink', 'Linen', 'Emerald', 'Navy', 'Slate Grey', 'Stone']</td>\n",
       "    </tr>\n",
       "    <tr>\n",
       "      <th>4</th>\n",
       "      <td>Woodland Floral Wallpaper</td>\n",
       "      <td>165.00</td>\n",
       "      <td>https://www.miltonandking.com/product/woodland-floral-wallpaper/?attribute_pa_color=linen</td>\n",
       "      <td>miltonandking\\WR564HC-L-WoodlandFloral-Linen-1.jpg</td>\n",
       "      <td>['Linen', 'Antique Grey', 'Green', 'Navy', 'Stone']</td>\n",
       "    </tr>\n",
       "  </tbody>\n",
       "</table>\n",
       "</div>"
      ],
      "text/plain": [
       "                       Title   Price  \\\n",
       "0      Sweet Briar Wallpaper  165.00   \n",
       "1      Wild Meadow Wallpaper  165.00   \n",
       "2  Meadows Antique Wallpaper  165.00   \n",
       "3   Garden Delight Wallpaper  165.00   \n",
       "4  Woodland Floral Wallpaper  165.00   \n",
       "\n",
       "                                                                                                Link  \\\n",
       "0              https://www.miltonandking.com/product/sweet-briar-wallpaper/?attribute_pa_color=stone   \n",
       "1         https://www.miltonandking.com/product/wild-meadow-wallpaper/?attribute_pa_color=dark-green   \n",
       "2  https://www.miltonandking.com/product/meadows-antique-wallpaper/?attribute_pa_color=antique-green   \n",
       "3      https://www.miltonandking.com/product/garden-delight-wallpaper/?attribute_pa_color=dusty-blue   \n",
       "4          https://www.miltonandking.com/product/woodland-floral-wallpaper/?attribute_pa_color=linen   \n",
       "\n",
       "                                                   Image Path  \\\n",
       "0              miltonandking\\WR561HC-S-SweetBriar-Stone-1.jpg   \n",
       "1         miltonandking\\WR562HC-DG-WildMeadow-DarkGreen-1.jpg   \n",
       "2  miltonandking\\WR563HC-AG-MeadowsAntique-AntiqueGreen-1.jpg   \n",
       "3      miltonandking\\WR559HC-DB-GardenDelight-DustyBlue-1.jpg   \n",
       "4          miltonandking\\WR564HC-L-WoodlandFloral-Linen-1.jpg   \n",
       "\n",
       "                                                                            Colors  \n",
       "0    ['Stone', 'Dusty Pink', 'Linen', 'Emerald', 'Navy', 'Slate Grey', 'Charcoal']  \n",
       "1                       ['Dark Green', 'Charcoal', 'French Grey', 'Navy', 'Stone']  \n",
       "2                    ['Antique Green', 'Charcoal', 'French Grey', 'Navy', 'Stone']  \n",
       "3  ['Dusty Blue', 'Dusty Pink', 'Linen', 'Emerald', 'Navy', 'Slate Grey', 'Stone']  \n",
       "4                              ['Linen', 'Antique Grey', 'Green', 'Navy', 'Stone']  "
      ]
     },
     "execution_count": 9,
     "metadata": {},
     "output_type": "execute_result"
    }
   ],
   "source": [
    "df.head()"
   ]
  },
  {
   "cell_type": "code",
   "execution_count": 10,
   "metadata": {},
   "outputs": [
    {
     "data": {
      "text/html": [
       "<div>\n",
       "<style scoped>\n",
       "    .dataframe tbody tr th:only-of-type {\n",
       "        vertical-align: middle;\n",
       "    }\n",
       "\n",
       "    .dataframe tbody tr th {\n",
       "        vertical-align: top;\n",
       "    }\n",
       "\n",
       "    .dataframe thead th {\n",
       "        text-align: right;\n",
       "    }\n",
       "</style>\n",
       "<table border=\"1\" class=\"dataframe\">\n",
       "  <thead>\n",
       "    <tr style=\"text-align: right;\">\n",
       "      <th></th>\n",
       "      <th>Title</th>\n",
       "      <th>Price</th>\n",
       "      <th>Link</th>\n",
       "      <th>Image Path</th>\n",
       "      <th>Colors</th>\n",
       "    </tr>\n",
       "  </thead>\n",
       "  <tbody>\n",
       "    <tr>\n",
       "      <th>431</th>\n",
       "      <td>Title</td>\n",
       "      <td></td>\n",
       "      <td>Link</td>\n",
       "      <td>Image Path</td>\n",
       "      <td>Colors</td>\n",
       "    </tr>\n",
       "  </tbody>\n",
       "</table>\n",
       "</div>"
      ],
      "text/plain": [
       "     Title Price  Link  Image Path  Colors\n",
       "431  Title        Link  Image Path  Colors"
      ]
     },
     "execution_count": 10,
     "metadata": {},
     "output_type": "execute_result"
    }
   ],
   "source": [
    "df[df['Price']=='']"
   ]
  },
  {
   "cell_type": "code",
   "execution_count": 11,
   "metadata": {},
   "outputs": [],
   "source": [
    "x=df[df['Price'] == ''].index"
   ]
  },
  {
   "cell_type": "code",
   "execution_count": 12,
   "metadata": {},
   "outputs": [],
   "source": [
    "df = df.drop(df[df['Price'] == ''].index)"
   ]
  },
  {
   "cell_type": "markdown",
   "metadata": {},
   "source": [
    "# Convert Price Column To Float"
   ]
  },
  {
   "cell_type": "code",
   "execution_count": 13,
   "metadata": {},
   "outputs": [],
   "source": [
    "df['Price']=df['Price'].astype('float')"
   ]
  },
  {
   "cell_type": "code",
   "execution_count": 14,
   "metadata": {},
   "outputs": [
    {
     "data": {
      "text/html": [
       "<div>\n",
       "<style scoped>\n",
       "    .dataframe tbody tr th:only-of-type {\n",
       "        vertical-align: middle;\n",
       "    }\n",
       "\n",
       "    .dataframe tbody tr th {\n",
       "        vertical-align: top;\n",
       "    }\n",
       "\n",
       "    .dataframe thead th {\n",
       "        text-align: right;\n",
       "    }\n",
       "</style>\n",
       "<table border=\"1\" class=\"dataframe\">\n",
       "  <thead>\n",
       "    <tr style=\"text-align: right;\">\n",
       "      <th></th>\n",
       "      <th>Title</th>\n",
       "      <th>Price</th>\n",
       "      <th>Link</th>\n",
       "      <th>Image Path</th>\n",
       "      <th>Colors</th>\n",
       "    </tr>\n",
       "  </thead>\n",
       "  <tbody>\n",
       "    <tr>\n",
       "      <th>0</th>\n",
       "      <td>Sweet Briar Wallpaper</td>\n",
       "      <td>165.0</td>\n",
       "      <td>https://www.miltonandking.com/product/sweet-briar-wallpaper/?attribute_pa_color=stone</td>\n",
       "      <td>miltonandking\\WR561HC-S-SweetBriar-Stone-1.jpg</td>\n",
       "      <td>['Stone', 'Dusty Pink', 'Linen', 'Emerald', 'Navy', 'Slate Grey', 'Charcoal']</td>\n",
       "    </tr>\n",
       "    <tr>\n",
       "      <th>1</th>\n",
       "      <td>Wild Meadow Wallpaper</td>\n",
       "      <td>165.0</td>\n",
       "      <td>https://www.miltonandking.com/product/wild-meadow-wallpaper/?attribute_pa_color=dark-green</td>\n",
       "      <td>miltonandking\\WR562HC-DG-WildMeadow-DarkGreen-1.jpg</td>\n",
       "      <td>['Dark Green', 'Charcoal', 'French Grey', 'Navy', 'Stone']</td>\n",
       "    </tr>\n",
       "    <tr>\n",
       "      <th>2</th>\n",
       "      <td>Meadows Antique Wallpaper</td>\n",
       "      <td>165.0</td>\n",
       "      <td>https://www.miltonandking.com/product/meadows-antique-wallpaper/?attribute_pa_color=antique-green</td>\n",
       "      <td>miltonandking\\WR563HC-AG-MeadowsAntique-AntiqueGreen-1.jpg</td>\n",
       "      <td>['Antique Green', 'Charcoal', 'French Grey', 'Navy', 'Stone']</td>\n",
       "    </tr>\n",
       "    <tr>\n",
       "      <th>3</th>\n",
       "      <td>Garden Delight Wallpaper</td>\n",
       "      <td>165.0</td>\n",
       "      <td>https://www.miltonandking.com/product/garden-delight-wallpaper/?attribute_pa_color=dusty-blue</td>\n",
       "      <td>miltonandking\\WR559HC-DB-GardenDelight-DustyBlue-1.jpg</td>\n",
       "      <td>['Dusty Blue', 'Dusty Pink', 'Linen', 'Emerald', 'Navy', 'Slate Grey', 'Stone']</td>\n",
       "    </tr>\n",
       "    <tr>\n",
       "      <th>4</th>\n",
       "      <td>Woodland Floral Wallpaper</td>\n",
       "      <td>165.0</td>\n",
       "      <td>https://www.miltonandking.com/product/woodland-floral-wallpaper/?attribute_pa_color=linen</td>\n",
       "      <td>miltonandking\\WR564HC-L-WoodlandFloral-Linen-1.jpg</td>\n",
       "      <td>['Linen', 'Antique Grey', 'Green', 'Navy', 'Stone']</td>\n",
       "    </tr>\n",
       "  </tbody>\n",
       "</table>\n",
       "</div>"
      ],
      "text/plain": [
       "                       Title  Price  \\\n",
       "0      Sweet Briar Wallpaper  165.0   \n",
       "1      Wild Meadow Wallpaper  165.0   \n",
       "2  Meadows Antique Wallpaper  165.0   \n",
       "3   Garden Delight Wallpaper  165.0   \n",
       "4  Woodland Floral Wallpaper  165.0   \n",
       "\n",
       "                                                                                                Link  \\\n",
       "0              https://www.miltonandking.com/product/sweet-briar-wallpaper/?attribute_pa_color=stone   \n",
       "1         https://www.miltonandking.com/product/wild-meadow-wallpaper/?attribute_pa_color=dark-green   \n",
       "2  https://www.miltonandking.com/product/meadows-antique-wallpaper/?attribute_pa_color=antique-green   \n",
       "3      https://www.miltonandking.com/product/garden-delight-wallpaper/?attribute_pa_color=dusty-blue   \n",
       "4          https://www.miltonandking.com/product/woodland-floral-wallpaper/?attribute_pa_color=linen   \n",
       "\n",
       "                                                   Image Path  \\\n",
       "0              miltonandking\\WR561HC-S-SweetBriar-Stone-1.jpg   \n",
       "1         miltonandking\\WR562HC-DG-WildMeadow-DarkGreen-1.jpg   \n",
       "2  miltonandking\\WR563HC-AG-MeadowsAntique-AntiqueGreen-1.jpg   \n",
       "3      miltonandking\\WR559HC-DB-GardenDelight-DustyBlue-1.jpg   \n",
       "4          miltonandking\\WR564HC-L-WoodlandFloral-Linen-1.jpg   \n",
       "\n",
       "                                                                            Colors  \n",
       "0    ['Stone', 'Dusty Pink', 'Linen', 'Emerald', 'Navy', 'Slate Grey', 'Charcoal']  \n",
       "1                       ['Dark Green', 'Charcoal', 'French Grey', 'Navy', 'Stone']  \n",
       "2                    ['Antique Green', 'Charcoal', 'French Grey', 'Navy', 'Stone']  \n",
       "3  ['Dusty Blue', 'Dusty Pink', 'Linen', 'Emerald', 'Navy', 'Slate Grey', 'Stone']  \n",
       "4                              ['Linen', 'Antique Grey', 'Green', 'Navy', 'Stone']  "
      ]
     },
     "execution_count": 14,
     "metadata": {},
     "output_type": "execute_result"
    }
   ],
   "source": [
    "df.head()"
   ]
  },
  {
   "cell_type": "markdown",
   "metadata": {},
   "source": [
    "# Replacing Commas in Colors Column"
   ]
  },
  {
   "cell_type": "code",
   "execution_count": 17,
   "metadata": {},
   "outputs": [],
   "source": [
    "df['Colors']=df['Colors'].str.replace(r\"[\\[\\]',/]\",repl='',regex=True)"
   ]
  },
  {
   "cell_type": "code",
   "execution_count": 18,
   "metadata": {},
   "outputs": [
    {
     "data": {
      "text/html": [
       "<div>\n",
       "<style scoped>\n",
       "    .dataframe tbody tr th:only-of-type {\n",
       "        vertical-align: middle;\n",
       "    }\n",
       "\n",
       "    .dataframe tbody tr th {\n",
       "        vertical-align: top;\n",
       "    }\n",
       "\n",
       "    .dataframe thead th {\n",
       "        text-align: right;\n",
       "    }\n",
       "</style>\n",
       "<table border=\"1\" class=\"dataframe\">\n",
       "  <thead>\n",
       "    <tr style=\"text-align: right;\">\n",
       "      <th></th>\n",
       "      <th>Title</th>\n",
       "      <th>Price</th>\n",
       "      <th>Link</th>\n",
       "      <th>Image Path</th>\n",
       "      <th>Colors</th>\n",
       "    </tr>\n",
       "  </thead>\n",
       "  <tbody>\n",
       "    <tr>\n",
       "      <th>0</th>\n",
       "      <td>Sweet Briar Wallpaper</td>\n",
       "      <td>165.0</td>\n",
       "      <td>https://www.miltonandking.com/product/sweet-briar-wallpaper/?attribute_pa_color=stone</td>\n",
       "      <td>miltonandking\\WR561HC-S-SweetBriar-Stone-1.jpg</td>\n",
       "      <td>Stone Dusty Pink Linen Emerald Navy Slate Grey Charcoal</td>\n",
       "    </tr>\n",
       "    <tr>\n",
       "      <th>1</th>\n",
       "      <td>Wild Meadow Wallpaper</td>\n",
       "      <td>165.0</td>\n",
       "      <td>https://www.miltonandking.com/product/wild-meadow-wallpaper/?attribute_pa_color=dark-green</td>\n",
       "      <td>miltonandking\\WR562HC-DG-WildMeadow-DarkGreen-1.jpg</td>\n",
       "      <td>Dark Green Charcoal French Grey Navy Stone</td>\n",
       "    </tr>\n",
       "    <tr>\n",
       "      <th>2</th>\n",
       "      <td>Meadows Antique Wallpaper</td>\n",
       "      <td>165.0</td>\n",
       "      <td>https://www.miltonandking.com/product/meadows-antique-wallpaper/?attribute_pa_color=antique-green</td>\n",
       "      <td>miltonandking\\WR563HC-AG-MeadowsAntique-AntiqueGreen-1.jpg</td>\n",
       "      <td>Antique Green Charcoal French Grey Navy Stone</td>\n",
       "    </tr>\n",
       "    <tr>\n",
       "      <th>3</th>\n",
       "      <td>Garden Delight Wallpaper</td>\n",
       "      <td>165.0</td>\n",
       "      <td>https://www.miltonandking.com/product/garden-delight-wallpaper/?attribute_pa_color=dusty-blue</td>\n",
       "      <td>miltonandking\\WR559HC-DB-GardenDelight-DustyBlue-1.jpg</td>\n",
       "      <td>Dusty Blue Dusty Pink Linen Emerald Navy Slate Grey Stone</td>\n",
       "    </tr>\n",
       "    <tr>\n",
       "      <th>4</th>\n",
       "      <td>Woodland Floral Wallpaper</td>\n",
       "      <td>165.0</td>\n",
       "      <td>https://www.miltonandking.com/product/woodland-floral-wallpaper/?attribute_pa_color=linen</td>\n",
       "      <td>miltonandking\\WR564HC-L-WoodlandFloral-Linen-1.jpg</td>\n",
       "      <td>Linen Antique Grey Green Navy Stone</td>\n",
       "    </tr>\n",
       "  </tbody>\n",
       "</table>\n",
       "</div>"
      ],
      "text/plain": [
       "                       Title  Price  \\\n",
       "0      Sweet Briar Wallpaper  165.0   \n",
       "1      Wild Meadow Wallpaper  165.0   \n",
       "2  Meadows Antique Wallpaper  165.0   \n",
       "3   Garden Delight Wallpaper  165.0   \n",
       "4  Woodland Floral Wallpaper  165.0   \n",
       "\n",
       "                                                                                                Link  \\\n",
       "0              https://www.miltonandking.com/product/sweet-briar-wallpaper/?attribute_pa_color=stone   \n",
       "1         https://www.miltonandking.com/product/wild-meadow-wallpaper/?attribute_pa_color=dark-green   \n",
       "2  https://www.miltonandking.com/product/meadows-antique-wallpaper/?attribute_pa_color=antique-green   \n",
       "3      https://www.miltonandking.com/product/garden-delight-wallpaper/?attribute_pa_color=dusty-blue   \n",
       "4          https://www.miltonandking.com/product/woodland-floral-wallpaper/?attribute_pa_color=linen   \n",
       "\n",
       "                                                   Image Path  \\\n",
       "0              miltonandking\\WR561HC-S-SweetBriar-Stone-1.jpg   \n",
       "1         miltonandking\\WR562HC-DG-WildMeadow-DarkGreen-1.jpg   \n",
       "2  miltonandking\\WR563HC-AG-MeadowsAntique-AntiqueGreen-1.jpg   \n",
       "3      miltonandking\\WR559HC-DB-GardenDelight-DustyBlue-1.jpg   \n",
       "4          miltonandking\\WR564HC-L-WoodlandFloral-Linen-1.jpg   \n",
       "\n",
       "                                                      Colors  \n",
       "0    Stone Dusty Pink Linen Emerald Navy Slate Grey Charcoal  \n",
       "1                 Dark Green Charcoal French Grey Navy Stone  \n",
       "2              Antique Green Charcoal French Grey Navy Stone  \n",
       "3  Dusty Blue Dusty Pink Linen Emerald Navy Slate Grey Stone  \n",
       "4                        Linen Antique Grey Green Navy Stone  "
      ]
     },
     "execution_count": 18,
     "metadata": {},
     "output_type": "execute_result"
    }
   ],
   "source": [
    "df.head()"
   ]
  },
  {
   "cell_type": "code",
   "execution_count": null,
   "metadata": {},
   "outputs": [],
   "source": []
  },
  {
   "cell_type": "code",
   "execution_count": null,
   "metadata": {},
   "outputs": [],
   "source": []
  },
  {
   "cell_type": "code",
   "execution_count": null,
   "metadata": {},
   "outputs": [],
   "source": [
    "scaler = StandardScaler()"
   ]
  },
  {
   "cell_type": "code",
   "execution_count": null,
   "metadata": {},
   "outputs": [],
   "source": [
    "df['Price'] = scaler.fit_transform(df[['Price']])"
   ]
  },
  {
   "cell_type": "code",
   "execution_count": null,
   "metadata": {},
   "outputs": [],
   "source": [
    "df['Colors'] = pd.factorize(df['Colors'])[0]"
   ]
  },
  {
   "cell_type": "code",
   "execution_count": null,
   "metadata": {},
   "outputs": [],
   "source": []
  },
  {
   "cell_type": "code",
   "execution_count": null,
   "metadata": {},
   "outputs": [],
   "source": [
    "# Creating feature vectors\n",
    "features = df[['Colors', 'Price']].values\n",
    "\n",
    "# Compute cosine similarity matrix\n",
    "similarity_matrix = cosine_similarity(features, features)"
   ]
  },
  {
   "cell_type": "code",
   "execution_count": null,
   "metadata": {},
   "outputs": [],
   "source": [
    "def recommend_items(item_name, similarity_matrix, df, top_n=10):\n",
    "    if item_name not in df['Title'].values:\n",
    "        return f\"Item '{item_name}' not found in the dataset.\"\n",
    "\n",
    "    item_index = df.index[df['Title'] == item_name].tolist()[0]\n",
    "\n",
    "    similarity_scores = list(enumerate(similarity_matrix[item_index]))\n",
    "\n",
    "    similarity_scores = sorted(similarity_scores, key=lambda x: x[1], reverse=True)\n",
    "\n",
    "    top_similar_items = similarity_scores[1:top_n+1]\n",
    "\n",
    "    recommended_items = [df.iloc[item[0]]['Title'] for item in top_similar_items]\n",
    "\n",
    "    return recommended_items\n",
    "\n",
    "# Example usage\n",
    "item_name = 'YouCopia ReStickable 3D Fridge Labels Pack of 10'\n",
    "recommendations = recommend_items(item_name, similarity_matrix, df)\n",
    "print(f\"Because you viewed {item_name}, you may also like: {', '.join(recommendations)}\")\n"
   ]
  },
  {
   "cell_type": "code",
   "execution_count": null,
   "metadata": {},
   "outputs": [],
   "source": [
    "recommendations"
   ]
  },
  {
   "cell_type": "code",
   "execution_count": null,
   "metadata": {},
   "outputs": [],
   "source": [
    "df[df['Title']==item_name]"
   ]
  },
  {
   "cell_type": "code",
   "execution_count": null,
   "metadata": {},
   "outputs": [],
   "source": [
    "df[df['Title']==item_name]['Link']"
   ]
  },
  {
   "cell_type": "code",
   "execution_count": null,
   "metadata": {},
   "outputs": [],
   "source": [
    "[df[df['Title']==rec]['Link'] for rec in recommendations]"
   ]
  },
  {
   "cell_type": "code",
   "execution_count": null,
   "metadata": {},
   "outputs": [],
   "source": []
  },
  {
   "cell_type": "code",
   "execution_count": null,
   "metadata": {},
   "outputs": [],
   "source": []
  },
  {
   "cell_type": "code",
   "execution_count": null,
   "metadata": {},
   "outputs": [],
   "source": []
  },
  {
   "cell_type": "code",
   "execution_count": null,
   "metadata": {},
   "outputs": [],
   "source": []
  },
  {
   "cell_type": "code",
   "execution_count": null,
   "metadata": {},
   "outputs": [],
   "source": []
  },
  {
   "cell_type": "code",
   "execution_count": null,
   "metadata": {},
   "outputs": [],
   "source": [
    "import pandas as pd\n",
    "from sklearn.metrics.pairwise import cosine_similarity\n",
    "from sklearn.preprocessing import StandardScaler\n",
    "\n",
    "# Example dataset (replace with your actual dataset loading)\n",
    "data = {\n",
    "    'furniture_name': ['Sofa', 'Table', 'Chair', 'Cushion', 'Bed', 'Desk'],\n",
    "    'color': ['Red', 'Brown', 'White', 'Blue', 'Black', 'Brown'],\n",
    "    'price': [500, 300, 150, 50, 800, 400]\n",
    "}\n",
    "\n",
    "df = pd.DataFrame(data)\n",
    "\n",
    "# Encoding categorical variables (color)\n",
    "df['color_encoded'] = pd.factorize(df['color'])[0]\n",
    "\n",
    "# Scaling numerical features (price)\n",
    "scaler = StandardScaler()\n",
    "df['price_scaled'] = scaler.fit_transform(df[['price']])\n",
    "\n",
    "# Creating feature vectors\n",
    "features = df[['color_encoded', 'price_scaled']].values\n",
    "\n",
    "# Compute cosine similarity matrix\n",
    "similarity_matrix = cosine_similarity(features, features)\n",
    "\n",
    "# Function to recommend items\n",
    "def recommend_items(item_name, similarity_matrix, df, top_n=3):\n",
    "    item_index = df.index[df['furniture_name'] == item_name][0]\n",
    "    similarity_scores = list(enumerate(similarity_matrix[item_index]))\n",
    "    similarity_scores = sorted(similarity_scores, key=lambda x: x[1], reverse=True)\n",
    "    top_similar_items = similarity_scores[1:top_n+1]  # Exclude itself, get top N similar items\n",
    "    recommended_items = [df.iloc[item[0]]['furniture_name'] for item in top_similar_items]\n",
    "    return recommended_items\n",
    "\n",
    "# Example usage\n",
    "item_name = 'Sofa'\n",
    "recommendations = recommend_items(item_name, similarity_matrix, df)\n",
    "print(f\"Because you viewed {item_name}, you may also like: {', '.join(recommendations)}\")\n"
   ]
  },
  {
   "cell_type": "code",
   "execution_count": null,
   "metadata": {},
   "outputs": [],
   "source": []
  }
 ],
 "metadata": {
  "kernelspec": {
   "display_name": ".venv",
   "language": "python",
   "name": "python3"
  },
  "language_info": {
   "codemirror_mode": {
    "name": "ipython",
    "version": 3
   },
   "file_extension": ".py",
   "mimetype": "text/x-python",
   "name": "python",
   "nbconvert_exporter": "python",
   "pygments_lexer": "ipython3",
   "version": "3.9.13"
  }
 },
 "nbformat": 4,
 "nbformat_minor": 2
}
