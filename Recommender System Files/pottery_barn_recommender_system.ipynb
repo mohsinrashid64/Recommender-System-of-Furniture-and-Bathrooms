{
 "cells": [
  {
   "cell_type": "markdown",
   "metadata": {},
   "source": [
    "# Import Libraries"
   ]
  },
  {
   "cell_type": "code",
   "execution_count": 1,
   "metadata": {},
   "outputs": [],
   "source": [
    "import pandas as pd \n",
    "import numpy as np\n",
    "import re\n",
    "from sklearn.metrics.pairwise import cosine_similarity\n",
    "from sklearn.preprocessing import StandardScaler\n",
    "pd.set_option('display.max_colwidth', None) "
   ]
  },
  {
   "cell_type": "markdown",
   "metadata": {},
   "source": [
    "# Loading Dataframe"
   ]
  },
  {
   "cell_type": "code",
   "execution_count": 2,
   "metadata": {},
   "outputs": [],
   "source": [
    "df=pd.read_csv('../data/PotteryBarn_data.csv')"
   ]
  },
  {
   "cell_type": "code",
   "execution_count": 3,
   "metadata": {},
   "outputs": [
    {
     "data": {
      "text/plain": [
       "Title               0\n",
       "Link                0\n",
       "Sale Price          0\n",
       "Regular Price    4538\n",
       "Image Path         14\n",
       "Swatch Colors    6415\n",
       "dtype: int64"
      ]
     },
     "execution_count": 3,
     "metadata": {},
     "output_type": "execute_result"
    }
   ],
   "source": [
    "df.isna().sum()"
   ]
  },
  {
   "cell_type": "code",
   "execution_count": 4,
   "metadata": {},
   "outputs": [],
   "source": [
    "df = df[['Title','Sale Price','Swatch Colors','Link']]"
   ]
  },
  {
   "cell_type": "code",
   "execution_count": 5,
   "metadata": {},
   "outputs": [
    {
     "data": {
      "text/plain": [
       "Title               0\n",
       "Sale Price          0\n",
       "Swatch Colors    6415\n",
       "Link                0\n",
       "dtype: int64"
      ]
     },
     "execution_count": 5,
     "metadata": {},
     "output_type": "execute_result"
    }
   ],
   "source": [
    "df.isna().sum()"
   ]
  },
  {
   "cell_type": "code",
   "execution_count": 6,
   "metadata": {},
   "outputs": [
    {
     "name": "stdout",
     "output_type": "stream",
     "text": [
      "<class 'pandas.core.frame.DataFrame'>\n",
      "RangeIndex: 11014 entries, 0 to 11013\n",
      "Data columns (total 4 columns):\n",
      " #   Column         Non-Null Count  Dtype \n",
      "---  ------         --------------  ----- \n",
      " 0   Title          11014 non-null  object\n",
      " 1   Sale Price     11014 non-null  object\n",
      " 2   Swatch Colors  4599 non-null   object\n",
      " 3   Link           11014 non-null  object\n",
      "dtypes: object(4)\n",
      "memory usage: 344.3+ KB\n"
     ]
    }
   ],
   "source": [
    "df.info()"
   ]
  },
  {
   "cell_type": "code",
   "execution_count": 7,
   "metadata": {},
   "outputs": [],
   "source": [
    "df.rename(columns={'Sale Price': 'Price',\n",
    "                   'Swatch Colors': 'Colors'},\n",
    "          inplace=True, errors='raise')"
   ]
  },
  {
   "cell_type": "markdown",
   "metadata": {},
   "source": [
    "# Displaying Dataset"
   ]
  },
  {
   "cell_type": "code",
   "execution_count": 8,
   "metadata": {},
   "outputs": [
    {
     "data": {
      "text/html": [
       "<div>\n",
       "<style scoped>\n",
       "    .dataframe tbody tr th:only-of-type {\n",
       "        vertical-align: middle;\n",
       "    }\n",
       "\n",
       "    .dataframe tbody tr th {\n",
       "        vertical-align: top;\n",
       "    }\n",
       "\n",
       "    .dataframe thead th {\n",
       "        text-align: right;\n",
       "    }\n",
       "</style>\n",
       "<table border=\"1\" class=\"dataframe\">\n",
       "  <thead>\n",
       "    <tr style=\"text-align: right;\">\n",
       "      <th></th>\n",
       "      <th>Title</th>\n",
       "      <th>Price</th>\n",
       "      <th>Colors</th>\n",
       "      <th>Link</th>\n",
       "    </tr>\n",
       "  </thead>\n",
       "  <tbody>\n",
       "    <tr>\n",
       "      <th>0</th>\n",
       "      <td>Big Sur Square Arm Sofa (76\"–105\")</td>\n",
       "      <td>1,614</td>\n",
       "      <td>Performance Boucle, Oatmeal, Performance Boucle, Ivory, Performance Boucle, Pebble, Performance Boucle, Metal</td>\n",
       "      <td>https://www.potterybarn.com/products/big-sur-square-arm-upholstered-sofa-collection/?pkey=cbig-sur-sofas-sectionals&amp;cm_sp=ossa-17548_bestseller_variant</td>\n",
       "    </tr>\n",
       "    <tr>\n",
       "      <th>1</th>\n",
       "      <td>Big Sur Square Arm Chaise Sectional (114\"–156\")</td>\n",
       "      <td>3,229</td>\n",
       "      <td>Performance Boucle, Oatmeal, Performance Boucle, Ivory, Performance Boucle, Pebble, Performance Boucle, Metal</td>\n",
       "      <td>https://www.potterybarn.com/products/big-sur-square-arm-upholstered-sofa-with-chaise-sectional/?pkey=cbig-sur-sofas-sectionals&amp;cm_sp=ossa-17548_bestseller_variant</td>\n",
       "    </tr>\n",
       "    <tr>\n",
       "      <th>2</th>\n",
       "      <td>Big Sur Square Arm Deep Seat Chaise Sectional (105\"–147\")</td>\n",
       "      <td>3,739</td>\n",
       "      <td>Performance Boucle, Oatmeal, Performance Boucle, Ivory, Performance Boucle, Pebble, Performance Boucle, Metal</td>\n",
       "      <td>https://www.potterybarn.com/products/big-sur-square-arm-deep-seat-upholstered-sofa-chaise-sectional/?pkey=cbig-sur-sofas-sectionals&amp;cm_sp=ossa-17548_bestseller_variant</td>\n",
       "    </tr>\n",
       "    <tr>\n",
       "      <th>3</th>\n",
       "      <td>Big Sur Square Arm Double Chaise Sectional (146\"–198\")</td>\n",
       "      <td>4,584</td>\n",
       "      <td>Performance Boucle, Oatmeal, Performance Boucle, Ivory, Performance Boucle, Pebble, Performance Boucle, Metal</td>\n",
       "      <td>https://www.potterybarn.com/products/big-sur-square-arm-upholstered-u-chaise-sectional/?pkey=cbig-sur-sofas-sectionals&amp;cm_sp=ossa-17548_bestseller_variant</td>\n",
       "    </tr>\n",
       "    <tr>\n",
       "      <th>4</th>\n",
       "      <td>Big Sur Square Arm Deep Seat Sofa (77\"–105\")</td>\n",
       "      <td>1,869</td>\n",
       "      <td>Performance Boucle, Oatmeal, Performance Boucle, Ivory, Performance Boucle, Pebble, Performance Boucle, Metal</td>\n",
       "      <td>https://www.potterybarn.com/products/big-sur-square-arm-deep-seat-upholstered-sofa-collection/?pkey=cbig-sur-sofas-sectionals&amp;cm_sp=ossa-17548_bestseller_variant</td>\n",
       "    </tr>\n",
       "  </tbody>\n",
       "</table>\n",
       "</div>"
      ],
      "text/plain": [
       "                                                       Title  Price  \\\n",
       "0                         Big Sur Square Arm Sofa (76\"–105\")  1,614   \n",
       "1            Big Sur Square Arm Chaise Sectional (114\"–156\")  3,229   \n",
       "2  Big Sur Square Arm Deep Seat Chaise Sectional (105\"–147\")  3,739   \n",
       "3     Big Sur Square Arm Double Chaise Sectional (146\"–198\")  4,584   \n",
       "4               Big Sur Square Arm Deep Seat Sofa (77\"–105\")  1,869   \n",
       "\n",
       "                                                                                                          Colors  \\\n",
       "0  Performance Boucle, Oatmeal, Performance Boucle, Ivory, Performance Boucle, Pebble, Performance Boucle, Metal   \n",
       "1  Performance Boucle, Oatmeal, Performance Boucle, Ivory, Performance Boucle, Pebble, Performance Boucle, Metal   \n",
       "2  Performance Boucle, Oatmeal, Performance Boucle, Ivory, Performance Boucle, Pebble, Performance Boucle, Metal   \n",
       "3  Performance Boucle, Oatmeal, Performance Boucle, Ivory, Performance Boucle, Pebble, Performance Boucle, Metal   \n",
       "4  Performance Boucle, Oatmeal, Performance Boucle, Ivory, Performance Boucle, Pebble, Performance Boucle, Metal   \n",
       "\n",
       "                                                                                                                                                                      Link  \n",
       "0                  https://www.potterybarn.com/products/big-sur-square-arm-upholstered-sofa-collection/?pkey=cbig-sur-sofas-sectionals&cm_sp=ossa-17548_bestseller_variant  \n",
       "1       https://www.potterybarn.com/products/big-sur-square-arm-upholstered-sofa-with-chaise-sectional/?pkey=cbig-sur-sofas-sectionals&cm_sp=ossa-17548_bestseller_variant  \n",
       "2  https://www.potterybarn.com/products/big-sur-square-arm-deep-seat-upholstered-sofa-chaise-sectional/?pkey=cbig-sur-sofas-sectionals&cm_sp=ossa-17548_bestseller_variant  \n",
       "3               https://www.potterybarn.com/products/big-sur-square-arm-upholstered-u-chaise-sectional/?pkey=cbig-sur-sofas-sectionals&cm_sp=ossa-17548_bestseller_variant  \n",
       "4        https://www.potterybarn.com/products/big-sur-square-arm-deep-seat-upholstered-sofa-collection/?pkey=cbig-sur-sofas-sectionals&cm_sp=ossa-17548_bestseller_variant  "
      ]
     },
     "execution_count": 8,
     "metadata": {},
     "output_type": "execute_result"
    }
   ],
   "source": [
    "df.head()"
   ]
  },
  {
   "cell_type": "markdown",
   "metadata": {},
   "source": [
    "# Droping Duplicate"
   ]
  },
  {
   "cell_type": "code",
   "execution_count": 9,
   "metadata": {},
   "outputs": [],
   "source": [
    "df.drop_duplicates(subset = \"Title\",inplace=True)"
   ]
  },
  {
   "cell_type": "code",
   "execution_count": 10,
   "metadata": {},
   "outputs": [
    {
     "name": "stdout",
     "output_type": "stream",
     "text": [
      "<class 'pandas.core.frame.DataFrame'>\n",
      "Index: 4631 entries, 0 to 11013\n",
      "Data columns (total 4 columns):\n",
      " #   Column  Non-Null Count  Dtype \n",
      "---  ------  --------------  ----- \n",
      " 0   Title   4631 non-null   object\n",
      " 1   Price   4631 non-null   object\n",
      " 2   Colors  2285 non-null   object\n",
      " 3   Link    4631 non-null   object\n",
      "dtypes: object(4)\n",
      "memory usage: 180.9+ KB\n"
     ]
    }
   ],
   "source": [
    "df.info()"
   ]
  },
  {
   "cell_type": "markdown",
   "metadata": {},
   "source": [
    "# Using Regex to Clean `Title` Column"
   ]
  },
  {
   "cell_type": "code",
   "execution_count": 11,
   "metadata": {},
   "outputs": [],
   "source": [
    "title=df['Title']"
   ]
  },
  {
   "cell_type": "code",
   "execution_count": 12,
   "metadata": {},
   "outputs": [
    {
     "data": {
      "text/plain": [
       "0                           Big Sur Square Arm Sofa (76\"–105\")\n",
       "1              Big Sur Square Arm Chaise Sectional (114\"–156\")\n",
       "2    Big Sur Square Arm Deep Seat Chaise Sectional (105\"–147\")\n",
       "3       Big Sur Square Arm Double Chaise Sectional (146\"–198\")\n",
       "4                 Big Sur Square Arm Deep Seat Sofa (77\"–105\")\n",
       "Name: Title, dtype: object"
      ]
     },
     "execution_count": 12,
     "metadata": {},
     "output_type": "execute_result"
    }
   ],
   "source": [
    "title.head()"
   ]
  },
  {
   "cell_type": "code",
   "execution_count": 13,
   "metadata": {},
   "outputs": [],
   "source": [
    "df['Title'] = df['Title'].str.replace(r'\\s*\\([^)]*\\)', '',regex=True)"
   ]
  },
  {
   "cell_type": "code",
   "execution_count": 14,
   "metadata": {},
   "outputs": [
    {
     "data": {
      "text/html": [
       "<div>\n",
       "<style scoped>\n",
       "    .dataframe tbody tr th:only-of-type {\n",
       "        vertical-align: middle;\n",
       "    }\n",
       "\n",
       "    .dataframe tbody tr th {\n",
       "        vertical-align: top;\n",
       "    }\n",
       "\n",
       "    .dataframe thead th {\n",
       "        text-align: right;\n",
       "    }\n",
       "</style>\n",
       "<table border=\"1\" class=\"dataframe\">\n",
       "  <thead>\n",
       "    <tr style=\"text-align: right;\">\n",
       "      <th></th>\n",
       "      <th>Title</th>\n",
       "      <th>Price</th>\n",
       "      <th>Colors</th>\n",
       "      <th>Link</th>\n",
       "    </tr>\n",
       "  </thead>\n",
       "  <tbody>\n",
       "    <tr>\n",
       "      <th>0</th>\n",
       "      <td>Big Sur Square Arm Sofa</td>\n",
       "      <td>1,614</td>\n",
       "      <td>Performance Boucle, Oatmeal, Performance Boucle, Ivory, Performance Boucle, Pebble, Performance Boucle, Metal</td>\n",
       "      <td>https://www.potterybarn.com/products/big-sur-square-arm-upholstered-sofa-collection/?pkey=cbig-sur-sofas-sectionals&amp;cm_sp=ossa-17548_bestseller_variant</td>\n",
       "    </tr>\n",
       "    <tr>\n",
       "      <th>1</th>\n",
       "      <td>Big Sur Square Arm Chaise Sectional</td>\n",
       "      <td>3,229</td>\n",
       "      <td>Performance Boucle, Oatmeal, Performance Boucle, Ivory, Performance Boucle, Pebble, Performance Boucle, Metal</td>\n",
       "      <td>https://www.potterybarn.com/products/big-sur-square-arm-upholstered-sofa-with-chaise-sectional/?pkey=cbig-sur-sofas-sectionals&amp;cm_sp=ossa-17548_bestseller_variant</td>\n",
       "    </tr>\n",
       "    <tr>\n",
       "      <th>2</th>\n",
       "      <td>Big Sur Square Arm Deep Seat Chaise Sectional</td>\n",
       "      <td>3,739</td>\n",
       "      <td>Performance Boucle, Oatmeal, Performance Boucle, Ivory, Performance Boucle, Pebble, Performance Boucle, Metal</td>\n",
       "      <td>https://www.potterybarn.com/products/big-sur-square-arm-deep-seat-upholstered-sofa-chaise-sectional/?pkey=cbig-sur-sofas-sectionals&amp;cm_sp=ossa-17548_bestseller_variant</td>\n",
       "    </tr>\n",
       "    <tr>\n",
       "      <th>3</th>\n",
       "      <td>Big Sur Square Arm Double Chaise Sectional</td>\n",
       "      <td>4,584</td>\n",
       "      <td>Performance Boucle, Oatmeal, Performance Boucle, Ivory, Performance Boucle, Pebble, Performance Boucle, Metal</td>\n",
       "      <td>https://www.potterybarn.com/products/big-sur-square-arm-upholstered-u-chaise-sectional/?pkey=cbig-sur-sofas-sectionals&amp;cm_sp=ossa-17548_bestseller_variant</td>\n",
       "    </tr>\n",
       "    <tr>\n",
       "      <th>4</th>\n",
       "      <td>Big Sur Square Arm Deep Seat Sofa</td>\n",
       "      <td>1,869</td>\n",
       "      <td>Performance Boucle, Oatmeal, Performance Boucle, Ivory, Performance Boucle, Pebble, Performance Boucle, Metal</td>\n",
       "      <td>https://www.potterybarn.com/products/big-sur-square-arm-deep-seat-upholstered-sofa-collection/?pkey=cbig-sur-sofas-sectionals&amp;cm_sp=ossa-17548_bestseller_variant</td>\n",
       "    </tr>\n",
       "  </tbody>\n",
       "</table>\n",
       "</div>"
      ],
      "text/plain": [
       "                                           Title  Price  \\\n",
       "0                        Big Sur Square Arm Sofa  1,614   \n",
       "1            Big Sur Square Arm Chaise Sectional  3,229   \n",
       "2  Big Sur Square Arm Deep Seat Chaise Sectional  3,739   \n",
       "3     Big Sur Square Arm Double Chaise Sectional  4,584   \n",
       "4              Big Sur Square Arm Deep Seat Sofa  1,869   \n",
       "\n",
       "                                                                                                          Colors  \\\n",
       "0  Performance Boucle, Oatmeal, Performance Boucle, Ivory, Performance Boucle, Pebble, Performance Boucle, Metal   \n",
       "1  Performance Boucle, Oatmeal, Performance Boucle, Ivory, Performance Boucle, Pebble, Performance Boucle, Metal   \n",
       "2  Performance Boucle, Oatmeal, Performance Boucle, Ivory, Performance Boucle, Pebble, Performance Boucle, Metal   \n",
       "3  Performance Boucle, Oatmeal, Performance Boucle, Ivory, Performance Boucle, Pebble, Performance Boucle, Metal   \n",
       "4  Performance Boucle, Oatmeal, Performance Boucle, Ivory, Performance Boucle, Pebble, Performance Boucle, Metal   \n",
       "\n",
       "                                                                                                                                                                      Link  \n",
       "0                  https://www.potterybarn.com/products/big-sur-square-arm-upholstered-sofa-collection/?pkey=cbig-sur-sofas-sectionals&cm_sp=ossa-17548_bestseller_variant  \n",
       "1       https://www.potterybarn.com/products/big-sur-square-arm-upholstered-sofa-with-chaise-sectional/?pkey=cbig-sur-sofas-sectionals&cm_sp=ossa-17548_bestseller_variant  \n",
       "2  https://www.potterybarn.com/products/big-sur-square-arm-deep-seat-upholstered-sofa-chaise-sectional/?pkey=cbig-sur-sofas-sectionals&cm_sp=ossa-17548_bestseller_variant  \n",
       "3               https://www.potterybarn.com/products/big-sur-square-arm-upholstered-u-chaise-sectional/?pkey=cbig-sur-sofas-sectionals&cm_sp=ossa-17548_bestseller_variant  \n",
       "4        https://www.potterybarn.com/products/big-sur-square-arm-deep-seat-upholstered-sofa-collection/?pkey=cbig-sur-sofas-sectionals&cm_sp=ossa-17548_bestseller_variant  "
      ]
     },
     "execution_count": 14,
     "metadata": {},
     "output_type": "execute_result"
    }
   ],
   "source": [
    "df.head()"
   ]
  },
  {
   "cell_type": "markdown",
   "metadata": {},
   "source": [
    "# Replacing Commas With Nothing in Price Column"
   ]
  },
  {
   "cell_type": "code",
   "execution_count": 15,
   "metadata": {},
   "outputs": [],
   "source": [
    "df['Price'] = df['Price'].str.replace(',', '',regex=True)"
   ]
  },
  {
   "cell_type": "code",
   "execution_count": 16,
   "metadata": {},
   "outputs": [
    {
     "data": {
      "text/html": [
       "<div>\n",
       "<style scoped>\n",
       "    .dataframe tbody tr th:only-of-type {\n",
       "        vertical-align: middle;\n",
       "    }\n",
       "\n",
       "    .dataframe tbody tr th {\n",
       "        vertical-align: top;\n",
       "    }\n",
       "\n",
       "    .dataframe thead th {\n",
       "        text-align: right;\n",
       "    }\n",
       "</style>\n",
       "<table border=\"1\" class=\"dataframe\">\n",
       "  <thead>\n",
       "    <tr style=\"text-align: right;\">\n",
       "      <th></th>\n",
       "      <th>Title</th>\n",
       "      <th>Price</th>\n",
       "      <th>Colors</th>\n",
       "      <th>Link</th>\n",
       "    </tr>\n",
       "  </thead>\n",
       "  <tbody>\n",
       "    <tr>\n",
       "      <th>0</th>\n",
       "      <td>Big Sur Square Arm Sofa</td>\n",
       "      <td>1614</td>\n",
       "      <td>Performance Boucle, Oatmeal, Performance Boucle, Ivory, Performance Boucle, Pebble, Performance Boucle, Metal</td>\n",
       "      <td>https://www.potterybarn.com/products/big-sur-square-arm-upholstered-sofa-collection/?pkey=cbig-sur-sofas-sectionals&amp;cm_sp=ossa-17548_bestseller_variant</td>\n",
       "    </tr>\n",
       "    <tr>\n",
       "      <th>1</th>\n",
       "      <td>Big Sur Square Arm Chaise Sectional</td>\n",
       "      <td>3229</td>\n",
       "      <td>Performance Boucle, Oatmeal, Performance Boucle, Ivory, Performance Boucle, Pebble, Performance Boucle, Metal</td>\n",
       "      <td>https://www.potterybarn.com/products/big-sur-square-arm-upholstered-sofa-with-chaise-sectional/?pkey=cbig-sur-sofas-sectionals&amp;cm_sp=ossa-17548_bestseller_variant</td>\n",
       "    </tr>\n",
       "    <tr>\n",
       "      <th>2</th>\n",
       "      <td>Big Sur Square Arm Deep Seat Chaise Sectional</td>\n",
       "      <td>3739</td>\n",
       "      <td>Performance Boucle, Oatmeal, Performance Boucle, Ivory, Performance Boucle, Pebble, Performance Boucle, Metal</td>\n",
       "      <td>https://www.potterybarn.com/products/big-sur-square-arm-deep-seat-upholstered-sofa-chaise-sectional/?pkey=cbig-sur-sofas-sectionals&amp;cm_sp=ossa-17548_bestseller_variant</td>\n",
       "    </tr>\n",
       "    <tr>\n",
       "      <th>3</th>\n",
       "      <td>Big Sur Square Arm Double Chaise Sectional</td>\n",
       "      <td>4584</td>\n",
       "      <td>Performance Boucle, Oatmeal, Performance Boucle, Ivory, Performance Boucle, Pebble, Performance Boucle, Metal</td>\n",
       "      <td>https://www.potterybarn.com/products/big-sur-square-arm-upholstered-u-chaise-sectional/?pkey=cbig-sur-sofas-sectionals&amp;cm_sp=ossa-17548_bestseller_variant</td>\n",
       "    </tr>\n",
       "    <tr>\n",
       "      <th>4</th>\n",
       "      <td>Big Sur Square Arm Deep Seat Sofa</td>\n",
       "      <td>1869</td>\n",
       "      <td>Performance Boucle, Oatmeal, Performance Boucle, Ivory, Performance Boucle, Pebble, Performance Boucle, Metal</td>\n",
       "      <td>https://www.potterybarn.com/products/big-sur-square-arm-deep-seat-upholstered-sofa-collection/?pkey=cbig-sur-sofas-sectionals&amp;cm_sp=ossa-17548_bestseller_variant</td>\n",
       "    </tr>\n",
       "  </tbody>\n",
       "</table>\n",
       "</div>"
      ],
      "text/plain": [
       "                                           Title Price  \\\n",
       "0                        Big Sur Square Arm Sofa  1614   \n",
       "1            Big Sur Square Arm Chaise Sectional  3229   \n",
       "2  Big Sur Square Arm Deep Seat Chaise Sectional  3739   \n",
       "3     Big Sur Square Arm Double Chaise Sectional  4584   \n",
       "4              Big Sur Square Arm Deep Seat Sofa  1869   \n",
       "\n",
       "                                                                                                          Colors  \\\n",
       "0  Performance Boucle, Oatmeal, Performance Boucle, Ivory, Performance Boucle, Pebble, Performance Boucle, Metal   \n",
       "1  Performance Boucle, Oatmeal, Performance Boucle, Ivory, Performance Boucle, Pebble, Performance Boucle, Metal   \n",
       "2  Performance Boucle, Oatmeal, Performance Boucle, Ivory, Performance Boucle, Pebble, Performance Boucle, Metal   \n",
       "3  Performance Boucle, Oatmeal, Performance Boucle, Ivory, Performance Boucle, Pebble, Performance Boucle, Metal   \n",
       "4  Performance Boucle, Oatmeal, Performance Boucle, Ivory, Performance Boucle, Pebble, Performance Boucle, Metal   \n",
       "\n",
       "                                                                                                                                                                      Link  \n",
       "0                  https://www.potterybarn.com/products/big-sur-square-arm-upholstered-sofa-collection/?pkey=cbig-sur-sofas-sectionals&cm_sp=ossa-17548_bestseller_variant  \n",
       "1       https://www.potterybarn.com/products/big-sur-square-arm-upholstered-sofa-with-chaise-sectional/?pkey=cbig-sur-sofas-sectionals&cm_sp=ossa-17548_bestseller_variant  \n",
       "2  https://www.potterybarn.com/products/big-sur-square-arm-deep-seat-upholstered-sofa-chaise-sectional/?pkey=cbig-sur-sofas-sectionals&cm_sp=ossa-17548_bestseller_variant  \n",
       "3               https://www.potterybarn.com/products/big-sur-square-arm-upholstered-u-chaise-sectional/?pkey=cbig-sur-sofas-sectionals&cm_sp=ossa-17548_bestseller_variant  \n",
       "4        https://www.potterybarn.com/products/big-sur-square-arm-deep-seat-upholstered-sofa-collection/?pkey=cbig-sur-sofas-sectionals&cm_sp=ossa-17548_bestseller_variant  "
      ]
     },
     "execution_count": 16,
     "metadata": {},
     "output_type": "execute_result"
    }
   ],
   "source": [
    "df.head()"
   ]
  },
  {
   "cell_type": "markdown",
   "metadata": {},
   "source": [
    "# Replacing Commas in Colors Column"
   ]
  },
  {
   "cell_type": "code",
   "execution_count": 17,
   "metadata": {},
   "outputs": [],
   "source": [
    "df['Colors']=df['Colors'].str.replace(',','')"
   ]
  },
  {
   "cell_type": "code",
   "execution_count": 18,
   "metadata": {},
   "outputs": [
    {
     "data": {
      "text/html": [
       "<div>\n",
       "<style scoped>\n",
       "    .dataframe tbody tr th:only-of-type {\n",
       "        vertical-align: middle;\n",
       "    }\n",
       "\n",
       "    .dataframe tbody tr th {\n",
       "        vertical-align: top;\n",
       "    }\n",
       "\n",
       "    .dataframe thead th {\n",
       "        text-align: right;\n",
       "    }\n",
       "</style>\n",
       "<table border=\"1\" class=\"dataframe\">\n",
       "  <thead>\n",
       "    <tr style=\"text-align: right;\">\n",
       "      <th></th>\n",
       "      <th>Title</th>\n",
       "      <th>Price</th>\n",
       "      <th>Colors</th>\n",
       "      <th>Link</th>\n",
       "    </tr>\n",
       "  </thead>\n",
       "  <tbody>\n",
       "    <tr>\n",
       "      <th>0</th>\n",
       "      <td>Big Sur Square Arm Sofa</td>\n",
       "      <td>1614</td>\n",
       "      <td>Performance Boucle Oatmeal Performance Boucle Ivory Performance Boucle Pebble Performance Boucle Metal</td>\n",
       "      <td>https://www.potterybarn.com/products/big-sur-square-arm-upholstered-sofa-collection/?pkey=cbig-sur-sofas-sectionals&amp;cm_sp=ossa-17548_bestseller_variant</td>\n",
       "    </tr>\n",
       "    <tr>\n",
       "      <th>1</th>\n",
       "      <td>Big Sur Square Arm Chaise Sectional</td>\n",
       "      <td>3229</td>\n",
       "      <td>Performance Boucle Oatmeal Performance Boucle Ivory Performance Boucle Pebble Performance Boucle Metal</td>\n",
       "      <td>https://www.potterybarn.com/products/big-sur-square-arm-upholstered-sofa-with-chaise-sectional/?pkey=cbig-sur-sofas-sectionals&amp;cm_sp=ossa-17548_bestseller_variant</td>\n",
       "    </tr>\n",
       "    <tr>\n",
       "      <th>2</th>\n",
       "      <td>Big Sur Square Arm Deep Seat Chaise Sectional</td>\n",
       "      <td>3739</td>\n",
       "      <td>Performance Boucle Oatmeal Performance Boucle Ivory Performance Boucle Pebble Performance Boucle Metal</td>\n",
       "      <td>https://www.potterybarn.com/products/big-sur-square-arm-deep-seat-upholstered-sofa-chaise-sectional/?pkey=cbig-sur-sofas-sectionals&amp;cm_sp=ossa-17548_bestseller_variant</td>\n",
       "    </tr>\n",
       "    <tr>\n",
       "      <th>3</th>\n",
       "      <td>Big Sur Square Arm Double Chaise Sectional</td>\n",
       "      <td>4584</td>\n",
       "      <td>Performance Boucle Oatmeal Performance Boucle Ivory Performance Boucle Pebble Performance Boucle Metal</td>\n",
       "      <td>https://www.potterybarn.com/products/big-sur-square-arm-upholstered-u-chaise-sectional/?pkey=cbig-sur-sofas-sectionals&amp;cm_sp=ossa-17548_bestseller_variant</td>\n",
       "    </tr>\n",
       "    <tr>\n",
       "      <th>4</th>\n",
       "      <td>Big Sur Square Arm Deep Seat Sofa</td>\n",
       "      <td>1869</td>\n",
       "      <td>Performance Boucle Oatmeal Performance Boucle Ivory Performance Boucle Pebble Performance Boucle Metal</td>\n",
       "      <td>https://www.potterybarn.com/products/big-sur-square-arm-deep-seat-upholstered-sofa-collection/?pkey=cbig-sur-sofas-sectionals&amp;cm_sp=ossa-17548_bestseller_variant</td>\n",
       "    </tr>\n",
       "  </tbody>\n",
       "</table>\n",
       "</div>"
      ],
      "text/plain": [
       "                                           Title Price  \\\n",
       "0                        Big Sur Square Arm Sofa  1614   \n",
       "1            Big Sur Square Arm Chaise Sectional  3229   \n",
       "2  Big Sur Square Arm Deep Seat Chaise Sectional  3739   \n",
       "3     Big Sur Square Arm Double Chaise Sectional  4584   \n",
       "4              Big Sur Square Arm Deep Seat Sofa  1869   \n",
       "\n",
       "                                                                                                   Colors  \\\n",
       "0  Performance Boucle Oatmeal Performance Boucle Ivory Performance Boucle Pebble Performance Boucle Metal   \n",
       "1  Performance Boucle Oatmeal Performance Boucle Ivory Performance Boucle Pebble Performance Boucle Metal   \n",
       "2  Performance Boucle Oatmeal Performance Boucle Ivory Performance Boucle Pebble Performance Boucle Metal   \n",
       "3  Performance Boucle Oatmeal Performance Boucle Ivory Performance Boucle Pebble Performance Boucle Metal   \n",
       "4  Performance Boucle Oatmeal Performance Boucle Ivory Performance Boucle Pebble Performance Boucle Metal   \n",
       "\n",
       "                                                                                                                                                                      Link  \n",
       "0                  https://www.potterybarn.com/products/big-sur-square-arm-upholstered-sofa-collection/?pkey=cbig-sur-sofas-sectionals&cm_sp=ossa-17548_bestseller_variant  \n",
       "1       https://www.potterybarn.com/products/big-sur-square-arm-upholstered-sofa-with-chaise-sectional/?pkey=cbig-sur-sofas-sectionals&cm_sp=ossa-17548_bestseller_variant  \n",
       "2  https://www.potterybarn.com/products/big-sur-square-arm-deep-seat-upholstered-sofa-chaise-sectional/?pkey=cbig-sur-sofas-sectionals&cm_sp=ossa-17548_bestseller_variant  \n",
       "3               https://www.potterybarn.com/products/big-sur-square-arm-upholstered-u-chaise-sectional/?pkey=cbig-sur-sofas-sectionals&cm_sp=ossa-17548_bestseller_variant  \n",
       "4        https://www.potterybarn.com/products/big-sur-square-arm-deep-seat-upholstered-sofa-collection/?pkey=cbig-sur-sofas-sectionals&cm_sp=ossa-17548_bestseller_variant  "
      ]
     },
     "execution_count": 18,
     "metadata": {},
     "output_type": "execute_result"
    }
   ],
   "source": [
    "df.head()"
   ]
  },
  {
   "cell_type": "code",
   "execution_count": 19,
   "metadata": {},
   "outputs": [],
   "source": [
    "df['Colors'] = pd.factorize(df['Colors'])[0]"
   ]
  },
  {
   "cell_type": "markdown",
   "metadata": {},
   "source": [
    "# Converting Price From String To Float"
   ]
  },
  {
   "cell_type": "code",
   "execution_count": 20,
   "metadata": {},
   "outputs": [],
   "source": [
    "df['Price'] = df['Price'].str.replace(r'\\S*[a-zA-Z]\\S*', '0',regex=True)"
   ]
  },
  {
   "cell_type": "code",
   "execution_count": 21,
   "metadata": {},
   "outputs": [],
   "source": [
    "df['Price']=df['Price'].astype('float')"
   ]
  },
  {
   "cell_type": "code",
   "execution_count": 22,
   "metadata": {},
   "outputs": [],
   "source": [
    "scaler = StandardScaler()"
   ]
  },
  {
   "cell_type": "code",
   "execution_count": 23,
   "metadata": {},
   "outputs": [],
   "source": [
    "df['Price'] = scaler.fit_transform(df[['Price']])"
   ]
  },
  {
   "cell_type": "code",
   "execution_count": 24,
   "metadata": {},
   "outputs": [],
   "source": [
    "# Creating feature vectors\n",
    "features = df[['Colors', 'Price']].values\n",
    "\n",
    "# Compute cosine similarity matrix\n",
    "similarity_matrix = cosine_similarity(features, features)"
   ]
  },
  {
   "cell_type": "code",
   "execution_count": 25,
   "metadata": {},
   "outputs": [
    {
     "name": "stdout",
     "output_type": "stream",
     "text": [
      "Because you viewed Buchanan Square Arm Chair, you may also like: Big Sur Leather Sectional Ottoman, Pacifica Trundle Sleeper Sofa, Jake Leather Seadrift Wood Base Swivel Chair, Jake Leather Brindle Wood Base Swivel Chair, Turner Storage Ottoman with Pull Out Table, Layton Low Upholstered Bed, Baldwin Leather Swivel Desk Chair, Shasta Roll Arm Leather Chair, Shasta Square Arm Leather Chair, Carmel Leather Ottoman\n"
     ]
    }
   ],
   "source": [
    "def recommend_items(item_name, similarity_matrix, df, top_n=10):\n",
    "    if item_name not in df['Title'].values:\n",
    "        return f\"Item '{item_name}' not found in the dataset.\"\n",
    "\n",
    "    item_index = df.index[df['Title'] == item_name].tolist()[0]\n",
    "\n",
    "    similarity_scores = list(enumerate(similarity_matrix[item_index]))\n",
    "\n",
    "    similarity_scores = sorted(similarity_scores, key=lambda x: x[1], reverse=True)\n",
    "\n",
    "    top_similar_items = similarity_scores[1:top_n+1]\n",
    "\n",
    "    recommended_items = [df.iloc[item[0]]['Title'] for item in top_similar_items]\n",
    "\n",
    "    return recommended_items\n",
    "\n",
    "# Example usage\n",
    "item_name = 'Buchanan Square Arm Chair'\n",
    "recommendations = recommend_items(item_name, similarity_matrix, df)\n",
    "print(f\"Because you viewed {item_name}, you may also like: {', '.join(recommendations)}\")\n"
   ]
  },
  {
   "cell_type": "code",
   "execution_count": 26,
   "metadata": {},
   "outputs": [
    {
     "data": {
      "text/plain": [
       "['Big Sur Leather Sectional Ottoman',\n",
       " 'Pacifica Trundle Sleeper Sofa',\n",
       " 'Jake Leather Seadrift Wood Base Swivel Chair',\n",
       " 'Jake Leather Brindle Wood Base Swivel Chair',\n",
       " 'Turner Storage Ottoman with Pull Out Table',\n",
       " 'Layton Low Upholstered Bed',\n",
       " 'Baldwin Leather Swivel Desk Chair',\n",
       " 'Shasta Roll Arm Leather Chair',\n",
       " 'Shasta Square Arm Leather Chair',\n",
       " 'Carmel Leather Ottoman']"
      ]
     },
     "execution_count": 26,
     "metadata": {},
     "output_type": "execute_result"
    }
   ],
   "source": [
    "recommendations"
   ]
  },
  {
   "cell_type": "code",
   "execution_count": 27,
   "metadata": {},
   "outputs": [
    {
     "data": {
      "text/html": [
       "<div>\n",
       "<style scoped>\n",
       "    .dataframe tbody tr th:only-of-type {\n",
       "        vertical-align: middle;\n",
       "    }\n",
       "\n",
       "    .dataframe tbody tr th {\n",
       "        vertical-align: top;\n",
       "    }\n",
       "\n",
       "    .dataframe thead th {\n",
       "        text-align: right;\n",
       "    }\n",
       "</style>\n",
       "<table border=\"1\" class=\"dataframe\">\n",
       "  <thead>\n",
       "    <tr style=\"text-align: right;\">\n",
       "      <th></th>\n",
       "      <th>Title</th>\n",
       "      <th>Price</th>\n",
       "      <th>Colors</th>\n",
       "      <th>Link</th>\n",
       "    </tr>\n",
       "  </thead>\n",
       "  <tbody>\n",
       "    <tr>\n",
       "      <th>2146</th>\n",
       "      <td>Big Sur Leather Sectional Ottoman</td>\n",
       "      <td>-0.428692</td>\n",
       "      <td>14</td>\n",
       "      <td>https://www.potterybarn.com/products/big-sur-leather-sectional-ottoman/?pkey=cliving-room-benches</td>\n",
       "    </tr>\n",
       "  </tbody>\n",
       "</table>\n",
       "</div>"
      ],
      "text/plain": [
       "                                  Title     Price  Colors  \\\n",
       "2146  Big Sur Leather Sectional Ottoman -0.428692      14   \n",
       "\n",
       "                                                                                                   Link  \n",
       "2146  https://www.potterybarn.com/products/big-sur-leather-sectional-ottoman/?pkey=cliving-room-benches  "
      ]
     },
     "execution_count": 27,
     "metadata": {},
     "output_type": "execute_result"
    }
   ],
   "source": [
    "df[df['Title']==\"Big Sur Leather Sectional Ottoman\"]"
   ]
  },
  {
   "cell_type": "code",
   "execution_count": 28,
   "metadata": {},
   "outputs": [
    {
     "data": {
      "text/plain": [
       "2146    https://www.potterybarn.com/products/big-sur-leather-sectional-ottoman/?pkey=cliving-room-benches\n",
       "Name: Link, dtype: object"
      ]
     },
     "execution_count": 28,
     "metadata": {},
     "output_type": "execute_result"
    }
   ],
   "source": [
    "df[df['Title']==\"Big Sur Leather Sectional Ottoman\"]['Link']"
   ]
  },
  {
   "cell_type": "code",
   "execution_count": 29,
   "metadata": {},
   "outputs": [
    {
     "data": {
      "text/plain": [
       "[2146    https://www.potterybarn.com/products/big-sur-leather-sectional-ottoman/?pkey=cliving-room-benches\n",
       " Name: Link, dtype: object,\n",
       " 1115    https://www.potterybarn.com/products/pacifica-square-arm-upholstered-trundle-sleeper-sofa/?pkey=cpacifica-sofas-sectionals\n",
       " Name: Link, dtype: object,\n",
       " 576    https://www.potterybarn.com/products/jake-leather-wood-legs-swivel-armchair/?pkey=cjake-wooden-base-collection\n",
       " Name: Link, dtype: object,\n",
       " 586    https://www.potterybarn.com/products/jake-leather-dark-wood-base-swivel-armchair/?pkey=cjake-wooden-base-collection\n",
       " Name: Link, dtype: object,\n",
       " 204    https://www.potterybarn.com/products/turner-upholstered-storage-ottoman-pull-out-table/?pkey=cturner-sofas-sectionals\n",
       " Name: Link, dtype: object,\n",
       " 3687    https://www.potterybarn.com/products/layton-low-upholstered-bed/?pkey=clayton-collection\n",
       " Name: Link, dtype: object,\n",
       " 7372    https://www.potterybarn.com/products/baldwin-leather-swivel-desk-chair/?pkey=coffice-chairs\n",
       " Name: Link, dtype: object,\n",
       " 1013    https://www.potterybarn.com/products/shasta-roll-arm-leather-armchair/?pkey=cshasta-collection\n",
       " Name: Link, dtype: object,\n",
       " 1017    https://www.potterybarn.com/products/shasta-square-arm-leather-armchair/?pkey=cshasta-collection\n",
       " Name: Link, dtype: object,\n",
       " 362    https://www.potterybarn.com/products/carmel-leather-ottoman/?pkey=ccarmel-square-arm-collection\n",
       " Name: Link, dtype: object]"
      ]
     },
     "execution_count": 29,
     "metadata": {},
     "output_type": "execute_result"
    }
   ],
   "source": [
    "[df[df['Title']==rec]['Link'] for rec in recommendations]"
   ]
  },
  {
   "cell_type": "code",
   "execution_count": null,
   "metadata": {},
   "outputs": [],
   "source": []
  },
  {
   "cell_type": "code",
   "execution_count": null,
   "metadata": {},
   "outputs": [],
   "source": []
  },
  {
   "cell_type": "code",
   "execution_count": null,
   "metadata": {},
   "outputs": [],
   "source": []
  },
  {
   "cell_type": "code",
   "execution_count": null,
   "metadata": {},
   "outputs": [],
   "source": []
  },
  {
   "cell_type": "code",
   "execution_count": null,
   "metadata": {},
   "outputs": [],
   "source": []
  },
  {
   "cell_type": "code",
   "execution_count": null,
   "metadata": {},
   "outputs": [],
   "source": [
    "import pandas as pd\n",
    "from sklearn.metrics.pairwise import cosine_similarity\n",
    "from sklearn.preprocessing import StandardScaler\n",
    "\n",
    "# Example dataset (replace with your actual dataset loading)\n",
    "data = {\n",
    "    'furniture_name': ['Sofa', 'Table', 'Chair', 'Cushion', 'Bed', 'Desk'],\n",
    "    'color': ['Red', 'Brown', 'White', 'Blue', 'Black', 'Brown'],\n",
    "    'price': [500, 300, 150, 50, 800, 400]\n",
    "}\n",
    "\n",
    "df = pd.DataFrame(data)\n",
    "\n",
    "# Encoding categorical variables (color)\n",
    "df['color_encoded'] = pd.factorize(df['color'])[0]\n",
    "\n",
    "# Scaling numerical features (price)\n",
    "scaler = StandardScaler()\n",
    "df['price_scaled'] = scaler.fit_transform(df[['price']])\n",
    "\n",
    "# Creating feature vectors\n",
    "features = df[['color_encoded', 'price_scaled']].values\n",
    "\n",
    "# Compute cosine similarity matrix\n",
    "similarity_matrix = cosine_similarity(features, features)\n",
    "\n",
    "# Function to recommend items\n",
    "def recommend_items(item_name, similarity_matrix, df, top_n=3):\n",
    "    item_index = df.index[df['furniture_name'] == item_name][0]\n",
    "    similarity_scores = list(enumerate(similarity_matrix[item_index]))\n",
    "    similarity_scores = sorted(similarity_scores, key=lambda x: x[1], reverse=True)\n",
    "    top_similar_items = similarity_scores[1:top_n+1]  # Exclude itself, get top N similar items\n",
    "    recommended_items = [df.iloc[item[0]]['furniture_name'] for item in top_similar_items]\n",
    "    return recommended_items\n",
    "\n",
    "# Example usage\n",
    "item_name = 'Sofa'\n",
    "recommendations = recommend_items(item_name, similarity_matrix, df)\n",
    "print(f\"Because you viewed {item_name}, you may also like: {', '.join(recommendations)}\")\n"
   ]
  },
  {
   "cell_type": "code",
   "execution_count": null,
   "metadata": {},
   "outputs": [],
   "source": []
  }
 ],
 "metadata": {
  "kernelspec": {
   "display_name": ".venv",
   "language": "python",
   "name": "python3"
  },
  "language_info": {
   "codemirror_mode": {
    "name": "ipython",
    "version": 3
   },
   "file_extension": ".py",
   "mimetype": "text/x-python",
   "name": "python",
   "nbconvert_exporter": "python",
   "pygments_lexer": "ipython3",
   "version": "3.9.13"
  }
 },
 "nbformat": 4,
 "nbformat_minor": 2
}
