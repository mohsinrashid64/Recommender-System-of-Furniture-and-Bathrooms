{
 "cells": [
  {
   "cell_type": "markdown",
   "metadata": {},
   "source": [
    "# Import Libraries"
   ]
  },
  {
   "cell_type": "code",
   "execution_count": 1,
   "metadata": {},
   "outputs": [],
   "source": [
    "import pandas as pd \n",
    "import numpy as np\n",
    "import re\n",
    "from sklearn.metrics.pairwise import cosine_similarity\n",
    "from sklearn.preprocessing import StandardScaler\n",
    "pd.set_option('display.max_colwidth', None) "
   ]
  },
  {
   "cell_type": "markdown",
   "metadata": {},
   "source": [
    "# Loading Dataframe"
   ]
  },
  {
   "cell_type": "code",
   "execution_count": 2,
   "metadata": {},
   "outputs": [],
   "source": [
    "col_names=['Title','Price','Link','N/A','Path','Colors']"
   ]
  },
  {
   "cell_type": "code",
   "execution_count": 3,
   "metadata": {},
   "outputs": [],
   "source": [
    "df=pd.read_csv('../data/minted.csv', names=col_names)"
   ]
  },
  {
   "cell_type": "code",
   "execution_count": 4,
   "metadata": {},
   "outputs": [
    {
     "data": {
      "text/html": [
       "<div>\n",
       "<style scoped>\n",
       "    .dataframe tbody tr th:only-of-type {\n",
       "        vertical-align: middle;\n",
       "    }\n",
       "\n",
       "    .dataframe tbody tr th {\n",
       "        vertical-align: top;\n",
       "    }\n",
       "\n",
       "    .dataframe thead th {\n",
       "        text-align: right;\n",
       "    }\n",
       "</style>\n",
       "<table border=\"1\" class=\"dataframe\">\n",
       "  <thead>\n",
       "    <tr style=\"text-align: right;\">\n",
       "      <th></th>\n",
       "      <th>Title</th>\n",
       "      <th>Price</th>\n",
       "      <th>Link</th>\n",
       "      <th>N/A</th>\n",
       "      <th>Path</th>\n",
       "      <th>Colors</th>\n",
       "    </tr>\n",
       "  </thead>\n",
       "  <tbody>\n",
       "    <tr>\n",
       "      <th>0</th>\n",
       "      <td>Sketchy Pattern</td>\n",
       "      <td>+$105</td>\n",
       "      <td>/product/art/MIN-PJW-DNA/sketchy-pattern?color=A&amp;art_group=art_print&amp;greeting=</td>\n",
       "      <td>NaN</td>\n",
       "      <td>images/Sketchy_Pattern.jpg</td>\n",
       "      <td>Rich Black Wood Frame, Natural Raw Wood Frame, Light Gray Wood Frame, Walnut Wood Frame, Whitewashed Herringbone, Brushed Silver, Champagne Silver, Matte Brass, Gilded Wood Frame, Gunmetal Frame</td>\n",
       "    </tr>\n",
       "    <tr>\n",
       "      <th>1</th>\n",
       "      <td>thread I</td>\n",
       "      <td>+$105</td>\n",
       "      <td>/product/art/MIN-FQW-DNA/thread-i?color=A&amp;art_group=art_print&amp;greeting=</td>\n",
       "      <td>NaN</td>\n",
       "      <td>images/thread_I.jpg</td>\n",
       "      <td>Rich Black Wood Frame, White Wood Frame, Light Gray Wood Frame, Walnut Wood Frame, Whitewashed Herringbone, Brushed Silver, Champagne Silver, Matte Brass, Gilded Wood Frame, Gunmetal Frame</td>\n",
       "    </tr>\n",
       "    <tr>\n",
       "      <th>2</th>\n",
       "      <td>thread III</td>\n",
       "      <td>+$105</td>\n",
       "      <td>/product/art/MIN-SL2-DNA/thread-iii?color=A&amp;art_group=art_print&amp;greeting=</td>\n",
       "      <td>NaN</td>\n",
       "      <td>images/thread_III.jpg</td>\n",
       "      <td>Rich Black Wood Frame, White Wood Frame, Light Gray Wood Frame, Walnut Wood Frame, Whitewashed Herringbone, Brushed Silver, Champagne Silver, Matte Brass, Gilded Wood Frame, Gunmetal Frame</td>\n",
       "    </tr>\n",
       "    <tr>\n",
       "      <th>3</th>\n",
       "      <td>Five O'Clock Somewhere (edition of 5)</td>\n",
       "      <td>NaN</td>\n",
       "      <td>/product/rare-limited-edition-fine-art-prints/MIN-007-ULE/five-oclock-somewhere-edition-of-5?color=A&amp;greeting=</td>\n",
       "      <td>NaN</td>\n",
       "      <td>images/Five_O'Clock_Somewhere_(edition_of_5).jpg</td>\n",
       "      <td>NaN</td>\n",
       "    </tr>\n",
       "    <tr>\n",
       "      <th>4</th>\n",
       "      <td>House Cat (edition of 5)</td>\n",
       "      <td>NaN</td>\n",
       "      <td>/product/rare-limited-edition-fine-art-prints/MIN-008-ULE/house-cat-edition-of-5?color=A&amp;greeting=</td>\n",
       "      <td>NaN</td>\n",
       "      <td>images/House_Cat_(edition_of_5).jpg</td>\n",
       "      <td>NaN</td>\n",
       "    </tr>\n",
       "  </tbody>\n",
       "</table>\n",
       "</div>"
      ],
      "text/plain": [
       "                                   Title  Price  \\\n",
       "0                        Sketchy Pattern  +$105   \n",
       "1                               thread I  +$105   \n",
       "2                             thread III  +$105   \n",
       "3  Five O'Clock Somewhere (edition of 5)    NaN   \n",
       "4               House Cat (edition of 5)    NaN   \n",
       "\n",
       "                                                                                                             Link  \\\n",
       "0                                  /product/art/MIN-PJW-DNA/sketchy-pattern?color=A&art_group=art_print&greeting=   \n",
       "1                                         /product/art/MIN-FQW-DNA/thread-i?color=A&art_group=art_print&greeting=   \n",
       "2                                       /product/art/MIN-SL2-DNA/thread-iii?color=A&art_group=art_print&greeting=   \n",
       "3  /product/rare-limited-edition-fine-art-prints/MIN-007-ULE/five-oclock-somewhere-edition-of-5?color=A&greeting=   \n",
       "4              /product/rare-limited-edition-fine-art-prints/MIN-008-ULE/house-cat-edition-of-5?color=A&greeting=   \n",
       "\n",
       "   N/A                                              Path  \\\n",
       "0  NaN                        images/Sketchy_Pattern.jpg   \n",
       "1  NaN                               images/thread_I.jpg   \n",
       "2  NaN                             images/thread_III.jpg   \n",
       "3  NaN  images/Five_O'Clock_Somewhere_(edition_of_5).jpg   \n",
       "4  NaN               images/House_Cat_(edition_of_5).jpg   \n",
       "\n",
       "                                                                                                                                                                                               Colors  \n",
       "0  Rich Black Wood Frame, Natural Raw Wood Frame, Light Gray Wood Frame, Walnut Wood Frame, Whitewashed Herringbone, Brushed Silver, Champagne Silver, Matte Brass, Gilded Wood Frame, Gunmetal Frame  \n",
       "1        Rich Black Wood Frame, White Wood Frame, Light Gray Wood Frame, Walnut Wood Frame, Whitewashed Herringbone, Brushed Silver, Champagne Silver, Matte Brass, Gilded Wood Frame, Gunmetal Frame  \n",
       "2        Rich Black Wood Frame, White Wood Frame, Light Gray Wood Frame, Walnut Wood Frame, Whitewashed Herringbone, Brushed Silver, Champagne Silver, Matte Brass, Gilded Wood Frame, Gunmetal Frame  \n",
       "3                                                                                                                                                                                                 NaN  \n",
       "4                                                                                                                                                                                                 NaN  "
      ]
     },
     "execution_count": 4,
     "metadata": {},
     "output_type": "execute_result"
    }
   ],
   "source": [
    "df.head()"
   ]
  },
  {
   "cell_type": "code",
   "execution_count": 6,
   "metadata": {},
   "outputs": [],
   "source": [
    "df.drop(columns=['N/A'],inplace=True)"
   ]
  },
  {
   "cell_type": "code",
   "execution_count": null,
   "metadata": {},
   "outputs": [],
   "source": [
    "df.isna().sum()"
   ]
  },
  {
   "cell_type": "code",
   "execution_count": null,
   "metadata": {},
   "outputs": [],
   "source": [
    "df.info()"
   ]
  },
  {
   "cell_type": "markdown",
   "metadata": {},
   "source": [
    "# Displaying Dataset"
   ]
  },
  {
   "cell_type": "code",
   "execution_count": null,
   "metadata": {},
   "outputs": [],
   "source": [
    "df.head()"
   ]
  },
  {
   "cell_type": "markdown",
   "metadata": {},
   "source": [
    "# Droping Duplicate"
   ]
  },
  {
   "cell_type": "code",
   "execution_count": null,
   "metadata": {},
   "outputs": [],
   "source": [
    "df.drop_duplicates(subset=\"Title\",inplace=True)"
   ]
  },
  {
   "cell_type": "code",
   "execution_count": 7,
   "metadata": {},
   "outputs": [
    {
     "data": {
      "text/html": [
       "<div>\n",
       "<style scoped>\n",
       "    .dataframe tbody tr th:only-of-type {\n",
       "        vertical-align: middle;\n",
       "    }\n",
       "\n",
       "    .dataframe tbody tr th {\n",
       "        vertical-align: top;\n",
       "    }\n",
       "\n",
       "    .dataframe thead th {\n",
       "        text-align: right;\n",
       "    }\n",
       "</style>\n",
       "<table border=\"1\" class=\"dataframe\">\n",
       "  <thead>\n",
       "    <tr style=\"text-align: right;\">\n",
       "      <th></th>\n",
       "      <th>Title</th>\n",
       "      <th>Price</th>\n",
       "      <th>Link</th>\n",
       "      <th>Path</th>\n",
       "      <th>Colors</th>\n",
       "    </tr>\n",
       "  </thead>\n",
       "  <tbody>\n",
       "    <tr>\n",
       "      <th>0</th>\n",
       "      <td>Sketchy Pattern</td>\n",
       "      <td>+$105</td>\n",
       "      <td>/product/art/MIN-PJW-DNA/sketchy-pattern?color=A&amp;art_group=art_print&amp;greeting=</td>\n",
       "      <td>images/Sketchy_Pattern.jpg</td>\n",
       "      <td>Rich Black Wood Frame, Natural Raw Wood Frame, Light Gray Wood Frame, Walnut Wood Frame, Whitewashed Herringbone, Brushed Silver, Champagne Silver, Matte Brass, Gilded Wood Frame, Gunmetal Frame</td>\n",
       "    </tr>\n",
       "    <tr>\n",
       "      <th>1</th>\n",
       "      <td>thread I</td>\n",
       "      <td>+$105</td>\n",
       "      <td>/product/art/MIN-FQW-DNA/thread-i?color=A&amp;art_group=art_print&amp;greeting=</td>\n",
       "      <td>images/thread_I.jpg</td>\n",
       "      <td>Rich Black Wood Frame, White Wood Frame, Light Gray Wood Frame, Walnut Wood Frame, Whitewashed Herringbone, Brushed Silver, Champagne Silver, Matte Brass, Gilded Wood Frame, Gunmetal Frame</td>\n",
       "    </tr>\n",
       "    <tr>\n",
       "      <th>2</th>\n",
       "      <td>thread III</td>\n",
       "      <td>+$105</td>\n",
       "      <td>/product/art/MIN-SL2-DNA/thread-iii?color=A&amp;art_group=art_print&amp;greeting=</td>\n",
       "      <td>images/thread_III.jpg</td>\n",
       "      <td>Rich Black Wood Frame, White Wood Frame, Light Gray Wood Frame, Walnut Wood Frame, Whitewashed Herringbone, Brushed Silver, Champagne Silver, Matte Brass, Gilded Wood Frame, Gunmetal Frame</td>\n",
       "    </tr>\n",
       "    <tr>\n",
       "      <th>3</th>\n",
       "      <td>Five O'Clock Somewhere (edition of 5)</td>\n",
       "      <td>NaN</td>\n",
       "      <td>/product/rare-limited-edition-fine-art-prints/MIN-007-ULE/five-oclock-somewhere-edition-of-5?color=A&amp;greeting=</td>\n",
       "      <td>images/Five_O'Clock_Somewhere_(edition_of_5).jpg</td>\n",
       "      <td>NaN</td>\n",
       "    </tr>\n",
       "    <tr>\n",
       "      <th>4</th>\n",
       "      <td>House Cat (edition of 5)</td>\n",
       "      <td>NaN</td>\n",
       "      <td>/product/rare-limited-edition-fine-art-prints/MIN-008-ULE/house-cat-edition-of-5?color=A&amp;greeting=</td>\n",
       "      <td>images/House_Cat_(edition_of_5).jpg</td>\n",
       "      <td>NaN</td>\n",
       "    </tr>\n",
       "  </tbody>\n",
       "</table>\n",
       "</div>"
      ],
      "text/plain": [
       "                                   Title  Price  \\\n",
       "0                        Sketchy Pattern  +$105   \n",
       "1                               thread I  +$105   \n",
       "2                             thread III  +$105   \n",
       "3  Five O'Clock Somewhere (edition of 5)    NaN   \n",
       "4               House Cat (edition of 5)    NaN   \n",
       "\n",
       "                                                                                                             Link  \\\n",
       "0                                  /product/art/MIN-PJW-DNA/sketchy-pattern?color=A&art_group=art_print&greeting=   \n",
       "1                                         /product/art/MIN-FQW-DNA/thread-i?color=A&art_group=art_print&greeting=   \n",
       "2                                       /product/art/MIN-SL2-DNA/thread-iii?color=A&art_group=art_print&greeting=   \n",
       "3  /product/rare-limited-edition-fine-art-prints/MIN-007-ULE/five-oclock-somewhere-edition-of-5?color=A&greeting=   \n",
       "4              /product/rare-limited-edition-fine-art-prints/MIN-008-ULE/house-cat-edition-of-5?color=A&greeting=   \n",
       "\n",
       "                                               Path  \\\n",
       "0                        images/Sketchy_Pattern.jpg   \n",
       "1                               images/thread_I.jpg   \n",
       "2                             images/thread_III.jpg   \n",
       "3  images/Five_O'Clock_Somewhere_(edition_of_5).jpg   \n",
       "4               images/House_Cat_(edition_of_5).jpg   \n",
       "\n",
       "                                                                                                                                                                                               Colors  \n",
       "0  Rich Black Wood Frame, Natural Raw Wood Frame, Light Gray Wood Frame, Walnut Wood Frame, Whitewashed Herringbone, Brushed Silver, Champagne Silver, Matte Brass, Gilded Wood Frame, Gunmetal Frame  \n",
       "1        Rich Black Wood Frame, White Wood Frame, Light Gray Wood Frame, Walnut Wood Frame, Whitewashed Herringbone, Brushed Silver, Champagne Silver, Matte Brass, Gilded Wood Frame, Gunmetal Frame  \n",
       "2        Rich Black Wood Frame, White Wood Frame, Light Gray Wood Frame, Walnut Wood Frame, Whitewashed Herringbone, Brushed Silver, Champagne Silver, Matte Brass, Gilded Wood Frame, Gunmetal Frame  \n",
       "3                                                                                                                                                                                                 NaN  \n",
       "4                                                                                                                                                                                                 NaN  "
      ]
     },
     "execution_count": 7,
     "metadata": {},
     "output_type": "execute_result"
    }
   ],
   "source": [
    "df.head()"
   ]
  },
  {
   "cell_type": "markdown",
   "metadata": {},
   "source": [
    "# Replacing `+$` with Nothing In Price Column"
   ]
  },
  {
   "cell_type": "code",
   "execution_count": 8,
   "metadata": {},
   "outputs": [],
   "source": [
    "df['Price']=df['Price'].str.replace('+$','')"
   ]
  },
  {
   "cell_type": "code",
   "execution_count": 9,
   "metadata": {},
   "outputs": [
    {
     "data": {
      "text/html": [
       "<div>\n",
       "<style scoped>\n",
       "    .dataframe tbody tr th:only-of-type {\n",
       "        vertical-align: middle;\n",
       "    }\n",
       "\n",
       "    .dataframe tbody tr th {\n",
       "        vertical-align: top;\n",
       "    }\n",
       "\n",
       "    .dataframe thead th {\n",
       "        text-align: right;\n",
       "    }\n",
       "</style>\n",
       "<table border=\"1\" class=\"dataframe\">\n",
       "  <thead>\n",
       "    <tr style=\"text-align: right;\">\n",
       "      <th></th>\n",
       "      <th>Title</th>\n",
       "      <th>Price</th>\n",
       "      <th>Link</th>\n",
       "      <th>Path</th>\n",
       "      <th>Colors</th>\n",
       "    </tr>\n",
       "  </thead>\n",
       "  <tbody>\n",
       "    <tr>\n",
       "      <th>0</th>\n",
       "      <td>Sketchy Pattern</td>\n",
       "      <td>105</td>\n",
       "      <td>/product/art/MIN-PJW-DNA/sketchy-pattern?color=A&amp;art_group=art_print&amp;greeting=</td>\n",
       "      <td>images/Sketchy_Pattern.jpg</td>\n",
       "      <td>Rich Black Wood Frame, Natural Raw Wood Frame, Light Gray Wood Frame, Walnut Wood Frame, Whitewashed Herringbone, Brushed Silver, Champagne Silver, Matte Brass, Gilded Wood Frame, Gunmetal Frame</td>\n",
       "    </tr>\n",
       "    <tr>\n",
       "      <th>1</th>\n",
       "      <td>thread I</td>\n",
       "      <td>105</td>\n",
       "      <td>/product/art/MIN-FQW-DNA/thread-i?color=A&amp;art_group=art_print&amp;greeting=</td>\n",
       "      <td>images/thread_I.jpg</td>\n",
       "      <td>Rich Black Wood Frame, White Wood Frame, Light Gray Wood Frame, Walnut Wood Frame, Whitewashed Herringbone, Brushed Silver, Champagne Silver, Matte Brass, Gilded Wood Frame, Gunmetal Frame</td>\n",
       "    </tr>\n",
       "    <tr>\n",
       "      <th>2</th>\n",
       "      <td>thread III</td>\n",
       "      <td>105</td>\n",
       "      <td>/product/art/MIN-SL2-DNA/thread-iii?color=A&amp;art_group=art_print&amp;greeting=</td>\n",
       "      <td>images/thread_III.jpg</td>\n",
       "      <td>Rich Black Wood Frame, White Wood Frame, Light Gray Wood Frame, Walnut Wood Frame, Whitewashed Herringbone, Brushed Silver, Champagne Silver, Matte Brass, Gilded Wood Frame, Gunmetal Frame</td>\n",
       "    </tr>\n",
       "    <tr>\n",
       "      <th>3</th>\n",
       "      <td>Five O'Clock Somewhere (edition of 5)</td>\n",
       "      <td>NaN</td>\n",
       "      <td>/product/rare-limited-edition-fine-art-prints/MIN-007-ULE/five-oclock-somewhere-edition-of-5?color=A&amp;greeting=</td>\n",
       "      <td>images/Five_O'Clock_Somewhere_(edition_of_5).jpg</td>\n",
       "      <td>NaN</td>\n",
       "    </tr>\n",
       "    <tr>\n",
       "      <th>4</th>\n",
       "      <td>House Cat (edition of 5)</td>\n",
       "      <td>NaN</td>\n",
       "      <td>/product/rare-limited-edition-fine-art-prints/MIN-008-ULE/house-cat-edition-of-5?color=A&amp;greeting=</td>\n",
       "      <td>images/House_Cat_(edition_of_5).jpg</td>\n",
       "      <td>NaN</td>\n",
       "    </tr>\n",
       "  </tbody>\n",
       "</table>\n",
       "</div>"
      ],
      "text/plain": [
       "                                   Title Price  \\\n",
       "0                        Sketchy Pattern   105   \n",
       "1                               thread I   105   \n",
       "2                             thread III   105   \n",
       "3  Five O'Clock Somewhere (edition of 5)   NaN   \n",
       "4               House Cat (edition of 5)   NaN   \n",
       "\n",
       "                                                                                                             Link  \\\n",
       "0                                  /product/art/MIN-PJW-DNA/sketchy-pattern?color=A&art_group=art_print&greeting=   \n",
       "1                                         /product/art/MIN-FQW-DNA/thread-i?color=A&art_group=art_print&greeting=   \n",
       "2                                       /product/art/MIN-SL2-DNA/thread-iii?color=A&art_group=art_print&greeting=   \n",
       "3  /product/rare-limited-edition-fine-art-prints/MIN-007-ULE/five-oclock-somewhere-edition-of-5?color=A&greeting=   \n",
       "4              /product/rare-limited-edition-fine-art-prints/MIN-008-ULE/house-cat-edition-of-5?color=A&greeting=   \n",
       "\n",
       "                                               Path  \\\n",
       "0                        images/Sketchy_Pattern.jpg   \n",
       "1                               images/thread_I.jpg   \n",
       "2                             images/thread_III.jpg   \n",
       "3  images/Five_O'Clock_Somewhere_(edition_of_5).jpg   \n",
       "4               images/House_Cat_(edition_of_5).jpg   \n",
       "\n",
       "                                                                                                                                                                                               Colors  \n",
       "0  Rich Black Wood Frame, Natural Raw Wood Frame, Light Gray Wood Frame, Walnut Wood Frame, Whitewashed Herringbone, Brushed Silver, Champagne Silver, Matte Brass, Gilded Wood Frame, Gunmetal Frame  \n",
       "1        Rich Black Wood Frame, White Wood Frame, Light Gray Wood Frame, Walnut Wood Frame, Whitewashed Herringbone, Brushed Silver, Champagne Silver, Matte Brass, Gilded Wood Frame, Gunmetal Frame  \n",
       "2        Rich Black Wood Frame, White Wood Frame, Light Gray Wood Frame, Walnut Wood Frame, Whitewashed Herringbone, Brushed Silver, Champagne Silver, Matte Brass, Gilded Wood Frame, Gunmetal Frame  \n",
       "3                                                                                                                                                                                                 NaN  \n",
       "4                                                                                                                                                                                                 NaN  "
      ]
     },
     "execution_count": 9,
     "metadata": {},
     "output_type": "execute_result"
    }
   ],
   "source": [
    "df.head()"
   ]
  },
  {
   "cell_type": "markdown",
   "metadata": {},
   "source": [
    "# Droping Nan Price"
   ]
  },
  {
   "cell_type": "code",
   "execution_count": 11,
   "metadata": {},
   "outputs": [],
   "source": [
    "df.dropna(subset='Price',inplace=True)"
   ]
  },
  {
   "cell_type": "markdown",
   "metadata": {},
   "source": [
    "# Converting The Price To Float"
   ]
  },
  {
   "cell_type": "code",
   "execution_count": 15,
   "metadata": {},
   "outputs": [],
   "source": [
    "df['Price']=df['Price'].astype('float')"
   ]
  },
  {
   "cell_type": "code",
   "execution_count": 16,
   "metadata": {},
   "outputs": [
    {
     "data": {
      "text/html": [
       "<div>\n",
       "<style scoped>\n",
       "    .dataframe tbody tr th:only-of-type {\n",
       "        vertical-align: middle;\n",
       "    }\n",
       "\n",
       "    .dataframe tbody tr th {\n",
       "        vertical-align: top;\n",
       "    }\n",
       "\n",
       "    .dataframe thead th {\n",
       "        text-align: right;\n",
       "    }\n",
       "</style>\n",
       "<table border=\"1\" class=\"dataframe\">\n",
       "  <thead>\n",
       "    <tr style=\"text-align: right;\">\n",
       "      <th></th>\n",
       "      <th>Title</th>\n",
       "      <th>Price</th>\n",
       "      <th>Link</th>\n",
       "      <th>Path</th>\n",
       "      <th>Colors</th>\n",
       "    </tr>\n",
       "  </thead>\n",
       "  <tbody>\n",
       "    <tr>\n",
       "      <th>0</th>\n",
       "      <td>Sketchy Pattern</td>\n",
       "      <td>105.0</td>\n",
       "      <td>/product/art/MIN-PJW-DNA/sketchy-pattern?color=A&amp;art_group=art_print&amp;greeting=</td>\n",
       "      <td>images/Sketchy_Pattern.jpg</td>\n",
       "      <td>Rich Black Wood Frame, Natural Raw Wood Frame, Light Gray Wood Frame, Walnut Wood Frame, Whitewashed Herringbone, Brushed Silver, Champagne Silver, Matte Brass, Gilded Wood Frame, Gunmetal Frame</td>\n",
       "    </tr>\n",
       "    <tr>\n",
       "      <th>1</th>\n",
       "      <td>thread I</td>\n",
       "      <td>105.0</td>\n",
       "      <td>/product/art/MIN-FQW-DNA/thread-i?color=A&amp;art_group=art_print&amp;greeting=</td>\n",
       "      <td>images/thread_I.jpg</td>\n",
       "      <td>Rich Black Wood Frame, White Wood Frame, Light Gray Wood Frame, Walnut Wood Frame, Whitewashed Herringbone, Brushed Silver, Champagne Silver, Matte Brass, Gilded Wood Frame, Gunmetal Frame</td>\n",
       "    </tr>\n",
       "    <tr>\n",
       "      <th>2</th>\n",
       "      <td>thread III</td>\n",
       "      <td>105.0</td>\n",
       "      <td>/product/art/MIN-SL2-DNA/thread-iii?color=A&amp;art_group=art_print&amp;greeting=</td>\n",
       "      <td>images/thread_III.jpg</td>\n",
       "      <td>Rich Black Wood Frame, White Wood Frame, Light Gray Wood Frame, Walnut Wood Frame, Whitewashed Herringbone, Brushed Silver, Champagne Silver, Matte Brass, Gilded Wood Frame, Gunmetal Frame</td>\n",
       "    </tr>\n",
       "    <tr>\n",
       "      <th>8</th>\n",
       "      <td>Take Off Your Cloud, Stay A While</td>\n",
       "      <td>151.0</td>\n",
       "      <td>/product/art/MIN-N4X-DNA/take-off-your-cloud-stay-a-while?color=A&amp;art_group=canvas&amp;greeting=</td>\n",
       "      <td>images/Take_Off_Your_Cloud,_Stay_A_While.jpg</td>\n",
       "      <td>Black Wood Canvas Frame, Natural Raw Wood Canvas Frame, Walnut Finish Canvas Frame, Brass Canvas Frame, Rose Gold Canvas Frame</td>\n",
       "    </tr>\n",
       "    <tr>\n",
       "      <th>9</th>\n",
       "      <td>Echoes I</td>\n",
       "      <td>153.0</td>\n",
       "      <td>/product/art/MIN-UJV-DNA/echoes-i?color=A&amp;art_group=art_print&amp;greeting=</td>\n",
       "      <td>images/Echoes_I.jpg</td>\n",
       "      <td>Rich Black Wood Frame, White Wood Frame, Natural Raw Wood Frame, Light Gray Wood Frame, Walnut Wood Frame, Whitewashed Herringbone, Brushed Silver, Champagne Silver, Matte Brass, Gilded Wood Frame, Gunmetal Frame</td>\n",
       "    </tr>\n",
       "  </tbody>\n",
       "</table>\n",
       "</div>"
      ],
      "text/plain": [
       "                               Title  Price  \\\n",
       "0                    Sketchy Pattern  105.0   \n",
       "1                           thread I  105.0   \n",
       "2                         thread III  105.0   \n",
       "8  Take Off Your Cloud, Stay A While  151.0   \n",
       "9                           Echoes I  153.0   \n",
       "\n",
       "                                                                                           Link  \\\n",
       "0                /product/art/MIN-PJW-DNA/sketchy-pattern?color=A&art_group=art_print&greeting=   \n",
       "1                       /product/art/MIN-FQW-DNA/thread-i?color=A&art_group=art_print&greeting=   \n",
       "2                     /product/art/MIN-SL2-DNA/thread-iii?color=A&art_group=art_print&greeting=   \n",
       "8  /product/art/MIN-N4X-DNA/take-off-your-cloud-stay-a-while?color=A&art_group=canvas&greeting=   \n",
       "9                       /product/art/MIN-UJV-DNA/echoes-i?color=A&art_group=art_print&greeting=   \n",
       "\n",
       "                                           Path  \\\n",
       "0                    images/Sketchy_Pattern.jpg   \n",
       "1                           images/thread_I.jpg   \n",
       "2                         images/thread_III.jpg   \n",
       "8  images/Take_Off_Your_Cloud,_Stay_A_While.jpg   \n",
       "9                           images/Echoes_I.jpg   \n",
       "\n",
       "                                                                                                                                                                                                                 Colors  \n",
       "0                    Rich Black Wood Frame, Natural Raw Wood Frame, Light Gray Wood Frame, Walnut Wood Frame, Whitewashed Herringbone, Brushed Silver, Champagne Silver, Matte Brass, Gilded Wood Frame, Gunmetal Frame  \n",
       "1                          Rich Black Wood Frame, White Wood Frame, Light Gray Wood Frame, Walnut Wood Frame, Whitewashed Herringbone, Brushed Silver, Champagne Silver, Matte Brass, Gilded Wood Frame, Gunmetal Frame  \n",
       "2                          Rich Black Wood Frame, White Wood Frame, Light Gray Wood Frame, Walnut Wood Frame, Whitewashed Herringbone, Brushed Silver, Champagne Silver, Matte Brass, Gilded Wood Frame, Gunmetal Frame  \n",
       "8                                                                                        Black Wood Canvas Frame, Natural Raw Wood Canvas Frame, Walnut Finish Canvas Frame, Brass Canvas Frame, Rose Gold Canvas Frame  \n",
       "9  Rich Black Wood Frame, White Wood Frame, Natural Raw Wood Frame, Light Gray Wood Frame, Walnut Wood Frame, Whitewashed Herringbone, Brushed Silver, Champagne Silver, Matte Brass, Gilded Wood Frame, Gunmetal Frame  "
      ]
     },
     "execution_count": 16,
     "metadata": {},
     "output_type": "execute_result"
    }
   ],
   "source": [
    "df.head()"
   ]
  },
  {
   "cell_type": "markdown",
   "metadata": {},
   "source": [
    "# Replacing Commas in Colors Column"
   ]
  },
  {
   "cell_type": "code",
   "execution_count": 17,
   "metadata": {},
   "outputs": [],
   "source": [
    "df['Colors']=df['Colors'].str.replace(',','')"
   ]
  },
  {
   "cell_type": "code",
   "execution_count": null,
   "metadata": {},
   "outputs": [],
   "source": [
    "df.head()"
   ]
  },
  {
   "cell_type": "markdown",
   "metadata": {},
   "source": [
    "# Correcting Links"
   ]
  },
  {
   "cell_type": "code",
   "execution_count": 18,
   "metadata": {},
   "outputs": [],
   "source": [
    "string='apple'"
   ]
  },
  {
   "cell_type": "code",
   "execution_count": null,
   "metadata": {},
   "outputs": [],
   "source": [
    "string."
   ]
  },
  {
   "cell_type": "code",
   "execution_count": 20,
   "metadata": {},
   "outputs": [],
   "source": [
    "df['Link']='https://www.minted.com/'+df['Link']"
   ]
  },
  {
   "cell_type": "code",
   "execution_count": 21,
   "metadata": {},
   "outputs": [
    {
     "data": {
      "text/html": [
       "<div>\n",
       "<style scoped>\n",
       "    .dataframe tbody tr th:only-of-type {\n",
       "        vertical-align: middle;\n",
       "    }\n",
       "\n",
       "    .dataframe tbody tr th {\n",
       "        vertical-align: top;\n",
       "    }\n",
       "\n",
       "    .dataframe thead th {\n",
       "        text-align: right;\n",
       "    }\n",
       "</style>\n",
       "<table border=\"1\" class=\"dataframe\">\n",
       "  <thead>\n",
       "    <tr style=\"text-align: right;\">\n",
       "      <th></th>\n",
       "      <th>Title</th>\n",
       "      <th>Price</th>\n",
       "      <th>Link</th>\n",
       "      <th>Path</th>\n",
       "      <th>Colors</th>\n",
       "    </tr>\n",
       "  </thead>\n",
       "  <tbody>\n",
       "    <tr>\n",
       "      <th>0</th>\n",
       "      <td>Sketchy Pattern</td>\n",
       "      <td>105.0</td>\n",
       "      <td>https://www.minted.com//product/art/MIN-PJW-DNA/sketchy-pattern?color=A&amp;art_group=art_print&amp;greeting=</td>\n",
       "      <td>images/Sketchy_Pattern.jpg</td>\n",
       "      <td>Rich Black Wood Frame Natural Raw Wood Frame Light Gray Wood Frame Walnut Wood Frame Whitewashed Herringbone Brushed Silver Champagne Silver Matte Brass Gilded Wood Frame Gunmetal Frame</td>\n",
       "    </tr>\n",
       "    <tr>\n",
       "      <th>1</th>\n",
       "      <td>thread I</td>\n",
       "      <td>105.0</td>\n",
       "      <td>https://www.minted.com//product/art/MIN-FQW-DNA/thread-i?color=A&amp;art_group=art_print&amp;greeting=</td>\n",
       "      <td>images/thread_I.jpg</td>\n",
       "      <td>Rich Black Wood Frame White Wood Frame Light Gray Wood Frame Walnut Wood Frame Whitewashed Herringbone Brushed Silver Champagne Silver Matte Brass Gilded Wood Frame Gunmetal Frame</td>\n",
       "    </tr>\n",
       "    <tr>\n",
       "      <th>2</th>\n",
       "      <td>thread III</td>\n",
       "      <td>105.0</td>\n",
       "      <td>https://www.minted.com//product/art/MIN-SL2-DNA/thread-iii?color=A&amp;art_group=art_print&amp;greeting=</td>\n",
       "      <td>images/thread_III.jpg</td>\n",
       "      <td>Rich Black Wood Frame White Wood Frame Light Gray Wood Frame Walnut Wood Frame Whitewashed Herringbone Brushed Silver Champagne Silver Matte Brass Gilded Wood Frame Gunmetal Frame</td>\n",
       "    </tr>\n",
       "    <tr>\n",
       "      <th>8</th>\n",
       "      <td>Take Off Your Cloud, Stay A While</td>\n",
       "      <td>151.0</td>\n",
       "      <td>https://www.minted.com//product/art/MIN-N4X-DNA/take-off-your-cloud-stay-a-while?color=A&amp;art_group=canvas&amp;greeting=</td>\n",
       "      <td>images/Take_Off_Your_Cloud,_Stay_A_While.jpg</td>\n",
       "      <td>Black Wood Canvas Frame Natural Raw Wood Canvas Frame Walnut Finish Canvas Frame Brass Canvas Frame Rose Gold Canvas Frame</td>\n",
       "    </tr>\n",
       "    <tr>\n",
       "      <th>9</th>\n",
       "      <td>Echoes I</td>\n",
       "      <td>153.0</td>\n",
       "      <td>https://www.minted.com//product/art/MIN-UJV-DNA/echoes-i?color=A&amp;art_group=art_print&amp;greeting=</td>\n",
       "      <td>images/Echoes_I.jpg</td>\n",
       "      <td>Rich Black Wood Frame White Wood Frame Natural Raw Wood Frame Light Gray Wood Frame Walnut Wood Frame Whitewashed Herringbone Brushed Silver Champagne Silver Matte Brass Gilded Wood Frame Gunmetal Frame</td>\n",
       "    </tr>\n",
       "  </tbody>\n",
       "</table>\n",
       "</div>"
      ],
      "text/plain": [
       "                               Title  Price  \\\n",
       "0                    Sketchy Pattern  105.0   \n",
       "1                           thread I  105.0   \n",
       "2                         thread III  105.0   \n",
       "8  Take Off Your Cloud, Stay A While  151.0   \n",
       "9                           Echoes I  153.0   \n",
       "\n",
       "                                                                                                                  Link  \\\n",
       "0                https://www.minted.com//product/art/MIN-PJW-DNA/sketchy-pattern?color=A&art_group=art_print&greeting=   \n",
       "1                       https://www.minted.com//product/art/MIN-FQW-DNA/thread-i?color=A&art_group=art_print&greeting=   \n",
       "2                     https://www.minted.com//product/art/MIN-SL2-DNA/thread-iii?color=A&art_group=art_print&greeting=   \n",
       "8  https://www.minted.com//product/art/MIN-N4X-DNA/take-off-your-cloud-stay-a-while?color=A&art_group=canvas&greeting=   \n",
       "9                       https://www.minted.com//product/art/MIN-UJV-DNA/echoes-i?color=A&art_group=art_print&greeting=   \n",
       "\n",
       "                                           Path  \\\n",
       "0                    images/Sketchy_Pattern.jpg   \n",
       "1                           images/thread_I.jpg   \n",
       "2                         images/thread_III.jpg   \n",
       "8  images/Take_Off_Your_Cloud,_Stay_A_While.jpg   \n",
       "9                           images/Echoes_I.jpg   \n",
       "\n",
       "                                                                                                                                                                                                       Colors  \n",
       "0                   Rich Black Wood Frame Natural Raw Wood Frame Light Gray Wood Frame Walnut Wood Frame Whitewashed Herringbone Brushed Silver Champagne Silver Matte Brass Gilded Wood Frame Gunmetal Frame  \n",
       "1                         Rich Black Wood Frame White Wood Frame Light Gray Wood Frame Walnut Wood Frame Whitewashed Herringbone Brushed Silver Champagne Silver Matte Brass Gilded Wood Frame Gunmetal Frame  \n",
       "2                         Rich Black Wood Frame White Wood Frame Light Gray Wood Frame Walnut Wood Frame Whitewashed Herringbone Brushed Silver Champagne Silver Matte Brass Gilded Wood Frame Gunmetal Frame  \n",
       "8                                                                                  Black Wood Canvas Frame Natural Raw Wood Canvas Frame Walnut Finish Canvas Frame Brass Canvas Frame Rose Gold Canvas Frame  \n",
       "9  Rich Black Wood Frame White Wood Frame Natural Raw Wood Frame Light Gray Wood Frame Walnut Wood Frame Whitewashed Herringbone Brushed Silver Champagne Silver Matte Brass Gilded Wood Frame Gunmetal Frame  "
      ]
     },
     "execution_count": 21,
     "metadata": {},
     "output_type": "execute_result"
    }
   ],
   "source": [
    "df.head()"
   ]
  },
  {
   "cell_type": "code",
   "execution_count": null,
   "metadata": {},
   "outputs": [],
   "source": []
  },
  {
   "cell_type": "code",
   "execution_count": null,
   "metadata": {},
   "outputs": [],
   "source": []
  },
  {
   "cell_type": "code",
   "execution_count": null,
   "metadata": {},
   "outputs": [],
   "source": []
  },
  {
   "cell_type": "code",
   "execution_count": null,
   "metadata": {},
   "outputs": [],
   "source": [
    "scaler = StandardScaler()"
   ]
  },
  {
   "cell_type": "code",
   "execution_count": null,
   "metadata": {},
   "outputs": [],
   "source": [
    "df['Price'] = scaler.fit_transform(df[['Price']])"
   ]
  },
  {
   "cell_type": "code",
   "execution_count": null,
   "metadata": {},
   "outputs": [],
   "source": [
    "df['Colors'] = pd.factorize(df['Colors'])[0]"
   ]
  },
  {
   "cell_type": "code",
   "execution_count": null,
   "metadata": {},
   "outputs": [],
   "source": []
  },
  {
   "cell_type": "code",
   "execution_count": null,
   "metadata": {},
   "outputs": [],
   "source": [
    "# Creating feature vectors\n",
    "features = df[['Colors', 'Price']].values\n",
    "\n",
    "# Compute cosine similarity matrix\n",
    "similarity_matrix = cosine_similarity(features, features)"
   ]
  },
  {
   "cell_type": "code",
   "execution_count": null,
   "metadata": {},
   "outputs": [],
   "source": [
    "def recommend_items(item_name, similarity_matrix, df, top_n=10):\n",
    "    if item_name not in df['Title'].values:\n",
    "        return f\"Item '{item_name}' not found in the dataset.\"\n",
    "\n",
    "    item_index = df.index[df['Title'] == item_name].tolist()[0]\n",
    "\n",
    "    similarity_scores = list(enumerate(similarity_matrix[item_index]))\n",
    "\n",
    "    similarity_scores = sorted(similarity_scores, key=lambda x: x[1], reverse=True)\n",
    "\n",
    "    top_similar_items = similarity_scores[1:top_n+1]\n",
    "\n",
    "    recommended_items = [df.iloc[item[0]]['Title'] for item in top_similar_items]\n",
    "\n",
    "    return recommended_items\n",
    "\n",
    "# Example usage\n",
    "item_name = 'YouCopia ReStickable 3D Fridge Labels Pack of 10'\n",
    "recommendations = recommend_items(item_name, similarity_matrix, df)\n",
    "print(f\"Because you viewed {item_name}, you may also like: {', '.join(recommendations)}\")\n"
   ]
  },
  {
   "cell_type": "code",
   "execution_count": null,
   "metadata": {},
   "outputs": [],
   "source": [
    "recommendations"
   ]
  },
  {
   "cell_type": "code",
   "execution_count": null,
   "metadata": {},
   "outputs": [],
   "source": [
    "df[df['Title']==item_name]"
   ]
  },
  {
   "cell_type": "code",
   "execution_count": null,
   "metadata": {},
   "outputs": [],
   "source": [
    "df[df['Title']==item_name]['Link']"
   ]
  },
  {
   "cell_type": "code",
   "execution_count": null,
   "metadata": {},
   "outputs": [],
   "source": [
    "[df[df['Title']==rec]['Link'] for rec in recommendations]"
   ]
  },
  {
   "cell_type": "code",
   "execution_count": null,
   "metadata": {},
   "outputs": [],
   "source": []
  },
  {
   "cell_type": "code",
   "execution_count": null,
   "metadata": {},
   "outputs": [],
   "source": []
  },
  {
   "cell_type": "code",
   "execution_count": null,
   "metadata": {},
   "outputs": [],
   "source": []
  },
  {
   "cell_type": "code",
   "execution_count": null,
   "metadata": {},
   "outputs": [],
   "source": []
  },
  {
   "cell_type": "code",
   "execution_count": null,
   "metadata": {},
   "outputs": [],
   "source": []
  },
  {
   "cell_type": "code",
   "execution_count": null,
   "metadata": {},
   "outputs": [],
   "source": [
    "import pandas as pd\n",
    "from sklearn.metrics.pairwise import cosine_similarity\n",
    "from sklearn.preprocessing import StandardScaler\n",
    "\n",
    "# Example dataset (replace with your actual dataset loading)\n",
    "data = {\n",
    "    'furniture_name': ['Sofa', 'Table', 'Chair', 'Cushion', 'Bed', 'Desk'],\n",
    "    'color': ['Red', 'Brown', 'White', 'Blue', 'Black', 'Brown'],\n",
    "    'price': [500, 300, 150, 50, 800, 400]\n",
    "}\n",
    "\n",
    "df = pd.DataFrame(data)\n",
    "\n",
    "# Encoding categorical variables (color)\n",
    "df['color_encoded'] = pd.factorize(df['color'])[0]\n",
    "\n",
    "# Scaling numerical features (price)\n",
    "scaler = StandardScaler()\n",
    "df['price_scaled'] = scaler.fit_transform(df[['price']])\n",
    "\n",
    "# Creating feature vectors\n",
    "features = df[['color_encoded', 'price_scaled']].values\n",
    "\n",
    "# Compute cosine similarity matrix\n",
    "similarity_matrix = cosine_similarity(features, features)\n",
    "\n",
    "# Function to recommend items\n",
    "def recommend_items(item_name, similarity_matrix, df, top_n=3):\n",
    "    item_index = df.index[df['furniture_name'] == item_name][0]\n",
    "    similarity_scores = list(enumerate(similarity_matrix[item_index]))\n",
    "    similarity_scores = sorted(similarity_scores, key=lambda x: x[1], reverse=True)\n",
    "    top_similar_items = similarity_scores[1:top_n+1]  # Exclude itself, get top N similar items\n",
    "    recommended_items = [df.iloc[item[0]]['furniture_name'] for item in top_similar_items]\n",
    "    return recommended_items\n",
    "\n",
    "# Example usage\n",
    "item_name = 'Sofa'\n",
    "recommendations = recommend_items(item_name, similarity_matrix, df)\n",
    "print(f\"Because you viewed {item_name}, you may also like: {', '.join(recommendations)}\")\n"
   ]
  },
  {
   "cell_type": "code",
   "execution_count": null,
   "metadata": {},
   "outputs": [],
   "source": []
  }
 ],
 "metadata": {
  "kernelspec": {
   "display_name": ".venv",
   "language": "python",
   "name": "python3"
  },
  "language_info": {
   "codemirror_mode": {
    "name": "ipython",
    "version": 3
   },
   "file_extension": ".py",
   "mimetype": "text/x-python",
   "name": "python",
   "nbconvert_exporter": "python",
   "pygments_lexer": "ipython3",
   "version": "3.9.13"
  }
 },
 "nbformat": 4,
 "nbformat_minor": 2
}
