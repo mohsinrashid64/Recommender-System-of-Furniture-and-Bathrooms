{
 "cells": [
  {
   "cell_type": "markdown",
   "metadata": {},
   "source": [
    "# Import Libraries"
   ]
  },
  {
   "cell_type": "code",
   "execution_count": 1,
   "metadata": {},
   "outputs": [],
   "source": [
    "import pandas as pd \n",
    "import numpy as np\n",
    "import re\n",
    "from sklearn.metrics.pairwise import cosine_similarity\n",
    "from sklearn.preprocessing import StandardScaler\n",
    "pd.set_option('display.max_colwidth', None) "
   ]
  },
  {
   "cell_type": "markdown",
   "metadata": {},
   "source": [
    "# Loading Dataframe"
   ]
  },
  {
   "cell_type": "code",
   "execution_count": 2,
   "metadata": {},
   "outputs": [],
   "source": [
    "df=pd.read_csv('../data/allmodern_data.csv')"
   ]
  },
  {
   "cell_type": "code",
   "execution_count": 3,
   "metadata": {},
   "outputs": [
    {
     "data": {
      "text/html": [
       "<div>\n",
       "<style scoped>\n",
       "    .dataframe tbody tr th:only-of-type {\n",
       "        vertical-align: middle;\n",
       "    }\n",
       "\n",
       "    .dataframe tbody tr th {\n",
       "        vertical-align: top;\n",
       "    }\n",
       "\n",
       "    .dataframe thead th {\n",
       "        text-align: right;\n",
       "    }\n",
       "</style>\n",
       "<table border=\"1\" class=\"dataframe\">\n",
       "  <thead>\n",
       "    <tr style=\"text-align: right;\">\n",
       "      <th></th>\n",
       "      <th>Title</th>\n",
       "      <th>Price</th>\n",
       "      <th>Link</th>\n",
       "      <th>Colors</th>\n",
       "      <th>Image Path</th>\n",
       "    </tr>\n",
       "  </thead>\n",
       "  <tbody>\n",
       "    <tr>\n",
       "      <th>0</th>\n",
       "      <td>Geo 84'' Upholstered Sofa</td>\n",
       "      <td>$770</td>\n",
       "      <td>https://www.allmodern.com/furniture/pdp/geo-84-square-arm-sofa-a001114308.html</td>\n",
       "      <td>, , Beige Fabric, Bella Burnt Orange Performance Velvet, Bella Forest Performance Velvet, Bella Gold Performance Velvet, Bella Ink Performance Velvet</td>\n",
       "      <td>Imgs/Geo+84''+Upholstered+Sofa.jpg</td>\n",
       "    </tr>\n",
       "    <tr>\n",
       "      <th>1</th>\n",
       "      <td>Geo 84 inch Genuine Leather Sofa</td>\n",
       "      <td>$1,100</td>\n",
       "      <td>https://www.allmodern.com/furniture/pdp/geo-84-inch-genuine-leather-sofa-a001172441.html</td>\n",
       "      <td>, , Caramel Genuine Leather, Vintage Black Genuine Leather</td>\n",
       "      <td>Imgs/Geo+84+inch+Genuine+Leather+Sofa.jpg</td>\n",
       "    </tr>\n",
       "    <tr>\n",
       "      <th>2</th>\n",
       "      <td>Benedict 91'' Upholstered Sofa</td>\n",
       "      <td>$1,080</td>\n",
       "      <td>https://www.allmodern.com/furniture/pdp/benedict-91-upholstered-sofa-a001037807.html</td>\n",
       "      <td>, , Cream  Corduroy, Dust Blue Angel Chenille, Gray Performance Corduroy, Mushroom Textured Performance, Royal Blue Performance Corduroy</td>\n",
       "      <td>Imgs/Benedict+91''+Upholstered+Sofa.jpg</td>\n",
       "    </tr>\n",
       "    <tr>\n",
       "      <th>3</th>\n",
       "      <td>Rae 84'' Upholstered Sofa</td>\n",
       "      <td>$1,400</td>\n",
       "      <td>https://www.allmodern.com/furniture/pdp/rae-85-upholstered-sofa-a001056981.html</td>\n",
       "      <td>, , Effie Indigo Performance Linen, Effie Linen Performance Linen, Falkirk Military Green, Falkirk Reddish Brown, Falkirk Royal Blue Velvet</td>\n",
       "      <td>Imgs/Rae+84''+Upholstered+Sofa.jpg</td>\n",
       "    </tr>\n",
       "    <tr>\n",
       "      <th>4</th>\n",
       "      <td>George 82'' Upholstered Sofa</td>\n",
       "      <td>$1,020</td>\n",
       "      <td>https://www.allmodern.com/furniture/pdp/george-82-velvet-tuxedo-arm-sofa-a000868789.html</td>\n",
       "      <td>, , Blush Velvet, Emerald Green Velvet, Olive Velvet, Platinum Gray Velvet, Sapphire Velvet</td>\n",
       "      <td>Imgs/George+82''+Upholstered+Sofa.jpg</td>\n",
       "    </tr>\n",
       "  </tbody>\n",
       "</table>\n",
       "</div>"
      ],
      "text/plain": [
       "                              Title   Price  \\\n",
       "0         Geo 84'' Upholstered Sofa    $770   \n",
       "1  Geo 84 inch Genuine Leather Sofa  $1,100   \n",
       "2    Benedict 91'' Upholstered Sofa  $1,080   \n",
       "3         Rae 84'' Upholstered Sofa  $1,400   \n",
       "4      George 82'' Upholstered Sofa  $1,020   \n",
       "\n",
       "                                                                                       Link  \\\n",
       "0            https://www.allmodern.com/furniture/pdp/geo-84-square-arm-sofa-a001114308.html   \n",
       "1  https://www.allmodern.com/furniture/pdp/geo-84-inch-genuine-leather-sofa-a001172441.html   \n",
       "2      https://www.allmodern.com/furniture/pdp/benedict-91-upholstered-sofa-a001037807.html   \n",
       "3           https://www.allmodern.com/furniture/pdp/rae-85-upholstered-sofa-a001056981.html   \n",
       "4  https://www.allmodern.com/furniture/pdp/george-82-velvet-tuxedo-arm-sofa-a000868789.html   \n",
       "\n",
       "                                                                                                                                                  Colors  \\\n",
       "0  , , Beige Fabric, Bella Burnt Orange Performance Velvet, Bella Forest Performance Velvet, Bella Gold Performance Velvet, Bella Ink Performance Velvet   \n",
       "1                                                                                             , , Caramel Genuine Leather, Vintage Black Genuine Leather   \n",
       "2               , , Cream  Corduroy, Dust Blue Angel Chenille, Gray Performance Corduroy, Mushroom Textured Performance, Royal Blue Performance Corduroy   \n",
       "3            , , Effie Indigo Performance Linen, Effie Linen Performance Linen, Falkirk Military Green, Falkirk Reddish Brown, Falkirk Royal Blue Velvet   \n",
       "4                                                            , , Blush Velvet, Emerald Green Velvet, Olive Velvet, Platinum Gray Velvet, Sapphire Velvet   \n",
       "\n",
       "                                  Image Path  \n",
       "0         Imgs/Geo+84''+Upholstered+Sofa.jpg  \n",
       "1  Imgs/Geo+84+inch+Genuine+Leather+Sofa.jpg  \n",
       "2    Imgs/Benedict+91''+Upholstered+Sofa.jpg  \n",
       "3         Imgs/Rae+84''+Upholstered+Sofa.jpg  \n",
       "4      Imgs/George+82''+Upholstered+Sofa.jpg  "
      ]
     },
     "execution_count": 3,
     "metadata": {},
     "output_type": "execute_result"
    }
   ],
   "source": [
    "df.head()"
   ]
  },
  {
   "cell_type": "markdown",
   "metadata": {},
   "source": [
    "# Displaying Dataset"
   ]
  },
  {
   "cell_type": "code",
   "execution_count": null,
   "metadata": {},
   "outputs": [],
   "source": [
    "df.head()"
   ]
  },
  {
   "cell_type": "markdown",
   "metadata": {},
   "source": [
    "# Droping Duplicate"
   ]
  },
  {
   "cell_type": "code",
   "execution_count": 5,
   "metadata": {},
   "outputs": [
    {
     "data": {
      "text/plain": [
       "(6011, 5)"
      ]
     },
     "execution_count": 5,
     "metadata": {},
     "output_type": "execute_result"
    }
   ],
   "source": [
    "df.shape"
   ]
  },
  {
   "cell_type": "code",
   "execution_count": 7,
   "metadata": {},
   "outputs": [],
   "source": [
    "df.drop_duplicates(subset = \"Title\",inplace=True)"
   ]
  },
  {
   "cell_type": "code",
   "execution_count": 8,
   "metadata": {},
   "outputs": [
    {
     "data": {
      "text/plain": [
       "(3834, 5)"
      ]
     },
     "execution_count": 8,
     "metadata": {},
     "output_type": "execute_result"
    }
   ],
   "source": [
    "df.shape"
   ]
  },
  {
   "cell_type": "markdown",
   "metadata": {},
   "source": [
    "# Replacing `$` With Nothing in Price Column"
   ]
  },
  {
   "cell_type": "code",
   "execution_count": 10,
   "metadata": {},
   "outputs": [],
   "source": [
    "df['Price'] = df['Price'].str.replace('$', '')"
   ]
  },
  {
   "cell_type": "code",
   "execution_count": 11,
   "metadata": {},
   "outputs": [
    {
     "data": {
      "text/html": [
       "<div>\n",
       "<style scoped>\n",
       "    .dataframe tbody tr th:only-of-type {\n",
       "        vertical-align: middle;\n",
       "    }\n",
       "\n",
       "    .dataframe tbody tr th {\n",
       "        vertical-align: top;\n",
       "    }\n",
       "\n",
       "    .dataframe thead th {\n",
       "        text-align: right;\n",
       "    }\n",
       "</style>\n",
       "<table border=\"1\" class=\"dataframe\">\n",
       "  <thead>\n",
       "    <tr style=\"text-align: right;\">\n",
       "      <th></th>\n",
       "      <th>Title</th>\n",
       "      <th>Price</th>\n",
       "      <th>Link</th>\n",
       "      <th>Colors</th>\n",
       "      <th>Image Path</th>\n",
       "    </tr>\n",
       "  </thead>\n",
       "  <tbody>\n",
       "    <tr>\n",
       "      <th>0</th>\n",
       "      <td>Geo 84'' Upholstered Sofa</td>\n",
       "      <td>770</td>\n",
       "      <td>https://www.allmodern.com/furniture/pdp/geo-84-square-arm-sofa-a001114308.html</td>\n",
       "      <td>, , Beige Fabric, Bella Burnt Orange Performance Velvet, Bella Forest Performance Velvet, Bella Gold Performance Velvet, Bella Ink Performance Velvet</td>\n",
       "      <td>Imgs/Geo+84''+Upholstered+Sofa.jpg</td>\n",
       "    </tr>\n",
       "    <tr>\n",
       "      <th>1</th>\n",
       "      <td>Geo 84 inch Genuine Leather Sofa</td>\n",
       "      <td>1,100</td>\n",
       "      <td>https://www.allmodern.com/furniture/pdp/geo-84-inch-genuine-leather-sofa-a001172441.html</td>\n",
       "      <td>, , Caramel Genuine Leather, Vintage Black Genuine Leather</td>\n",
       "      <td>Imgs/Geo+84+inch+Genuine+Leather+Sofa.jpg</td>\n",
       "    </tr>\n",
       "    <tr>\n",
       "      <th>2</th>\n",
       "      <td>Benedict 91'' Upholstered Sofa</td>\n",
       "      <td>1,080</td>\n",
       "      <td>https://www.allmodern.com/furniture/pdp/benedict-91-upholstered-sofa-a001037807.html</td>\n",
       "      <td>, , Cream  Corduroy, Dust Blue Angel Chenille, Gray Performance Corduroy, Mushroom Textured Performance, Royal Blue Performance Corduroy</td>\n",
       "      <td>Imgs/Benedict+91''+Upholstered+Sofa.jpg</td>\n",
       "    </tr>\n",
       "    <tr>\n",
       "      <th>3</th>\n",
       "      <td>Rae 84'' Upholstered Sofa</td>\n",
       "      <td>1,400</td>\n",
       "      <td>https://www.allmodern.com/furniture/pdp/rae-85-upholstered-sofa-a001056981.html</td>\n",
       "      <td>, , Effie Indigo Performance Linen, Effie Linen Performance Linen, Falkirk Military Green, Falkirk Reddish Brown, Falkirk Royal Blue Velvet</td>\n",
       "      <td>Imgs/Rae+84''+Upholstered+Sofa.jpg</td>\n",
       "    </tr>\n",
       "    <tr>\n",
       "      <th>4</th>\n",
       "      <td>George 82'' Upholstered Sofa</td>\n",
       "      <td>1,020</td>\n",
       "      <td>https://www.allmodern.com/furniture/pdp/george-82-velvet-tuxedo-arm-sofa-a000868789.html</td>\n",
       "      <td>, , Blush Velvet, Emerald Green Velvet, Olive Velvet, Platinum Gray Velvet, Sapphire Velvet</td>\n",
       "      <td>Imgs/George+82''+Upholstered+Sofa.jpg</td>\n",
       "    </tr>\n",
       "  </tbody>\n",
       "</table>\n",
       "</div>"
      ],
      "text/plain": [
       "                              Title  Price  \\\n",
       "0         Geo 84'' Upholstered Sofa    770   \n",
       "1  Geo 84 inch Genuine Leather Sofa  1,100   \n",
       "2    Benedict 91'' Upholstered Sofa  1,080   \n",
       "3         Rae 84'' Upholstered Sofa  1,400   \n",
       "4      George 82'' Upholstered Sofa  1,020   \n",
       "\n",
       "                                                                                       Link  \\\n",
       "0            https://www.allmodern.com/furniture/pdp/geo-84-square-arm-sofa-a001114308.html   \n",
       "1  https://www.allmodern.com/furniture/pdp/geo-84-inch-genuine-leather-sofa-a001172441.html   \n",
       "2      https://www.allmodern.com/furniture/pdp/benedict-91-upholstered-sofa-a001037807.html   \n",
       "3           https://www.allmodern.com/furniture/pdp/rae-85-upholstered-sofa-a001056981.html   \n",
       "4  https://www.allmodern.com/furniture/pdp/george-82-velvet-tuxedo-arm-sofa-a000868789.html   \n",
       "\n",
       "                                                                                                                                                  Colors  \\\n",
       "0  , , Beige Fabric, Bella Burnt Orange Performance Velvet, Bella Forest Performance Velvet, Bella Gold Performance Velvet, Bella Ink Performance Velvet   \n",
       "1                                                                                             , , Caramel Genuine Leather, Vintage Black Genuine Leather   \n",
       "2               , , Cream  Corduroy, Dust Blue Angel Chenille, Gray Performance Corduroy, Mushroom Textured Performance, Royal Blue Performance Corduroy   \n",
       "3            , , Effie Indigo Performance Linen, Effie Linen Performance Linen, Falkirk Military Green, Falkirk Reddish Brown, Falkirk Royal Blue Velvet   \n",
       "4                                                            , , Blush Velvet, Emerald Green Velvet, Olive Velvet, Platinum Gray Velvet, Sapphire Velvet   \n",
       "\n",
       "                                  Image Path  \n",
       "0         Imgs/Geo+84''+Upholstered+Sofa.jpg  \n",
       "1  Imgs/Geo+84+inch+Genuine+Leather+Sofa.jpg  \n",
       "2    Imgs/Benedict+91''+Upholstered+Sofa.jpg  \n",
       "3         Imgs/Rae+84''+Upholstered+Sofa.jpg  \n",
       "4      Imgs/George+82''+Upholstered+Sofa.jpg  "
      ]
     },
     "execution_count": 11,
     "metadata": {},
     "output_type": "execute_result"
    }
   ],
   "source": [
    "df.head()"
   ]
  },
  {
   "cell_type": "markdown",
   "metadata": {},
   "source": [
    "# Replacing Commas in Colors Column"
   ]
  },
  {
   "cell_type": "code",
   "execution_count": 12,
   "metadata": {},
   "outputs": [],
   "source": [
    "df['Colors']=df['Colors'].str.replace(',','')"
   ]
  },
  {
   "cell_type": "code",
   "execution_count": 13,
   "metadata": {},
   "outputs": [
    {
     "data": {
      "text/html": [
       "<div>\n",
       "<style scoped>\n",
       "    .dataframe tbody tr th:only-of-type {\n",
       "        vertical-align: middle;\n",
       "    }\n",
       "\n",
       "    .dataframe tbody tr th {\n",
       "        vertical-align: top;\n",
       "    }\n",
       "\n",
       "    .dataframe thead th {\n",
       "        text-align: right;\n",
       "    }\n",
       "</style>\n",
       "<table border=\"1\" class=\"dataframe\">\n",
       "  <thead>\n",
       "    <tr style=\"text-align: right;\">\n",
       "      <th></th>\n",
       "      <th>Title</th>\n",
       "      <th>Price</th>\n",
       "      <th>Link</th>\n",
       "      <th>Colors</th>\n",
       "      <th>Image Path</th>\n",
       "    </tr>\n",
       "  </thead>\n",
       "  <tbody>\n",
       "    <tr>\n",
       "      <th>0</th>\n",
       "      <td>Geo 84'' Upholstered Sofa</td>\n",
       "      <td>770</td>\n",
       "      <td>https://www.allmodern.com/furniture/pdp/geo-84-square-arm-sofa-a001114308.html</td>\n",
       "      <td>Beige Fabric Bella Burnt Orange Performance Velvet Bella Forest Performance Velvet Bella Gold Performance Velvet Bella Ink Performance Velvet</td>\n",
       "      <td>Imgs/Geo+84''+Upholstered+Sofa.jpg</td>\n",
       "    </tr>\n",
       "    <tr>\n",
       "      <th>1</th>\n",
       "      <td>Geo 84 inch Genuine Leather Sofa</td>\n",
       "      <td>1,100</td>\n",
       "      <td>https://www.allmodern.com/furniture/pdp/geo-84-inch-genuine-leather-sofa-a001172441.html</td>\n",
       "      <td>Caramel Genuine Leather Vintage Black Genuine Leather</td>\n",
       "      <td>Imgs/Geo+84+inch+Genuine+Leather+Sofa.jpg</td>\n",
       "    </tr>\n",
       "    <tr>\n",
       "      <th>2</th>\n",
       "      <td>Benedict 91'' Upholstered Sofa</td>\n",
       "      <td>1,080</td>\n",
       "      <td>https://www.allmodern.com/furniture/pdp/benedict-91-upholstered-sofa-a001037807.html</td>\n",
       "      <td>Cream  Corduroy Dust Blue Angel Chenille Gray Performance Corduroy Mushroom Textured Performance Royal Blue Performance Corduroy</td>\n",
       "      <td>Imgs/Benedict+91''+Upholstered+Sofa.jpg</td>\n",
       "    </tr>\n",
       "    <tr>\n",
       "      <th>3</th>\n",
       "      <td>Rae 84'' Upholstered Sofa</td>\n",
       "      <td>1,400</td>\n",
       "      <td>https://www.allmodern.com/furniture/pdp/rae-85-upholstered-sofa-a001056981.html</td>\n",
       "      <td>Effie Indigo Performance Linen Effie Linen Performance Linen Falkirk Military Green Falkirk Reddish Brown Falkirk Royal Blue Velvet</td>\n",
       "      <td>Imgs/Rae+84''+Upholstered+Sofa.jpg</td>\n",
       "    </tr>\n",
       "    <tr>\n",
       "      <th>4</th>\n",
       "      <td>George 82'' Upholstered Sofa</td>\n",
       "      <td>1,020</td>\n",
       "      <td>https://www.allmodern.com/furniture/pdp/george-82-velvet-tuxedo-arm-sofa-a000868789.html</td>\n",
       "      <td>Blush Velvet Emerald Green Velvet Olive Velvet Platinum Gray Velvet Sapphire Velvet</td>\n",
       "      <td>Imgs/George+82''+Upholstered+Sofa.jpg</td>\n",
       "    </tr>\n",
       "  </tbody>\n",
       "</table>\n",
       "</div>"
      ],
      "text/plain": [
       "                              Title  Price  \\\n",
       "0         Geo 84'' Upholstered Sofa    770   \n",
       "1  Geo 84 inch Genuine Leather Sofa  1,100   \n",
       "2    Benedict 91'' Upholstered Sofa  1,080   \n",
       "3         Rae 84'' Upholstered Sofa  1,400   \n",
       "4      George 82'' Upholstered Sofa  1,020   \n",
       "\n",
       "                                                                                       Link  \\\n",
       "0            https://www.allmodern.com/furniture/pdp/geo-84-square-arm-sofa-a001114308.html   \n",
       "1  https://www.allmodern.com/furniture/pdp/geo-84-inch-genuine-leather-sofa-a001172441.html   \n",
       "2      https://www.allmodern.com/furniture/pdp/benedict-91-upholstered-sofa-a001037807.html   \n",
       "3           https://www.allmodern.com/furniture/pdp/rae-85-upholstered-sofa-a001056981.html   \n",
       "4  https://www.allmodern.com/furniture/pdp/george-82-velvet-tuxedo-arm-sofa-a000868789.html   \n",
       "\n",
       "                                                                                                                                            Colors  \\\n",
       "0    Beige Fabric Bella Burnt Orange Performance Velvet Bella Forest Performance Velvet Bella Gold Performance Velvet Bella Ink Performance Velvet   \n",
       "1                                                                                            Caramel Genuine Leather Vintage Black Genuine Leather   \n",
       "2                 Cream  Corduroy Dust Blue Angel Chenille Gray Performance Corduroy Mushroom Textured Performance Royal Blue Performance Corduroy   \n",
       "3              Effie Indigo Performance Linen Effie Linen Performance Linen Falkirk Military Green Falkirk Reddish Brown Falkirk Royal Blue Velvet   \n",
       "4                                                              Blush Velvet Emerald Green Velvet Olive Velvet Platinum Gray Velvet Sapphire Velvet   \n",
       "\n",
       "                                  Image Path  \n",
       "0         Imgs/Geo+84''+Upholstered+Sofa.jpg  \n",
       "1  Imgs/Geo+84+inch+Genuine+Leather+Sofa.jpg  \n",
       "2    Imgs/Benedict+91''+Upholstered+Sofa.jpg  \n",
       "3         Imgs/Rae+84''+Upholstered+Sofa.jpg  \n",
       "4      Imgs/George+82''+Upholstered+Sofa.jpg  "
      ]
     },
     "execution_count": 13,
     "metadata": {},
     "output_type": "execute_result"
    }
   ],
   "source": [
    "df.head()"
   ]
  },
  {
   "cell_type": "code",
   "execution_count": null,
   "metadata": {},
   "outputs": [],
   "source": []
  },
  {
   "cell_type": "code",
   "execution_count": null,
   "metadata": {},
   "outputs": [],
   "source": [
    "scaler = StandardScaler()"
   ]
  },
  {
   "cell_type": "code",
   "execution_count": null,
   "metadata": {},
   "outputs": [],
   "source": [
    "df['Price'] = scaler.fit_transform(df[['Price']])"
   ]
  },
  {
   "cell_type": "code",
   "execution_count": null,
   "metadata": {},
   "outputs": [],
   "source": [
    "df['Colors'] = pd.factorize(df['Colors'])[0]"
   ]
  },
  {
   "cell_type": "code",
   "execution_count": null,
   "metadata": {},
   "outputs": [],
   "source": []
  },
  {
   "cell_type": "code",
   "execution_count": null,
   "metadata": {},
   "outputs": [],
   "source": [
    "# Creating feature vectors\n",
    "features = df[['Colors', 'Price']].values\n",
    "\n",
    "# Compute cosine similarity matrix\n",
    "similarity_matrix = cosine_similarity(features, features)"
   ]
  },
  {
   "cell_type": "code",
   "execution_count": null,
   "metadata": {},
   "outputs": [],
   "source": [
    "def recommend_items(item_name, similarity_matrix, df, top_n=10):\n",
    "    if item_name not in df['Title'].values:\n",
    "        return f\"Item '{item_name}' not found in the dataset.\"\n",
    "\n",
    "    item_index = df.index[df['Title'] == item_name].tolist()[0]\n",
    "\n",
    "    similarity_scores = list(enumerate(similarity_matrix[item_index]))\n",
    "\n",
    "    similarity_scores = sorted(similarity_scores, key=lambda x: x[1], reverse=True)\n",
    "\n",
    "    top_similar_items = similarity_scores[1:top_n+1]\n",
    "\n",
    "    recommended_items = [df.iloc[item[0]]['Title'] for item in top_similar_items]\n",
    "\n",
    "    return recommended_items\n",
    "\n",
    "# Example usage\n",
    "item_name = 'YouCopia ReStickable 3D Fridge Labels Pack of 10'\n",
    "recommendations = recommend_items(item_name, similarity_matrix, df)\n",
    "print(f\"Because you viewed {item_name}, you may also like: {', '.join(recommendations)}\")\n"
   ]
  },
  {
   "cell_type": "code",
   "execution_count": null,
   "metadata": {},
   "outputs": [],
   "source": [
    "recommendations"
   ]
  },
  {
   "cell_type": "code",
   "execution_count": null,
   "metadata": {},
   "outputs": [],
   "source": [
    "df[df['Title']==item_name]"
   ]
  },
  {
   "cell_type": "code",
   "execution_count": null,
   "metadata": {},
   "outputs": [],
   "source": [
    "df[df['Title']==item_name]['Link']"
   ]
  },
  {
   "cell_type": "code",
   "execution_count": null,
   "metadata": {},
   "outputs": [],
   "source": [
    "[df[df['Title']==rec]['Link'] for rec in recommendations]"
   ]
  },
  {
   "cell_type": "code",
   "execution_count": null,
   "metadata": {},
   "outputs": [],
   "source": []
  },
  {
   "cell_type": "code",
   "execution_count": null,
   "metadata": {},
   "outputs": [],
   "source": []
  },
  {
   "cell_type": "code",
   "execution_count": null,
   "metadata": {},
   "outputs": [],
   "source": []
  },
  {
   "cell_type": "code",
   "execution_count": null,
   "metadata": {},
   "outputs": [],
   "source": []
  },
  {
   "cell_type": "code",
   "execution_count": null,
   "metadata": {},
   "outputs": [],
   "source": []
  },
  {
   "cell_type": "code",
   "execution_count": null,
   "metadata": {},
   "outputs": [],
   "source": [
    "import pandas as pd\n",
    "from sklearn.metrics.pairwise import cosine_similarity\n",
    "from sklearn.preprocessing import StandardScaler\n",
    "\n",
    "# Example dataset (replace with your actual dataset loading)\n",
    "data = {\n",
    "    'furniture_name': ['Sofa', 'Table', 'Chair', 'Cushion', 'Bed', 'Desk'],\n",
    "    'color': ['Red', 'Brown', 'White', 'Blue', 'Black', 'Brown'],\n",
    "    'price': [500, 300, 150, 50, 800, 400]\n",
    "}\n",
    "\n",
    "df = pd.DataFrame(data)\n",
    "\n",
    "# Encoding categorical variables (color)\n",
    "df['color_encoded'] = pd.factorize(df['color'])[0]\n",
    "\n",
    "# Scaling numerical features (price)\n",
    "scaler = StandardScaler()\n",
    "df['price_scaled'] = scaler.fit_transform(df[['price']])\n",
    "\n",
    "# Creating feature vectors\n",
    "features = df[['color_encoded', 'price_scaled']].values\n",
    "\n",
    "# Compute cosine similarity matrix\n",
    "similarity_matrix = cosine_similarity(features, features)\n",
    "\n",
    "# Function to recommend items\n",
    "def recommend_items(item_name, similarity_matrix, df, top_n=3):\n",
    "    item_index = df.index[df['furniture_name'] == item_name][0]\n",
    "    similarity_scores = list(enumerate(similarity_matrix[item_index]))\n",
    "    similarity_scores = sorted(similarity_scores, key=lambda x: x[1], reverse=True)\n",
    "    top_similar_items = similarity_scores[1:top_n+1]  # Exclude itself, get top N similar items\n",
    "    recommended_items = [df.iloc[item[0]]['furniture_name'] for item in top_similar_items]\n",
    "    return recommended_items\n",
    "\n",
    "# Example usage\n",
    "item_name = 'Sofa'\n",
    "recommendations = recommend_items(item_name, similarity_matrix, df)\n",
    "print(f\"Because you viewed {item_name}, you may also like: {', '.join(recommendations)}\")\n"
   ]
  },
  {
   "cell_type": "code",
   "execution_count": null,
   "metadata": {},
   "outputs": [],
   "source": []
  }
 ],
 "metadata": {
  "kernelspec": {
   "display_name": ".venv",
   "language": "python",
   "name": "python3"
  },
  "language_info": {
   "codemirror_mode": {
    "name": "ipython",
    "version": 3
   },
   "file_extension": ".py",
   "mimetype": "text/x-python",
   "name": "python",
   "nbconvert_exporter": "python",
   "pygments_lexer": "ipython3",
   "version": "3.9.13"
  }
 },
 "nbformat": 4,
 "nbformat_minor": 2
}
