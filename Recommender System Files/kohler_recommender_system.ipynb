{
 "cells": [
  {
   "cell_type": "markdown",
   "metadata": {},
   "source": [
    "# Import Libraries"
   ]
  },
  {
   "cell_type": "code",
   "execution_count": 5,
   "metadata": {},
   "outputs": [],
   "source": [
    "import pandas as pd \n",
    "import numpy as np\n",
    "import re\n",
    "from sklearn.metrics.pairwise import cosine_similarity\n",
    "from sklearn.preprocessing import StandardScaler\n",
    "pd.set_option('display.max_colwidth', None) "
   ]
  },
  {
   "cell_type": "markdown",
   "metadata": {},
   "source": [
    "# Loading Dataframe"
   ]
  },
  {
   "cell_type": "code",
   "execution_count": 6,
   "metadata": {},
   "outputs": [
    {
     "ename": "ParserError",
     "evalue": "Error tokenizing data. C error: Expected 6 fields in line 625, saw 11\n",
     "output_type": "error",
     "traceback": [
      "\u001b[1;31m---------------------------------------------------------------------------\u001b[0m",
      "\u001b[1;31mParserError\u001b[0m                               Traceback (most recent call last)",
      "Cell \u001b[1;32mIn[6], line 1\u001b[0m\n\u001b[1;32m----> 1\u001b[0m df\u001b[38;5;241m=\u001b[39m\u001b[43mpd\u001b[49m\u001b[38;5;241;43m.\u001b[39;49m\u001b[43mread_csv\u001b[49m\u001b[43m(\u001b[49m\u001b[38;5;124;43m'\u001b[39;49m\u001b[38;5;124;43m../data/kohler.csv\u001b[39;49m\u001b[38;5;124;43m'\u001b[39;49m\u001b[43m)\u001b[49m\n",
      "File \u001b[1;32md:\\DigiMark\\Recommender-System-of-Furniture-and-Bathrooms\\.venv\\lib\\site-packages\\pandas\\io\\parsers\\readers.py:1026\u001b[0m, in \u001b[0;36mread_csv\u001b[1;34m(filepath_or_buffer, sep, delimiter, header, names, index_col, usecols, dtype, engine, converters, true_values, false_values, skipinitialspace, skiprows, skipfooter, nrows, na_values, keep_default_na, na_filter, verbose, skip_blank_lines, parse_dates, infer_datetime_format, keep_date_col, date_parser, date_format, dayfirst, cache_dates, iterator, chunksize, compression, thousands, decimal, lineterminator, quotechar, quoting, doublequote, escapechar, comment, encoding, encoding_errors, dialect, on_bad_lines, delim_whitespace, low_memory, memory_map, float_precision, storage_options, dtype_backend)\u001b[0m\n\u001b[0;32m   1013\u001b[0m kwds_defaults \u001b[38;5;241m=\u001b[39m _refine_defaults_read(\n\u001b[0;32m   1014\u001b[0m     dialect,\n\u001b[0;32m   1015\u001b[0m     delimiter,\n\u001b[1;32m   (...)\u001b[0m\n\u001b[0;32m   1022\u001b[0m     dtype_backend\u001b[38;5;241m=\u001b[39mdtype_backend,\n\u001b[0;32m   1023\u001b[0m )\n\u001b[0;32m   1024\u001b[0m kwds\u001b[38;5;241m.\u001b[39mupdate(kwds_defaults)\n\u001b[1;32m-> 1026\u001b[0m \u001b[38;5;28;01mreturn\u001b[39;00m \u001b[43m_read\u001b[49m\u001b[43m(\u001b[49m\u001b[43mfilepath_or_buffer\u001b[49m\u001b[43m,\u001b[49m\u001b[43m \u001b[49m\u001b[43mkwds\u001b[49m\u001b[43m)\u001b[49m\n",
      "File \u001b[1;32md:\\DigiMark\\Recommender-System-of-Furniture-and-Bathrooms\\.venv\\lib\\site-packages\\pandas\\io\\parsers\\readers.py:626\u001b[0m, in \u001b[0;36m_read\u001b[1;34m(filepath_or_buffer, kwds)\u001b[0m\n\u001b[0;32m    623\u001b[0m     \u001b[38;5;28;01mreturn\u001b[39;00m parser\n\u001b[0;32m    625\u001b[0m \u001b[38;5;28;01mwith\u001b[39;00m parser:\n\u001b[1;32m--> 626\u001b[0m     \u001b[38;5;28;01mreturn\u001b[39;00m \u001b[43mparser\u001b[49m\u001b[38;5;241;43m.\u001b[39;49m\u001b[43mread\u001b[49m\u001b[43m(\u001b[49m\u001b[43mnrows\u001b[49m\u001b[43m)\u001b[49m\n",
      "File \u001b[1;32md:\\DigiMark\\Recommender-System-of-Furniture-and-Bathrooms\\.venv\\lib\\site-packages\\pandas\\io\\parsers\\readers.py:1923\u001b[0m, in \u001b[0;36mTextFileReader.read\u001b[1;34m(self, nrows)\u001b[0m\n\u001b[0;32m   1916\u001b[0m nrows \u001b[38;5;241m=\u001b[39m validate_integer(\u001b[38;5;124m\"\u001b[39m\u001b[38;5;124mnrows\u001b[39m\u001b[38;5;124m\"\u001b[39m, nrows)\n\u001b[0;32m   1917\u001b[0m \u001b[38;5;28;01mtry\u001b[39;00m:\n\u001b[0;32m   1918\u001b[0m     \u001b[38;5;66;03m# error: \"ParserBase\" has no attribute \"read\"\u001b[39;00m\n\u001b[0;32m   1919\u001b[0m     (\n\u001b[0;32m   1920\u001b[0m         index,\n\u001b[0;32m   1921\u001b[0m         columns,\n\u001b[0;32m   1922\u001b[0m         col_dict,\n\u001b[1;32m-> 1923\u001b[0m     ) \u001b[38;5;241m=\u001b[39m \u001b[38;5;28;43mself\u001b[39;49m\u001b[38;5;241;43m.\u001b[39;49m\u001b[43m_engine\u001b[49m\u001b[38;5;241;43m.\u001b[39;49m\u001b[43mread\u001b[49m\u001b[43m(\u001b[49m\u001b[43m  \u001b[49m\u001b[38;5;66;43;03m# type: ignore[attr-defined]\u001b[39;49;00m\n\u001b[0;32m   1924\u001b[0m \u001b[43m        \u001b[49m\u001b[43mnrows\u001b[49m\n\u001b[0;32m   1925\u001b[0m \u001b[43m    \u001b[49m\u001b[43m)\u001b[49m\n\u001b[0;32m   1926\u001b[0m \u001b[38;5;28;01mexcept\u001b[39;00m \u001b[38;5;167;01mException\u001b[39;00m:\n\u001b[0;32m   1927\u001b[0m     \u001b[38;5;28mself\u001b[39m\u001b[38;5;241m.\u001b[39mclose()\n",
      "File \u001b[1;32md:\\DigiMark\\Recommender-System-of-Furniture-and-Bathrooms\\.venv\\lib\\site-packages\\pandas\\io\\parsers\\c_parser_wrapper.py:234\u001b[0m, in \u001b[0;36mCParserWrapper.read\u001b[1;34m(self, nrows)\u001b[0m\n\u001b[0;32m    232\u001b[0m \u001b[38;5;28;01mtry\u001b[39;00m:\n\u001b[0;32m    233\u001b[0m     \u001b[38;5;28;01mif\u001b[39;00m \u001b[38;5;28mself\u001b[39m\u001b[38;5;241m.\u001b[39mlow_memory:\n\u001b[1;32m--> 234\u001b[0m         chunks \u001b[38;5;241m=\u001b[39m \u001b[38;5;28;43mself\u001b[39;49m\u001b[38;5;241;43m.\u001b[39;49m\u001b[43m_reader\u001b[49m\u001b[38;5;241;43m.\u001b[39;49m\u001b[43mread_low_memory\u001b[49m\u001b[43m(\u001b[49m\u001b[43mnrows\u001b[49m\u001b[43m)\u001b[49m\n\u001b[0;32m    235\u001b[0m         \u001b[38;5;66;03m# destructive to chunks\u001b[39;00m\n\u001b[0;32m    236\u001b[0m         data \u001b[38;5;241m=\u001b[39m _concatenate_chunks(chunks)\n",
      "File \u001b[1;32mparsers.pyx:838\u001b[0m, in \u001b[0;36mpandas._libs.parsers.TextReader.read_low_memory\u001b[1;34m()\u001b[0m\n",
      "File \u001b[1;32mparsers.pyx:905\u001b[0m, in \u001b[0;36mpandas._libs.parsers.TextReader._read_rows\u001b[1;34m()\u001b[0m\n",
      "File \u001b[1;32mparsers.pyx:874\u001b[0m, in \u001b[0;36mpandas._libs.parsers.TextReader._tokenize_rows\u001b[1;34m()\u001b[0m\n",
      "File \u001b[1;32mparsers.pyx:891\u001b[0m, in \u001b[0;36mpandas._libs.parsers.TextReader._check_tokenize_status\u001b[1;34m()\u001b[0m\n",
      "File \u001b[1;32mparsers.pyx:2061\u001b[0m, in \u001b[0;36mpandas._libs.parsers.raise_parser_error\u001b[1;34m()\u001b[0m\n",
      "\u001b[1;31mParserError\u001b[0m: Error tokenizing data. C error: Expected 6 fields in line 625, saw 11\n"
     ]
    }
   ],
   "source": [
    "df=pd.read_csv('../data/kohler.csv')"
   ]
  },
  {
   "cell_type": "code",
   "execution_count": null,
   "metadata": {},
   "outputs": [
    {
     "data": {
      "text/html": [
       "<div>\n",
       "<style scoped>\n",
       "    .dataframe tbody tr th:only-of-type {\n",
       "        vertical-align: middle;\n",
       "    }\n",
       "\n",
       "    .dataframe tbody tr th {\n",
       "        vertical-align: top;\n",
       "    }\n",
       "\n",
       "    .dataframe thead th {\n",
       "        text-align: right;\n",
       "    }\n",
       "</style>\n",
       "<table border=\"1\" class=\"dataframe\">\n",
       "  <thead>\n",
       "    <tr style=\"text-align: right;\">\n",
       "      <th></th>\n",
       "      <th>Title</th>\n",
       "      <th>Price</th>\n",
       "      <th>Link</th>\n",
       "      <th>Image Path</th>\n",
       "      <th>Colors</th>\n",
       "    </tr>\n",
       "  </thead>\n",
       "  <tbody>\n",
       "    <tr>\n",
       "      <th>0</th>\n",
       "      <td>The Container Store Samson Faux Leather Bin</td>\n",
       "      <td>$89.99 – $99.99</td>\n",
       "      <td>https://www.example.com/s/home-decor/home-decor-new-arrivals/the-container-store-samson-faux-leather-bin/12d?productId=11023148</td>\n",
       "      <td>images/thecontainerstoresamsonfauxleatherbin.jpg</td>\n",
       "      <td>css-1jtiraa, css-1xx16ea</td>\n",
       "    </tr>\n",
       "    <tr>\n",
       "      <th>1</th>\n",
       "      <td>Zafferano Poldina Pro Wireless Lamp</td>\n",
       "      <td>$169.00</td>\n",
       "      <td>https://www.example.com/s/home-decor/home-decor-new-arrivals/zafferano-poldina-pro-wireless-lamp/12d?productId=11024636</td>\n",
       "      <td>images/zafferanopoldinaprowirelesslamp.jpg</td>\n",
       "      <td>css-abqf3x, css-1ljdx5i, css-1xx16ea</td>\n",
       "    </tr>\n",
       "    <tr>\n",
       "      <th>2</th>\n",
       "      <td>The Container Store Rattan Bins with Lid</td>\n",
       "      <td>$109.99 – $179.99</td>\n",
       "      <td>https://www.example.com/s/home-decor/home-decor-new-arrivals/the-container-store-rattan-bins-with-lid/12d?productId=11023133</td>\n",
       "      <td>images/thecontainerstorerattanbinswithlid.jpg</td>\n",
       "      <td>NaN</td>\n",
       "    </tr>\n",
       "    <tr>\n",
       "      <th>3</th>\n",
       "      <td>The Container Store Pacific Bin</td>\n",
       "      <td>$29.99 – $39.99</td>\n",
       "      <td>https://www.example.com/s/home-decor/home-decor-new-arrivals/the-container-store-pacific-bin/12d?productId=11023713</td>\n",
       "      <td>images/thecontainerstorepacificbin.jpg</td>\n",
       "      <td>NaN</td>\n",
       "    </tr>\n",
       "    <tr>\n",
       "      <th>4</th>\n",
       "      <td>Yamazaki Tower Narrow Entryway Console Table</td>\n",
       "      <td>$79.00</td>\n",
       "      <td>https://www.example.com/s/home-decor/home-decor-new-arrivals/yamazaki-tower-narrow-entryway-console-table/12d?productId=11024476</td>\n",
       "      <td>images/yamazakitowernarrowentrywayconsoletable.jpg</td>\n",
       "      <td>css-1xx16ea, css-abqf3x</td>\n",
       "    </tr>\n",
       "  </tbody>\n",
       "</table>\n",
       "</div>"
      ],
      "text/plain": [
       "                                          Title              Price  \\\n",
       "0   The Container Store Samson Faux Leather Bin    $89.99 – $99.99   \n",
       "1           Zafferano Poldina Pro Wireless Lamp            $169.00   \n",
       "2      The Container Store Rattan Bins with Lid  $109.99 – $179.99   \n",
       "3               The Container Store Pacific Bin    $29.99 – $39.99   \n",
       "4  Yamazaki Tower Narrow Entryway Console Table             $79.00   \n",
       "\n",
       "                                                                                                                               Link  \\\n",
       "0   https://www.example.com/s/home-decor/home-decor-new-arrivals/the-container-store-samson-faux-leather-bin/12d?productId=11023148   \n",
       "1           https://www.example.com/s/home-decor/home-decor-new-arrivals/zafferano-poldina-pro-wireless-lamp/12d?productId=11024636   \n",
       "2      https://www.example.com/s/home-decor/home-decor-new-arrivals/the-container-store-rattan-bins-with-lid/12d?productId=11023133   \n",
       "3               https://www.example.com/s/home-decor/home-decor-new-arrivals/the-container-store-pacific-bin/12d?productId=11023713   \n",
       "4  https://www.example.com/s/home-decor/home-decor-new-arrivals/yamazaki-tower-narrow-entryway-console-table/12d?productId=11024476   \n",
       "\n",
       "                                           Image Path  \\\n",
       "0    images/thecontainerstoresamsonfauxleatherbin.jpg   \n",
       "1          images/zafferanopoldinaprowirelesslamp.jpg   \n",
       "2       images/thecontainerstorerattanbinswithlid.jpg   \n",
       "3              images/thecontainerstorepacificbin.jpg   \n",
       "4  images/yamazakitowernarrowentrywayconsoletable.jpg   \n",
       "\n",
       "                                 Colors  \n",
       "0              css-1jtiraa, css-1xx16ea  \n",
       "1  css-abqf3x, css-1ljdx5i, css-1xx16ea  \n",
       "2                                   NaN  \n",
       "3                                   NaN  \n",
       "4               css-1xx16ea, css-abqf3x  "
      ]
     },
     "execution_count": 3,
     "metadata": {},
     "output_type": "execute_result"
    }
   ],
   "source": [
    "df.head()"
   ]
  },
  {
   "cell_type": "code",
   "execution_count": 4,
   "metadata": {},
   "outputs": [
    {
     "data": {
      "text/plain": [
       "Title            0\n",
       "Price            0\n",
       "Link             0\n",
       "Image Path       0\n",
       "Colors        6138\n",
       "dtype: int64"
      ]
     },
     "execution_count": 4,
     "metadata": {},
     "output_type": "execute_result"
    }
   ],
   "source": [
    "df.isna().sum()"
   ]
  },
  {
   "cell_type": "code",
   "execution_count": 5,
   "metadata": {},
   "outputs": [],
   "source": [
    "df = df[['Title','Price','Colors','Link']]"
   ]
  },
  {
   "cell_type": "code",
   "execution_count": 6,
   "metadata": {},
   "outputs": [
    {
     "name": "stdout",
     "output_type": "stream",
     "text": [
      "<class 'pandas.core.frame.DataFrame'>\n",
      "RangeIndex: 8170 entries, 0 to 8169\n",
      "Data columns (total 4 columns):\n",
      " #   Column  Non-Null Count  Dtype \n",
      "---  ------  --------------  ----- \n",
      " 0   Title   8170 non-null   object\n",
      " 1   Price   8170 non-null   object\n",
      " 2   Colors  2032 non-null   object\n",
      " 3   Link    8170 non-null   object\n",
      "dtypes: object(4)\n",
      "memory usage: 255.4+ KB\n"
     ]
    }
   ],
   "source": [
    "df.info()"
   ]
  },
  {
   "cell_type": "markdown",
   "metadata": {},
   "source": [
    "# Displaying Dataset"
   ]
  },
  {
   "cell_type": "code",
   "execution_count": 7,
   "metadata": {},
   "outputs": [
    {
     "data": {
      "text/html": [
       "<div>\n",
       "<style scoped>\n",
       "    .dataframe tbody tr th:only-of-type {\n",
       "        vertical-align: middle;\n",
       "    }\n",
       "\n",
       "    .dataframe tbody tr th {\n",
       "        vertical-align: top;\n",
       "    }\n",
       "\n",
       "    .dataframe thead th {\n",
       "        text-align: right;\n",
       "    }\n",
       "</style>\n",
       "<table border=\"1\" class=\"dataframe\">\n",
       "  <thead>\n",
       "    <tr style=\"text-align: right;\">\n",
       "      <th></th>\n",
       "      <th>Title</th>\n",
       "      <th>Price</th>\n",
       "      <th>Colors</th>\n",
       "      <th>Link</th>\n",
       "    </tr>\n",
       "  </thead>\n",
       "  <tbody>\n",
       "    <tr>\n",
       "      <th>0</th>\n",
       "      <td>The Container Store Samson Faux Leather Bin</td>\n",
       "      <td>$89.99 – $99.99</td>\n",
       "      <td>css-1jtiraa, css-1xx16ea</td>\n",
       "      <td>https://www.example.com/s/home-decor/home-decor-new-arrivals/the-container-store-samson-faux-leather-bin/12d?productId=11023148</td>\n",
       "    </tr>\n",
       "    <tr>\n",
       "      <th>1</th>\n",
       "      <td>Zafferano Poldina Pro Wireless Lamp</td>\n",
       "      <td>$169.00</td>\n",
       "      <td>css-abqf3x, css-1ljdx5i, css-1xx16ea</td>\n",
       "      <td>https://www.example.com/s/home-decor/home-decor-new-arrivals/zafferano-poldina-pro-wireless-lamp/12d?productId=11024636</td>\n",
       "    </tr>\n",
       "    <tr>\n",
       "      <th>2</th>\n",
       "      <td>The Container Store Rattan Bins with Lid</td>\n",
       "      <td>$109.99 – $179.99</td>\n",
       "      <td>NaN</td>\n",
       "      <td>https://www.example.com/s/home-decor/home-decor-new-arrivals/the-container-store-rattan-bins-with-lid/12d?productId=11023133</td>\n",
       "    </tr>\n",
       "    <tr>\n",
       "      <th>3</th>\n",
       "      <td>The Container Store Pacific Bin</td>\n",
       "      <td>$29.99 – $39.99</td>\n",
       "      <td>NaN</td>\n",
       "      <td>https://www.example.com/s/home-decor/home-decor-new-arrivals/the-container-store-pacific-bin/12d?productId=11023713</td>\n",
       "    </tr>\n",
       "    <tr>\n",
       "      <th>4</th>\n",
       "      <td>Yamazaki Tower Narrow Entryway Console Table</td>\n",
       "      <td>$79.00</td>\n",
       "      <td>css-1xx16ea, css-abqf3x</td>\n",
       "      <td>https://www.example.com/s/home-decor/home-decor-new-arrivals/yamazaki-tower-narrow-entryway-console-table/12d?productId=11024476</td>\n",
       "    </tr>\n",
       "  </tbody>\n",
       "</table>\n",
       "</div>"
      ],
      "text/plain": [
       "                                          Title              Price  \\\n",
       "0   The Container Store Samson Faux Leather Bin    $89.99 – $99.99   \n",
       "1           Zafferano Poldina Pro Wireless Lamp            $169.00   \n",
       "2      The Container Store Rattan Bins with Lid  $109.99 – $179.99   \n",
       "3               The Container Store Pacific Bin    $29.99 – $39.99   \n",
       "4  Yamazaki Tower Narrow Entryway Console Table             $79.00   \n",
       "\n",
       "                                 Colors  \\\n",
       "0              css-1jtiraa, css-1xx16ea   \n",
       "1  css-abqf3x, css-1ljdx5i, css-1xx16ea   \n",
       "2                                   NaN   \n",
       "3                                   NaN   \n",
       "4               css-1xx16ea, css-abqf3x   \n",
       "\n",
       "                                                                                                                               Link  \n",
       "0   https://www.example.com/s/home-decor/home-decor-new-arrivals/the-container-store-samson-faux-leather-bin/12d?productId=11023148  \n",
       "1           https://www.example.com/s/home-decor/home-decor-new-arrivals/zafferano-poldina-pro-wireless-lamp/12d?productId=11024636  \n",
       "2      https://www.example.com/s/home-decor/home-decor-new-arrivals/the-container-store-rattan-bins-with-lid/12d?productId=11023133  \n",
       "3               https://www.example.com/s/home-decor/home-decor-new-arrivals/the-container-store-pacific-bin/12d?productId=11023713  \n",
       "4  https://www.example.com/s/home-decor/home-decor-new-arrivals/yamazaki-tower-narrow-entryway-console-table/12d?productId=11024476  "
      ]
     },
     "execution_count": 7,
     "metadata": {},
     "output_type": "execute_result"
    }
   ],
   "source": [
    "df.head()"
   ]
  },
  {
   "cell_type": "markdown",
   "metadata": {},
   "source": [
    "# Droping Duplicate"
   ]
  },
  {
   "cell_type": "code",
   "execution_count": 8,
   "metadata": {},
   "outputs": [],
   "source": [
    "df.drop_duplicates(subset = \"Title\",inplace=True)"
   ]
  },
  {
   "cell_type": "code",
   "execution_count": 9,
   "metadata": {},
   "outputs": [
    {
     "name": "stdout",
     "output_type": "stream",
     "text": [
      "<class 'pandas.core.frame.DataFrame'>\n",
      "Index: 4252 entries, 0 to 8107\n",
      "Data columns (total 4 columns):\n",
      " #   Column  Non-Null Count  Dtype \n",
      "---  ------  --------------  ----- \n",
      " 0   Title   4252 non-null   object\n",
      " 1   Price   4252 non-null   object\n",
      " 2   Colors  975 non-null    object\n",
      " 3   Link    4252 non-null   object\n",
      "dtypes: object(4)\n",
      "memory usage: 166.1+ KB\n"
     ]
    }
   ],
   "source": [
    "df.info()"
   ]
  },
  {
   "cell_type": "markdown",
   "metadata": {},
   "source": [
    "# Drop Rows in Price Column where it says `See New Price In Cart`"
   ]
  },
  {
   "cell_type": "code",
   "execution_count": 10,
   "metadata": {},
   "outputs": [],
   "source": [
    "df = df[df['Price'] != \"See New Price In Cart\"]"
   ]
  },
  {
   "cell_type": "markdown",
   "metadata": {},
   "source": [
    "# Replacing `$` With Nothing in Price Column"
   ]
  },
  {
   "cell_type": "code",
   "execution_count": 11,
   "metadata": {},
   "outputs": [],
   "source": [
    "df['Price'] = df['Price'].str.replace('$', '')"
   ]
  },
  {
   "cell_type": "code",
   "execution_count": 12,
   "metadata": {},
   "outputs": [
    {
     "data": {
      "text/html": [
       "<div>\n",
       "<style scoped>\n",
       "    .dataframe tbody tr th:only-of-type {\n",
       "        vertical-align: middle;\n",
       "    }\n",
       "\n",
       "    .dataframe tbody tr th {\n",
       "        vertical-align: top;\n",
       "    }\n",
       "\n",
       "    .dataframe thead th {\n",
       "        text-align: right;\n",
       "    }\n",
       "</style>\n",
       "<table border=\"1\" class=\"dataframe\">\n",
       "  <thead>\n",
       "    <tr style=\"text-align: right;\">\n",
       "      <th></th>\n",
       "      <th>Title</th>\n",
       "      <th>Price</th>\n",
       "      <th>Colors</th>\n",
       "      <th>Link</th>\n",
       "    </tr>\n",
       "  </thead>\n",
       "  <tbody>\n",
       "    <tr>\n",
       "      <th>0</th>\n",
       "      <td>The Container Store Samson Faux Leather Bin</td>\n",
       "      <td>89.99 – 99.99</td>\n",
       "      <td>css-1jtiraa, css-1xx16ea</td>\n",
       "      <td>https://www.example.com/s/home-decor/home-decor-new-arrivals/the-container-store-samson-faux-leather-bin/12d?productId=11023148</td>\n",
       "    </tr>\n",
       "    <tr>\n",
       "      <th>1</th>\n",
       "      <td>Zafferano Poldina Pro Wireless Lamp</td>\n",
       "      <td>169.00</td>\n",
       "      <td>css-abqf3x, css-1ljdx5i, css-1xx16ea</td>\n",
       "      <td>https://www.example.com/s/home-decor/home-decor-new-arrivals/zafferano-poldina-pro-wireless-lamp/12d?productId=11024636</td>\n",
       "    </tr>\n",
       "    <tr>\n",
       "      <th>2</th>\n",
       "      <td>The Container Store Rattan Bins with Lid</td>\n",
       "      <td>109.99 – 179.99</td>\n",
       "      <td>NaN</td>\n",
       "      <td>https://www.example.com/s/home-decor/home-decor-new-arrivals/the-container-store-rattan-bins-with-lid/12d?productId=11023133</td>\n",
       "    </tr>\n",
       "    <tr>\n",
       "      <th>3</th>\n",
       "      <td>The Container Store Pacific Bin</td>\n",
       "      <td>29.99 – 39.99</td>\n",
       "      <td>NaN</td>\n",
       "      <td>https://www.example.com/s/home-decor/home-decor-new-arrivals/the-container-store-pacific-bin/12d?productId=11023713</td>\n",
       "    </tr>\n",
       "    <tr>\n",
       "      <th>4</th>\n",
       "      <td>Yamazaki Tower Narrow Entryway Console Table</td>\n",
       "      <td>79.00</td>\n",
       "      <td>css-1xx16ea, css-abqf3x</td>\n",
       "      <td>https://www.example.com/s/home-decor/home-decor-new-arrivals/yamazaki-tower-narrow-entryway-console-table/12d?productId=11024476</td>\n",
       "    </tr>\n",
       "  </tbody>\n",
       "</table>\n",
       "</div>"
      ],
      "text/plain": [
       "                                          Title            Price  \\\n",
       "0   The Container Store Samson Faux Leather Bin    89.99 – 99.99   \n",
       "1           Zafferano Poldina Pro Wireless Lamp           169.00   \n",
       "2      The Container Store Rattan Bins with Lid  109.99 – 179.99   \n",
       "3               The Container Store Pacific Bin    29.99 – 39.99   \n",
       "4  Yamazaki Tower Narrow Entryway Console Table            79.00   \n",
       "\n",
       "                                 Colors  \\\n",
       "0              css-1jtiraa, css-1xx16ea   \n",
       "1  css-abqf3x, css-1ljdx5i, css-1xx16ea   \n",
       "2                                   NaN   \n",
       "3                                   NaN   \n",
       "4               css-1xx16ea, css-abqf3x   \n",
       "\n",
       "                                                                                                                               Link  \n",
       "0   https://www.example.com/s/home-decor/home-decor-new-arrivals/the-container-store-samson-faux-leather-bin/12d?productId=11023148  \n",
       "1           https://www.example.com/s/home-decor/home-decor-new-arrivals/zafferano-poldina-pro-wireless-lamp/12d?productId=11024636  \n",
       "2      https://www.example.com/s/home-decor/home-decor-new-arrivals/the-container-store-rattan-bins-with-lid/12d?productId=11023133  \n",
       "3               https://www.example.com/s/home-decor/home-decor-new-arrivals/the-container-store-pacific-bin/12d?productId=11023713  \n",
       "4  https://www.example.com/s/home-decor/home-decor-new-arrivals/yamazaki-tower-narrow-entryway-console-table/12d?productId=11024476  "
      ]
     },
     "execution_count": 12,
     "metadata": {},
     "output_type": "execute_result"
    }
   ],
   "source": [
    "df.head()"
   ]
  },
  {
   "cell_type": "markdown",
   "metadata": {},
   "source": [
    "# Calculating Average of the Prices Where `-` is present"
   ]
  },
  {
   "cell_type": "code",
   "execution_count": 13,
   "metadata": {},
   "outputs": [
    {
     "data": {
      "text/plain": [
       "'89.99 – 99.99'"
      ]
     },
     "execution_count": 13,
     "metadata": {},
     "output_type": "execute_result"
    }
   ],
   "source": [
    "df['Price'][0]"
   ]
  },
  {
   "cell_type": "code",
   "execution_count": 14,
   "metadata": {},
   "outputs": [],
   "source": [
    "def clean_and_average_price(price):\n",
    "    # Regular expression pattern to capture numbers before and after the hyphen\n",
    "    range_pattern = r'(\\d+\\.\\d+)\\s*–\\s*(\\d+\\.\\d+)'\n",
    "    single_price_pattern = r'(\\d+\\.\\d+|\\d+)'\n",
    "\n",
    "    # Check if the price is in range format\n",
    "    match_range = re.search(range_pattern, price)\n",
    "    if match_range:\n",
    "        before_hyphen = float(match_range.group(1))\n",
    "        after_hyphen = float(match_range.group(2))\n",
    "        average = (before_hyphen + after_hyphen) / 2\n",
    "        return average\n",
    "    \n",
    "    # Check if the price contains single number with text\n",
    "    match_single = re.search(single_price_pattern, price)\n",
    "    if match_single:\n",
    "        return float(match_single.group(1))\n",
    "    \n",
    "    return (price)  # Convert to float if it's a single number without text\n",
    "\n",
    "# Apply the function to the 'Price' column\n",
    "df['Price'] = df['Price'].apply(clean_and_average_price)"
   ]
  },
  {
   "cell_type": "code",
   "execution_count": 16,
   "metadata": {},
   "outputs": [],
   "source": [
    "df['Price']=df['Price'].astype('float')"
   ]
  },
  {
   "cell_type": "code",
   "execution_count": 17,
   "metadata": {},
   "outputs": [
    {
     "data": {
      "text/html": [
       "<div>\n",
       "<style scoped>\n",
       "    .dataframe tbody tr th:only-of-type {\n",
       "        vertical-align: middle;\n",
       "    }\n",
       "\n",
       "    .dataframe tbody tr th {\n",
       "        vertical-align: top;\n",
       "    }\n",
       "\n",
       "    .dataframe thead th {\n",
       "        text-align: right;\n",
       "    }\n",
       "</style>\n",
       "<table border=\"1\" class=\"dataframe\">\n",
       "  <thead>\n",
       "    <tr style=\"text-align: right;\">\n",
       "      <th></th>\n",
       "      <th>Title</th>\n",
       "      <th>Price</th>\n",
       "      <th>Colors</th>\n",
       "      <th>Link</th>\n",
       "    </tr>\n",
       "  </thead>\n",
       "  <tbody>\n",
       "    <tr>\n",
       "      <th>0</th>\n",
       "      <td>The Container Store Samson Faux Leather Bin</td>\n",
       "      <td>94.99</td>\n",
       "      <td>css-1jtiraa, css-1xx16ea</td>\n",
       "      <td>https://www.example.com/s/home-decor/home-decor-new-arrivals/the-container-store-samson-faux-leather-bin/12d?productId=11023148</td>\n",
       "    </tr>\n",
       "    <tr>\n",
       "      <th>1</th>\n",
       "      <td>Zafferano Poldina Pro Wireless Lamp</td>\n",
       "      <td>169.00</td>\n",
       "      <td>css-abqf3x, css-1ljdx5i, css-1xx16ea</td>\n",
       "      <td>https://www.example.com/s/home-decor/home-decor-new-arrivals/zafferano-poldina-pro-wireless-lamp/12d?productId=11024636</td>\n",
       "    </tr>\n",
       "    <tr>\n",
       "      <th>2</th>\n",
       "      <td>The Container Store Rattan Bins with Lid</td>\n",
       "      <td>144.99</td>\n",
       "      <td>NaN</td>\n",
       "      <td>https://www.example.com/s/home-decor/home-decor-new-arrivals/the-container-store-rattan-bins-with-lid/12d?productId=11023133</td>\n",
       "    </tr>\n",
       "    <tr>\n",
       "      <th>3</th>\n",
       "      <td>The Container Store Pacific Bin</td>\n",
       "      <td>34.99</td>\n",
       "      <td>NaN</td>\n",
       "      <td>https://www.example.com/s/home-decor/home-decor-new-arrivals/the-container-store-pacific-bin/12d?productId=11023713</td>\n",
       "    </tr>\n",
       "    <tr>\n",
       "      <th>4</th>\n",
       "      <td>Yamazaki Tower Narrow Entryway Console Table</td>\n",
       "      <td>79.00</td>\n",
       "      <td>css-1xx16ea, css-abqf3x</td>\n",
       "      <td>https://www.example.com/s/home-decor/home-decor-new-arrivals/yamazaki-tower-narrow-entryway-console-table/12d?productId=11024476</td>\n",
       "    </tr>\n",
       "  </tbody>\n",
       "</table>\n",
       "</div>"
      ],
      "text/plain": [
       "                                          Title   Price  \\\n",
       "0   The Container Store Samson Faux Leather Bin   94.99   \n",
       "1           Zafferano Poldina Pro Wireless Lamp  169.00   \n",
       "2      The Container Store Rattan Bins with Lid  144.99   \n",
       "3               The Container Store Pacific Bin   34.99   \n",
       "4  Yamazaki Tower Narrow Entryway Console Table   79.00   \n",
       "\n",
       "                                 Colors  \\\n",
       "0              css-1jtiraa, css-1xx16ea   \n",
       "1  css-abqf3x, css-1ljdx5i, css-1xx16ea   \n",
       "2                                   NaN   \n",
       "3                                   NaN   \n",
       "4               css-1xx16ea, css-abqf3x   \n",
       "\n",
       "                                                                                                                               Link  \n",
       "0   https://www.example.com/s/home-decor/home-decor-new-arrivals/the-container-store-samson-faux-leather-bin/12d?productId=11023148  \n",
       "1           https://www.example.com/s/home-decor/home-decor-new-arrivals/zafferano-poldina-pro-wireless-lamp/12d?productId=11024636  \n",
       "2      https://www.example.com/s/home-decor/home-decor-new-arrivals/the-container-store-rattan-bins-with-lid/12d?productId=11023133  \n",
       "3               https://www.example.com/s/home-decor/home-decor-new-arrivals/the-container-store-pacific-bin/12d?productId=11023713  \n",
       "4  https://www.example.com/s/home-decor/home-decor-new-arrivals/yamazaki-tower-narrow-entryway-console-table/12d?productId=11024476  "
      ]
     },
     "execution_count": 17,
     "metadata": {},
     "output_type": "execute_result"
    }
   ],
   "source": [
    "df.head()"
   ]
  },
  {
   "cell_type": "markdown",
   "metadata": {},
   "source": [
    "# Making the Links Right"
   ]
  },
  {
   "cell_type": "code",
   "execution_count": 39,
   "metadata": {},
   "outputs": [],
   "source": [
    "df['Link']=df['Link'].str.replace('https://www.example.com/','https://www.containerstore.com/')"
   ]
  },
  {
   "cell_type": "markdown",
   "metadata": {},
   "source": [
    "# Replacing Commas in Colors Column"
   ]
  },
  {
   "cell_type": "code",
   "execution_count": 18,
   "metadata": {},
   "outputs": [],
   "source": [
    "df['Colors']=df['Colors'].str.replace(',','')"
   ]
  },
  {
   "cell_type": "code",
   "execution_count": 19,
   "metadata": {},
   "outputs": [
    {
     "data": {
      "text/html": [
       "<div>\n",
       "<style scoped>\n",
       "    .dataframe tbody tr th:only-of-type {\n",
       "        vertical-align: middle;\n",
       "    }\n",
       "\n",
       "    .dataframe tbody tr th {\n",
       "        vertical-align: top;\n",
       "    }\n",
       "\n",
       "    .dataframe thead th {\n",
       "        text-align: right;\n",
       "    }\n",
       "</style>\n",
       "<table border=\"1\" class=\"dataframe\">\n",
       "  <thead>\n",
       "    <tr style=\"text-align: right;\">\n",
       "      <th></th>\n",
       "      <th>Title</th>\n",
       "      <th>Price</th>\n",
       "      <th>Colors</th>\n",
       "      <th>Link</th>\n",
       "    </tr>\n",
       "  </thead>\n",
       "  <tbody>\n",
       "    <tr>\n",
       "      <th>0</th>\n",
       "      <td>The Container Store Samson Faux Leather Bin</td>\n",
       "      <td>94.99</td>\n",
       "      <td>css-1jtiraa css-1xx16ea</td>\n",
       "      <td>https://www.example.com/s/home-decor/home-decor-new-arrivals/the-container-store-samson-faux-leather-bin/12d?productId=11023148</td>\n",
       "    </tr>\n",
       "    <tr>\n",
       "      <th>1</th>\n",
       "      <td>Zafferano Poldina Pro Wireless Lamp</td>\n",
       "      <td>169.00</td>\n",
       "      <td>css-abqf3x css-1ljdx5i css-1xx16ea</td>\n",
       "      <td>https://www.example.com/s/home-decor/home-decor-new-arrivals/zafferano-poldina-pro-wireless-lamp/12d?productId=11024636</td>\n",
       "    </tr>\n",
       "    <tr>\n",
       "      <th>2</th>\n",
       "      <td>The Container Store Rattan Bins with Lid</td>\n",
       "      <td>144.99</td>\n",
       "      <td>NaN</td>\n",
       "      <td>https://www.example.com/s/home-decor/home-decor-new-arrivals/the-container-store-rattan-bins-with-lid/12d?productId=11023133</td>\n",
       "    </tr>\n",
       "    <tr>\n",
       "      <th>3</th>\n",
       "      <td>The Container Store Pacific Bin</td>\n",
       "      <td>34.99</td>\n",
       "      <td>NaN</td>\n",
       "      <td>https://www.example.com/s/home-decor/home-decor-new-arrivals/the-container-store-pacific-bin/12d?productId=11023713</td>\n",
       "    </tr>\n",
       "    <tr>\n",
       "      <th>4</th>\n",
       "      <td>Yamazaki Tower Narrow Entryway Console Table</td>\n",
       "      <td>79.00</td>\n",
       "      <td>css-1xx16ea css-abqf3x</td>\n",
       "      <td>https://www.example.com/s/home-decor/home-decor-new-arrivals/yamazaki-tower-narrow-entryway-console-table/12d?productId=11024476</td>\n",
       "    </tr>\n",
       "  </tbody>\n",
       "</table>\n",
       "</div>"
      ],
      "text/plain": [
       "                                          Title   Price  \\\n",
       "0   The Container Store Samson Faux Leather Bin   94.99   \n",
       "1           Zafferano Poldina Pro Wireless Lamp  169.00   \n",
       "2      The Container Store Rattan Bins with Lid  144.99   \n",
       "3               The Container Store Pacific Bin   34.99   \n",
       "4  Yamazaki Tower Narrow Entryway Console Table   79.00   \n",
       "\n",
       "                               Colors  \\\n",
       "0             css-1jtiraa css-1xx16ea   \n",
       "1  css-abqf3x css-1ljdx5i css-1xx16ea   \n",
       "2                                 NaN   \n",
       "3                                 NaN   \n",
       "4              css-1xx16ea css-abqf3x   \n",
       "\n",
       "                                                                                                                               Link  \n",
       "0   https://www.example.com/s/home-decor/home-decor-new-arrivals/the-container-store-samson-faux-leather-bin/12d?productId=11023148  \n",
       "1           https://www.example.com/s/home-decor/home-decor-new-arrivals/zafferano-poldina-pro-wireless-lamp/12d?productId=11024636  \n",
       "2      https://www.example.com/s/home-decor/home-decor-new-arrivals/the-container-store-rattan-bins-with-lid/12d?productId=11023133  \n",
       "3               https://www.example.com/s/home-decor/home-decor-new-arrivals/the-container-store-pacific-bin/12d?productId=11023713  \n",
       "4  https://www.example.com/s/home-decor/home-decor-new-arrivals/yamazaki-tower-narrow-entryway-console-table/12d?productId=11024476  "
      ]
     },
     "execution_count": 19,
     "metadata": {},
     "output_type": "execute_result"
    }
   ],
   "source": [
    "df.head()"
   ]
  },
  {
   "cell_type": "code",
   "execution_count": 20,
   "metadata": {},
   "outputs": [],
   "source": [
    "scaler = StandardScaler()"
   ]
  },
  {
   "cell_type": "code",
   "execution_count": 21,
   "metadata": {},
   "outputs": [],
   "source": [
    "df['Price'] = scaler.fit_transform(df[['Price']])"
   ]
  },
  {
   "cell_type": "code",
   "execution_count": 22,
   "metadata": {},
   "outputs": [],
   "source": [
    "df['Colors'] = pd.factorize(df['Colors'])[0]"
   ]
  },
  {
   "cell_type": "code",
   "execution_count": null,
   "metadata": {},
   "outputs": [],
   "source": []
  },
  {
   "cell_type": "code",
   "execution_count": 23,
   "metadata": {},
   "outputs": [],
   "source": [
    "# Creating feature vectors\n",
    "features = df[['Colors', 'Price']].values\n",
    "\n",
    "# Compute cosine similarity matrix\n",
    "similarity_matrix = cosine_similarity(features, features)"
   ]
  },
  {
   "cell_type": "code",
   "execution_count": 41,
   "metadata": {},
   "outputs": [
    {
     "name": "stdout",
     "output_type": "stream",
     "text": [
      "Because you viewed YouCopia ReStickable 3D Fridge Labels Pack of 10, you may also like: Command Large Double Hook, 6-Pocket Mesh Shower Caddy, Chrome Metal Purse Hangers Pkg/6, The Container Store All-Purpose Storage Bag, Large Tall Cabinet Shelf, White Long Grid Stackable Shelf, Erasable Food Storage Labels, Built NY Stainless Steel Utensil Set, Progressive Magnetic Kitchen Scissors, RSVP Silicone Straws with Cleaner Pkg/6\n"
     ]
    }
   ],
   "source": [
    "def recommend_items(item_name, similarity_matrix, df, top_n=10):\n",
    "    if item_name not in df['Title'].values:\n",
    "        return f\"Item '{item_name}' not found in the dataset.\"\n",
    "\n",
    "    item_index = df.index[df['Title'] == item_name].tolist()[0]\n",
    "\n",
    "    similarity_scores = list(enumerate(similarity_matrix[item_index]))\n",
    "\n",
    "    similarity_scores = sorted(similarity_scores, key=lambda x: x[1], reverse=True)\n",
    "\n",
    "    top_similar_items = similarity_scores[1:top_n+1]\n",
    "\n",
    "    recommended_items = [df.iloc[item[0]]['Title'] for item in top_similar_items]\n",
    "\n",
    "    return recommended_items\n",
    "\n",
    "# Example usage\n",
    "item_name = 'YouCopia ReStickable 3D Fridge Labels Pack of 10'\n",
    "recommendations = recommend_items(item_name, similarity_matrix, df)\n",
    "print(f\"Because you viewed {item_name}, you may also like: {', '.join(recommendations)}\")\n"
   ]
  },
  {
   "cell_type": "code",
   "execution_count": 42,
   "metadata": {},
   "outputs": [
    {
     "data": {
      "text/plain": [
       "['Command Large Double Hook',\n",
       " '6-Pocket Mesh Shower Caddy',\n",
       " 'Chrome Metal Purse Hangers Pkg/6',\n",
       " 'The Container Store All-Purpose Storage Bag',\n",
       " 'Large Tall Cabinet Shelf',\n",
       " 'White Long Grid Stackable Shelf',\n",
       " 'Erasable Food Storage Labels',\n",
       " 'Built NY Stainless Steel Utensil Set',\n",
       " 'Progressive Magnetic Kitchen Scissors',\n",
       " 'RSVP Silicone Straws with Cleaner Pkg/6']"
      ]
     },
     "execution_count": 42,
     "metadata": {},
     "output_type": "execute_result"
    }
   ],
   "source": [
    "recommendations"
   ]
  },
  {
   "cell_type": "code",
   "execution_count": 43,
   "metadata": {},
   "outputs": [
    {
     "data": {
      "text/html": [
       "<div>\n",
       "<style scoped>\n",
       "    .dataframe tbody tr th:only-of-type {\n",
       "        vertical-align: middle;\n",
       "    }\n",
       "\n",
       "    .dataframe tbody tr th {\n",
       "        vertical-align: top;\n",
       "    }\n",
       "\n",
       "    .dataframe thead th {\n",
       "        text-align: right;\n",
       "    }\n",
       "</style>\n",
       "<table border=\"1\" class=\"dataframe\">\n",
       "  <thead>\n",
       "    <tr style=\"text-align: right;\">\n",
       "      <th></th>\n",
       "      <th>Title</th>\n",
       "      <th>Price</th>\n",
       "      <th>Colors</th>\n",
       "      <th>Link</th>\n",
       "    </tr>\n",
       "  </thead>\n",
       "  <tbody>\n",
       "    <tr>\n",
       "      <th>1441</th>\n",
       "      <td>YouCopia ReStickable 3D Fridge Labels Pack of 10</td>\n",
       "      <td>-0.433485</td>\n",
       "      <td>-1</td>\n",
       "      <td>https://www.containerstore.com/s/elfa/complete-your-elfa-space/youcopia-restickable-3d-fridge-labels-pkg~10/12d?productId=11019795</td>\n",
       "    </tr>\n",
       "  </tbody>\n",
       "</table>\n",
       "</div>"
      ],
      "text/plain": [
       "                                                 Title     Price  Colors  \\\n",
       "1441  YouCopia ReStickable 3D Fridge Labels Pack of 10 -0.433485      -1   \n",
       "\n",
       "                                                                                                                                    Link  \n",
       "1441  https://www.containerstore.com/s/elfa/complete-your-elfa-space/youcopia-restickable-3d-fridge-labels-pkg~10/12d?productId=11019795  "
      ]
     },
     "execution_count": 43,
     "metadata": {},
     "output_type": "execute_result"
    }
   ],
   "source": [
    "df[df['Title']==item_name]"
   ]
  },
  {
   "cell_type": "code",
   "execution_count": 44,
   "metadata": {},
   "outputs": [
    {
     "data": {
      "text/plain": [
       "1441    https://www.containerstore.com/s/elfa/complete-your-elfa-space/youcopia-restickable-3d-fridge-labels-pkg~10/12d?productId=11019795\n",
       "Name: Link, dtype: object"
      ]
     },
     "execution_count": 44,
     "metadata": {},
     "output_type": "execute_result"
    }
   ],
   "source": [
    "df[df['Title']==item_name]['Link']"
   ]
  },
  {
   "cell_type": "code",
   "execution_count": 45,
   "metadata": {},
   "outputs": [
    {
     "data": {
      "text/plain": [
       "[215    https://www.containerstore.com/s/office/new-office-arrivals/command-large-double-hook/12d?productId=11024883\n",
       " Name: Link, dtype: object,\n",
       " 238    https://www.containerstore.com/s/bath/bathroom-new-arrivals/6_pocket-mesh-shower-caddy/12d?productId=11024855\n",
       " Name: Link, dtype: object,\n",
       " 1281    https://www.containerstore.com/s/elfa/complete-your-elfa-space/chrome-metal-purse-hangers/12d?productId=10037214\n",
       " Name: Link, dtype: object,\n",
       " 1282    https://www.containerstore.com/s/elfa/complete-your-elfa-space/the-container-store-all_purpose-storage-bag/12d?productId=11023043\n",
       " Name: Link, dtype: object,\n",
       " 1341    https://www.containerstore.com/s/elfa/complete-your-elfa-space/large-tall-cabinet-shelf/12d?productId=10035747\n",
       " Name: Link, dtype: object,\n",
       " 1367    https://www.containerstore.com/s/elfa/complete-your-elfa-space/white-long-grid-stackable-shelf/12d?productId=11002124\n",
       " Name: Link, dtype: object,\n",
       " 1446    https://www.containerstore.com/s/elfa/complete-your-elfa-space/erasable-food-storage-labels/12d?productId=10009870\n",
       " Name: Link, dtype: object,\n",
       " 1740    https://www.containerstore.com/s/the-college-shop/kitchen-essentials/built-ny-stainless-steel-utensil-set/12d?productId=11009025\n",
       " Name: Link, dtype: object,\n",
       " 1780    https://www.containerstore.com/s/the-college-shop/kitchen-essentials/progressive-magnetic-kitchen-scissors/12d?productId=11015213\n",
       " Name: Link, dtype: object,\n",
       " 1807    https://www.containerstore.com/s/the-college-shop/kitchen-essentials/rsvp-silicone-straws-with-cleaner/12d?productId=11010091\n",
       " Name: Link, dtype: object]"
      ]
     },
     "execution_count": 45,
     "metadata": {},
     "output_type": "execute_result"
    }
   ],
   "source": [
    "[df[df['Title']==rec]['Link'] for rec in recommendations]"
   ]
  },
  {
   "cell_type": "code",
   "execution_count": null,
   "metadata": {},
   "outputs": [],
   "source": []
  },
  {
   "cell_type": "code",
   "execution_count": null,
   "metadata": {},
   "outputs": [],
   "source": []
  },
  {
   "cell_type": "code",
   "execution_count": null,
   "metadata": {},
   "outputs": [],
   "source": []
  },
  {
   "cell_type": "code",
   "execution_count": null,
   "metadata": {},
   "outputs": [],
   "source": []
  },
  {
   "cell_type": "code",
   "execution_count": null,
   "metadata": {},
   "outputs": [],
   "source": []
  },
  {
   "cell_type": "code",
   "execution_count": null,
   "metadata": {},
   "outputs": [],
   "source": [
    "import pandas as pd\n",
    "from sklearn.metrics.pairwise import cosine_similarity\n",
    "from sklearn.preprocessing import StandardScaler\n",
    "\n",
    "# Example dataset (replace with your actual dataset loading)\n",
    "data = {\n",
    "    'furniture_name': ['Sofa', 'Table', 'Chair', 'Cushion', 'Bed', 'Desk'],\n",
    "    'color': ['Red', 'Brown', 'White', 'Blue', 'Black', 'Brown'],\n",
    "    'price': [500, 300, 150, 50, 800, 400]\n",
    "}\n",
    "\n",
    "df = pd.DataFrame(data)\n",
    "\n",
    "# Encoding categorical variables (color)\n",
    "df['color_encoded'] = pd.factorize(df['color'])[0]\n",
    "\n",
    "# Scaling numerical features (price)\n",
    "scaler = StandardScaler()\n",
    "df['price_scaled'] = scaler.fit_transform(df[['price']])\n",
    "\n",
    "# Creating feature vectors\n",
    "features = df[['color_encoded', 'price_scaled']].values\n",
    "\n",
    "# Compute cosine similarity matrix\n",
    "similarity_matrix = cosine_similarity(features, features)\n",
    "\n",
    "# Function to recommend items\n",
    "def recommend_items(item_name, similarity_matrix, df, top_n=3):\n",
    "    item_index = df.index[df['furniture_name'] == item_name][0]\n",
    "    similarity_scores = list(enumerate(similarity_matrix[item_index]))\n",
    "    similarity_scores = sorted(similarity_scores, key=lambda x: x[1], reverse=True)\n",
    "    top_similar_items = similarity_scores[1:top_n+1]  # Exclude itself, get top N similar items\n",
    "    recommended_items = [df.iloc[item[0]]['furniture_name'] for item in top_similar_items]\n",
    "    return recommended_items\n",
    "\n",
    "# Example usage\n",
    "item_name = 'Sofa'\n",
    "recommendations = recommend_items(item_name, similarity_matrix, df)\n",
    "print(f\"Because you viewed {item_name}, you may also like: {', '.join(recommendations)}\")\n"
   ]
  },
  {
   "cell_type": "code",
   "execution_count": null,
   "metadata": {},
   "outputs": [],
   "source": []
  }
 ],
 "metadata": {
  "kernelspec": {
   "display_name": ".venv",
   "language": "python",
   "name": "python3"
  },
  "language_info": {
   "codemirror_mode": {
    "name": "ipython",
    "version": 3
   },
   "file_extension": ".py",
   "mimetype": "text/x-python",
   "name": "python",
   "nbconvert_exporter": "python",
   "pygments_lexer": "ipython3",
   "version": "3.9.13"
  }
 },
 "nbformat": 4,
 "nbformat_minor": 2
}
