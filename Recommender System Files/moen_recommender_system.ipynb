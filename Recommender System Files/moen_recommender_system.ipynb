{
 "cells": [
  {
   "cell_type": "markdown",
   "metadata": {},
   "source": [
    "# Import Libraries"
   ]
  },
  {
   "cell_type": "code",
   "execution_count": 40,
   "metadata": {},
   "outputs": [],
   "source": [
    "import pandas as pd \n",
    "import numpy as np\n",
    "import re\n",
    "from sklearn.metrics.pairwise import cosine_similarity\n",
    "from sklearn.preprocessing import StandardScaler\n",
    "pd.set_option('display.max_colwidth', None) "
   ]
  },
  {
   "cell_type": "markdown",
   "metadata": {},
   "source": [
    "# Loading Dataframe"
   ]
  },
  {
   "cell_type": "code",
   "execution_count": 41,
   "metadata": {},
   "outputs": [],
   "source": [
    "df=pd.read_csv('../data/moen.csv')"
   ]
  },
  {
   "cell_type": "code",
   "execution_count": 42,
   "metadata": {},
   "outputs": [
    {
     "data": {
      "text/html": [
       "<div>\n",
       "<style scoped>\n",
       "    .dataframe tbody tr th:only-of-type {\n",
       "        vertical-align: middle;\n",
       "    }\n",
       "\n",
       "    .dataframe tbody tr th {\n",
       "        vertical-align: top;\n",
       "    }\n",
       "\n",
       "    .dataframe thead th {\n",
       "        text-align: right;\n",
       "    }\n",
       "</style>\n",
       "<table border=\"1\" class=\"dataframe\">\n",
       "  <thead>\n",
       "    <tr style=\"text-align: right;\">\n",
       "      <th></th>\n",
       "      <th>title</th>\n",
       "      <th>price</th>\n",
       "      <th>link</th>\n",
       "      <th>image_path</th>\n",
       "    </tr>\n",
       "  </thead>\n",
       "  <tbody>\n",
       "    <tr>\n",
       "      <th>0</th>\n",
       "      <td>IdoraChrome Posi-Temp® Tub/Shower</td>\n",
       "      <td>Web Price:  $198.99</td>\n",
       "      <td>https://www.moen.com/products/Idora/Idora-Chrome-Posi-Temp-reg-Tub-Shower/82115</td>\n",
       "      <td>images/82115.tif.jpg</td>\n",
       "    </tr>\n",
       "    <tr>\n",
       "      <th>1</th>\n",
       "      <td>EssieTub Shower Chrome</td>\n",
       "      <td>Web Price:  $139.00</td>\n",
       "      <td>https://www.moen.com/products/Essie/Essie%E2%84%A2-Tub-Shower-Chrome/82330</td>\n",
       "      <td>images/82330.tif.jpg</td>\n",
       "    </tr>\n",
       "    <tr>\n",
       "      <th>2</th>\n",
       "      <td>MEENAChrome Posi-Temp® tub/shower</td>\n",
       "      <td>Web Price:  $149.00</td>\n",
       "      <td>https://www.moen.com/products/MEENA/MEENA-Chrome-Posi-Temp-reg-tub-shower/82618</td>\n",
       "      <td>images/82618.tif.jpg</td>\n",
       "    </tr>\n",
       "    <tr>\n",
       "      <th>3</th>\n",
       "      <td>ConwayChrome Posi-Temp® Tub/Shower</td>\n",
       "      <td>Web Price:  $129.00</td>\n",
       "      <td>https://www.moen.com/products/Conway/Conway-Chrome-Posi-Temp-reg-Tub-Shower/82922</td>\n",
       "      <td>images/82922.tif.jpg</td>\n",
       "    </tr>\n",
       "    <tr>\n",
       "      <th>4</th>\n",
       "      <td>RonanMatte black Posi-Temp® tub/shower</td>\n",
       "      <td>Web Price:  $229.00</td>\n",
       "      <td>https://www.moen.com/products/Ronan/Ronan-Matte-black-Posi-Temp-reg-tub-shower/82021BL</td>\n",
       "      <td>images/82021BL.tif.jpg</td>\n",
       "    </tr>\n",
       "  </tbody>\n",
       "</table>\n",
       "</div>"
      ],
      "text/plain": [
       "                                    title                price  \\\n",
       "0       IdoraChrome Posi-Temp® Tub/Shower  Web Price:  $198.99   \n",
       "1                  EssieTub Shower Chrome  Web Price:  $139.00   \n",
       "2       MEENAChrome Posi-Temp® tub/shower  Web Price:  $149.00   \n",
       "3      ConwayChrome Posi-Temp® Tub/Shower  Web Price:  $129.00   \n",
       "4  RonanMatte black Posi-Temp® tub/shower  Web Price:  $229.00   \n",
       "\n",
       "                                                                                     link  \\\n",
       "0         https://www.moen.com/products/Idora/Idora-Chrome-Posi-Temp-reg-Tub-Shower/82115   \n",
       "1              https://www.moen.com/products/Essie/Essie%E2%84%A2-Tub-Shower-Chrome/82330   \n",
       "2         https://www.moen.com/products/MEENA/MEENA-Chrome-Posi-Temp-reg-tub-shower/82618   \n",
       "3       https://www.moen.com/products/Conway/Conway-Chrome-Posi-Temp-reg-Tub-Shower/82922   \n",
       "4  https://www.moen.com/products/Ronan/Ronan-Matte-black-Posi-Temp-reg-tub-shower/82021BL   \n",
       "\n",
       "               image_path  \n",
       "0    images/82115.tif.jpg  \n",
       "1    images/82330.tif.jpg  \n",
       "2    images/82618.tif.jpg  \n",
       "3    images/82922.tif.jpg  \n",
       "4  images/82021BL.tif.jpg  "
      ]
     },
     "execution_count": 42,
     "metadata": {},
     "output_type": "execute_result"
    }
   ],
   "source": [
    "df.head()"
   ]
  },
  {
   "cell_type": "code",
   "execution_count": 43,
   "metadata": {},
   "outputs": [],
   "source": [
    "df.rename(columns={'title':'Title', 'price':'Price', 'link':'Link', 'image_path':'Image Path'},inplace=True)"
   ]
  },
  {
   "cell_type": "code",
   "execution_count": 44,
   "metadata": {},
   "outputs": [
    {
     "data": {
      "text/html": [
       "<div>\n",
       "<style scoped>\n",
       "    .dataframe tbody tr th:only-of-type {\n",
       "        vertical-align: middle;\n",
       "    }\n",
       "\n",
       "    .dataframe tbody tr th {\n",
       "        vertical-align: top;\n",
       "    }\n",
       "\n",
       "    .dataframe thead th {\n",
       "        text-align: right;\n",
       "    }\n",
       "</style>\n",
       "<table border=\"1\" class=\"dataframe\">\n",
       "  <thead>\n",
       "    <tr style=\"text-align: right;\">\n",
       "      <th></th>\n",
       "      <th>Title</th>\n",
       "      <th>Price</th>\n",
       "      <th>Link</th>\n",
       "      <th>Image Path</th>\n",
       "    </tr>\n",
       "  </thead>\n",
       "  <tbody>\n",
       "    <tr>\n",
       "      <th>0</th>\n",
       "      <td>IdoraChrome Posi-Temp® Tub/Shower</td>\n",
       "      <td>Web Price:  $198.99</td>\n",
       "      <td>https://www.moen.com/products/Idora/Idora-Chrome-Posi-Temp-reg-Tub-Shower/82115</td>\n",
       "      <td>images/82115.tif.jpg</td>\n",
       "    </tr>\n",
       "    <tr>\n",
       "      <th>1</th>\n",
       "      <td>EssieTub Shower Chrome</td>\n",
       "      <td>Web Price:  $139.00</td>\n",
       "      <td>https://www.moen.com/products/Essie/Essie%E2%84%A2-Tub-Shower-Chrome/82330</td>\n",
       "      <td>images/82330.tif.jpg</td>\n",
       "    </tr>\n",
       "    <tr>\n",
       "      <th>2</th>\n",
       "      <td>MEENAChrome Posi-Temp® tub/shower</td>\n",
       "      <td>Web Price:  $149.00</td>\n",
       "      <td>https://www.moen.com/products/MEENA/MEENA-Chrome-Posi-Temp-reg-tub-shower/82618</td>\n",
       "      <td>images/82618.tif.jpg</td>\n",
       "    </tr>\n",
       "    <tr>\n",
       "      <th>3</th>\n",
       "      <td>ConwayChrome Posi-Temp® Tub/Shower</td>\n",
       "      <td>Web Price:  $129.00</td>\n",
       "      <td>https://www.moen.com/products/Conway/Conway-Chrome-Posi-Temp-reg-Tub-Shower/82922</td>\n",
       "      <td>images/82922.tif.jpg</td>\n",
       "    </tr>\n",
       "    <tr>\n",
       "      <th>4</th>\n",
       "      <td>RonanMatte black Posi-Temp® tub/shower</td>\n",
       "      <td>Web Price:  $229.00</td>\n",
       "      <td>https://www.moen.com/products/Ronan/Ronan-Matte-black-Posi-Temp-reg-tub-shower/82021BL</td>\n",
       "      <td>images/82021BL.tif.jpg</td>\n",
       "    </tr>\n",
       "  </tbody>\n",
       "</table>\n",
       "</div>"
      ],
      "text/plain": [
       "                                    Title                Price  \\\n",
       "0       IdoraChrome Posi-Temp® Tub/Shower  Web Price:  $198.99   \n",
       "1                  EssieTub Shower Chrome  Web Price:  $139.00   \n",
       "2       MEENAChrome Posi-Temp® tub/shower  Web Price:  $149.00   \n",
       "3      ConwayChrome Posi-Temp® Tub/Shower  Web Price:  $129.00   \n",
       "4  RonanMatte black Posi-Temp® tub/shower  Web Price:  $229.00   \n",
       "\n",
       "                                                                                     Link  \\\n",
       "0         https://www.moen.com/products/Idora/Idora-Chrome-Posi-Temp-reg-Tub-Shower/82115   \n",
       "1              https://www.moen.com/products/Essie/Essie%E2%84%A2-Tub-Shower-Chrome/82330   \n",
       "2         https://www.moen.com/products/MEENA/MEENA-Chrome-Posi-Temp-reg-tub-shower/82618   \n",
       "3       https://www.moen.com/products/Conway/Conway-Chrome-Posi-Temp-reg-Tub-Shower/82922   \n",
       "4  https://www.moen.com/products/Ronan/Ronan-Matte-black-Posi-Temp-reg-tub-shower/82021BL   \n",
       "\n",
       "               Image Path  \n",
       "0    images/82115.tif.jpg  \n",
       "1    images/82330.tif.jpg  \n",
       "2    images/82618.tif.jpg  \n",
       "3    images/82922.tif.jpg  \n",
       "4  images/82021BL.tif.jpg  "
      ]
     },
     "execution_count": 44,
     "metadata": {},
     "output_type": "execute_result"
    }
   ],
   "source": [
    "df.head()"
   ]
  },
  {
   "cell_type": "markdown",
   "metadata": {},
   "source": [
    "# Droping Duplicate"
   ]
  },
  {
   "cell_type": "code",
   "execution_count": 45,
   "metadata": {},
   "outputs": [
    {
     "data": {
      "text/plain": [
       "(4120, 4)"
      ]
     },
     "execution_count": 45,
     "metadata": {},
     "output_type": "execute_result"
    }
   ],
   "source": [
    "df.shape"
   ]
  },
  {
   "cell_type": "code",
   "execution_count": 46,
   "metadata": {},
   "outputs": [],
   "source": [
    "df.drop_duplicates(subset = \"Link\",inplace=True)"
   ]
  },
  {
   "cell_type": "code",
   "execution_count": 47,
   "metadata": {},
   "outputs": [
    {
     "data": {
      "text/plain": [
       "(395, 4)"
      ]
     },
     "execution_count": 47,
     "metadata": {},
     "output_type": "execute_result"
    }
   ],
   "source": [
    "df.shape"
   ]
  },
  {
   "cell_type": "markdown",
   "metadata": {},
   "source": [
    "# Cleaning Price Column"
   ]
  },
  {
   "cell_type": "code",
   "execution_count": 48,
   "metadata": {},
   "outputs": [],
   "source": [
    "df['Price']=df['Price'].str.replace(pat='Web Price:',repl='')"
   ]
  },
  {
   "cell_type": "code",
   "execution_count": 49,
   "metadata": {},
   "outputs": [
    {
     "data": {
      "text/html": [
       "<div>\n",
       "<style scoped>\n",
       "    .dataframe tbody tr th:only-of-type {\n",
       "        vertical-align: middle;\n",
       "    }\n",
       "\n",
       "    .dataframe tbody tr th {\n",
       "        vertical-align: top;\n",
       "    }\n",
       "\n",
       "    .dataframe thead th {\n",
       "        text-align: right;\n",
       "    }\n",
       "</style>\n",
       "<table border=\"1\" class=\"dataframe\">\n",
       "  <thead>\n",
       "    <tr style=\"text-align: right;\">\n",
       "      <th></th>\n",
       "      <th>Title</th>\n",
       "      <th>Price</th>\n",
       "      <th>Link</th>\n",
       "      <th>Image Path</th>\n",
       "    </tr>\n",
       "  </thead>\n",
       "  <tbody>\n",
       "    <tr>\n",
       "      <th>0</th>\n",
       "      <td>IdoraChrome Posi-Temp® Tub/Shower</td>\n",
       "      <td>$198.99</td>\n",
       "      <td>https://www.moen.com/products/Idora/Idora-Chrome-Posi-Temp-reg-Tub-Shower/82115</td>\n",
       "      <td>images/82115.tif.jpg</td>\n",
       "    </tr>\n",
       "    <tr>\n",
       "      <th>1</th>\n",
       "      <td>EssieTub Shower Chrome</td>\n",
       "      <td>$139.00</td>\n",
       "      <td>https://www.moen.com/products/Essie/Essie%E2%84%A2-Tub-Shower-Chrome/82330</td>\n",
       "      <td>images/82330.tif.jpg</td>\n",
       "    </tr>\n",
       "    <tr>\n",
       "      <th>2</th>\n",
       "      <td>MEENAChrome Posi-Temp® tub/shower</td>\n",
       "      <td>$149.00</td>\n",
       "      <td>https://www.moen.com/products/MEENA/MEENA-Chrome-Posi-Temp-reg-tub-shower/82618</td>\n",
       "      <td>images/82618.tif.jpg</td>\n",
       "    </tr>\n",
       "    <tr>\n",
       "      <th>3</th>\n",
       "      <td>ConwayChrome Posi-Temp® Tub/Shower</td>\n",
       "      <td>$129.00</td>\n",
       "      <td>https://www.moen.com/products/Conway/Conway-Chrome-Posi-Temp-reg-Tub-Shower/82922</td>\n",
       "      <td>images/82922.tif.jpg</td>\n",
       "    </tr>\n",
       "    <tr>\n",
       "      <th>4</th>\n",
       "      <td>RonanMatte black Posi-Temp® tub/shower</td>\n",
       "      <td>$229.00</td>\n",
       "      <td>https://www.moen.com/products/Ronan/Ronan-Matte-black-Posi-Temp-reg-tub-shower/82021BL</td>\n",
       "      <td>images/82021BL.tif.jpg</td>\n",
       "    </tr>\n",
       "  </tbody>\n",
       "</table>\n",
       "</div>"
      ],
      "text/plain": [
       "                                    Title      Price  \\\n",
       "0       IdoraChrome Posi-Temp® Tub/Shower    $198.99   \n",
       "1                  EssieTub Shower Chrome    $139.00   \n",
       "2       MEENAChrome Posi-Temp® tub/shower    $149.00   \n",
       "3      ConwayChrome Posi-Temp® Tub/Shower    $129.00   \n",
       "4  RonanMatte black Posi-Temp® tub/shower    $229.00   \n",
       "\n",
       "                                                                                     Link  \\\n",
       "0         https://www.moen.com/products/Idora/Idora-Chrome-Posi-Temp-reg-Tub-Shower/82115   \n",
       "1              https://www.moen.com/products/Essie/Essie%E2%84%A2-Tub-Shower-Chrome/82330   \n",
       "2         https://www.moen.com/products/MEENA/MEENA-Chrome-Posi-Temp-reg-tub-shower/82618   \n",
       "3       https://www.moen.com/products/Conway/Conway-Chrome-Posi-Temp-reg-Tub-Shower/82922   \n",
       "4  https://www.moen.com/products/Ronan/Ronan-Matte-black-Posi-Temp-reg-tub-shower/82021BL   \n",
       "\n",
       "               Image Path  \n",
       "0    images/82115.tif.jpg  \n",
       "1    images/82330.tif.jpg  \n",
       "2    images/82618.tif.jpg  \n",
       "3    images/82922.tif.jpg  \n",
       "4  images/82021BL.tif.jpg  "
      ]
     },
     "execution_count": 49,
     "metadata": {},
     "output_type": "execute_result"
    }
   ],
   "source": [
    "df.head()"
   ]
  },
  {
   "cell_type": "code",
   "execution_count": 51,
   "metadata": {},
   "outputs": [],
   "source": [
    "df['Price']=df['Price'].str.replace(pat='$',repl='')"
   ]
  },
  {
   "cell_type": "code",
   "execution_count": 52,
   "metadata": {},
   "outputs": [
    {
     "data": {
      "text/html": [
       "<div>\n",
       "<style scoped>\n",
       "    .dataframe tbody tr th:only-of-type {\n",
       "        vertical-align: middle;\n",
       "    }\n",
       "\n",
       "    .dataframe tbody tr th {\n",
       "        vertical-align: top;\n",
       "    }\n",
       "\n",
       "    .dataframe thead th {\n",
       "        text-align: right;\n",
       "    }\n",
       "</style>\n",
       "<table border=\"1\" class=\"dataframe\">\n",
       "  <thead>\n",
       "    <tr style=\"text-align: right;\">\n",
       "      <th></th>\n",
       "      <th>Title</th>\n",
       "      <th>Price</th>\n",
       "      <th>Link</th>\n",
       "      <th>Image Path</th>\n",
       "    </tr>\n",
       "  </thead>\n",
       "  <tbody>\n",
       "    <tr>\n",
       "      <th>0</th>\n",
       "      <td>IdoraChrome Posi-Temp® Tub/Shower</td>\n",
       "      <td>198.99</td>\n",
       "      <td>https://www.moen.com/products/Idora/Idora-Chrome-Posi-Temp-reg-Tub-Shower/82115</td>\n",
       "      <td>images/82115.tif.jpg</td>\n",
       "    </tr>\n",
       "    <tr>\n",
       "      <th>1</th>\n",
       "      <td>EssieTub Shower Chrome</td>\n",
       "      <td>139.00</td>\n",
       "      <td>https://www.moen.com/products/Essie/Essie%E2%84%A2-Tub-Shower-Chrome/82330</td>\n",
       "      <td>images/82330.tif.jpg</td>\n",
       "    </tr>\n",
       "    <tr>\n",
       "      <th>2</th>\n",
       "      <td>MEENAChrome Posi-Temp® tub/shower</td>\n",
       "      <td>149.00</td>\n",
       "      <td>https://www.moen.com/products/MEENA/MEENA-Chrome-Posi-Temp-reg-tub-shower/82618</td>\n",
       "      <td>images/82618.tif.jpg</td>\n",
       "    </tr>\n",
       "    <tr>\n",
       "      <th>3</th>\n",
       "      <td>ConwayChrome Posi-Temp® Tub/Shower</td>\n",
       "      <td>129.00</td>\n",
       "      <td>https://www.moen.com/products/Conway/Conway-Chrome-Posi-Temp-reg-Tub-Shower/82922</td>\n",
       "      <td>images/82922.tif.jpg</td>\n",
       "    </tr>\n",
       "    <tr>\n",
       "      <th>4</th>\n",
       "      <td>RonanMatte black Posi-Temp® tub/shower</td>\n",
       "      <td>229.00</td>\n",
       "      <td>https://www.moen.com/products/Ronan/Ronan-Matte-black-Posi-Temp-reg-tub-shower/82021BL</td>\n",
       "      <td>images/82021BL.tif.jpg</td>\n",
       "    </tr>\n",
       "  </tbody>\n",
       "</table>\n",
       "</div>"
      ],
      "text/plain": [
       "                                    Title     Price  \\\n",
       "0       IdoraChrome Posi-Temp® Tub/Shower    198.99   \n",
       "1                  EssieTub Shower Chrome    139.00   \n",
       "2       MEENAChrome Posi-Temp® tub/shower    149.00   \n",
       "3      ConwayChrome Posi-Temp® Tub/Shower    129.00   \n",
       "4  RonanMatte black Posi-Temp® tub/shower    229.00   \n",
       "\n",
       "                                                                                     Link  \\\n",
       "0         https://www.moen.com/products/Idora/Idora-Chrome-Posi-Temp-reg-Tub-Shower/82115   \n",
       "1              https://www.moen.com/products/Essie/Essie%E2%84%A2-Tub-Shower-Chrome/82330   \n",
       "2         https://www.moen.com/products/MEENA/MEENA-Chrome-Posi-Temp-reg-tub-shower/82618   \n",
       "3       https://www.moen.com/products/Conway/Conway-Chrome-Posi-Temp-reg-Tub-Shower/82922   \n",
       "4  https://www.moen.com/products/Ronan/Ronan-Matte-black-Posi-Temp-reg-tub-shower/82021BL   \n",
       "\n",
       "               Image Path  \n",
       "0    images/82115.tif.jpg  \n",
       "1    images/82330.tif.jpg  \n",
       "2    images/82618.tif.jpg  \n",
       "3    images/82922.tif.jpg  \n",
       "4  images/82021BL.tif.jpg  "
      ]
     },
     "execution_count": 52,
     "metadata": {},
     "output_type": "execute_result"
    }
   ],
   "source": [
    "df.head()"
   ]
  },
  {
   "cell_type": "code",
   "execution_count": 54,
   "metadata": {},
   "outputs": [],
   "source": [
    "df['Price']=df['Price'].str.replace(pat=',',repl='')"
   ]
  },
  {
   "cell_type": "code",
   "execution_count": 56,
   "metadata": {},
   "outputs": [],
   "source": [
    "df['Price']=df['Price'].str.replace(pat='List:',repl='')"
   ]
  },
  {
   "cell_type": "code",
   "execution_count": 57,
   "metadata": {},
   "outputs": [],
   "source": [
    "df['Price']=df['Price'].str.replace(pat='$',repl='')"
   ]
  },
  {
   "cell_type": "code",
   "execution_count": 58,
   "metadata": {},
   "outputs": [
    {
     "data": {
      "text/html": [
       "<div>\n",
       "<style scoped>\n",
       "    .dataframe tbody tr th:only-of-type {\n",
       "        vertical-align: middle;\n",
       "    }\n",
       "\n",
       "    .dataframe tbody tr th {\n",
       "        vertical-align: top;\n",
       "    }\n",
       "\n",
       "    .dataframe thead th {\n",
       "        text-align: right;\n",
       "    }\n",
       "</style>\n",
       "<table border=\"1\" class=\"dataframe\">\n",
       "  <thead>\n",
       "    <tr style=\"text-align: right;\">\n",
       "      <th></th>\n",
       "      <th>Title</th>\n",
       "      <th>Price</th>\n",
       "      <th>Link</th>\n",
       "      <th>Image Path</th>\n",
       "    </tr>\n",
       "  </thead>\n",
       "  <tbody>\n",
       "    <tr>\n",
       "      <th>0</th>\n",
       "      <td>IdoraChrome Posi-Temp® Tub/Shower</td>\n",
       "      <td>198.99</td>\n",
       "      <td>https://www.moen.com/products/Idora/Idora-Chrome-Posi-Temp-reg-Tub-Shower/82115</td>\n",
       "      <td>images/82115.tif.jpg</td>\n",
       "    </tr>\n",
       "    <tr>\n",
       "      <th>1</th>\n",
       "      <td>EssieTub Shower Chrome</td>\n",
       "      <td>139.00</td>\n",
       "      <td>https://www.moen.com/products/Essie/Essie%E2%84%A2-Tub-Shower-Chrome/82330</td>\n",
       "      <td>images/82330.tif.jpg</td>\n",
       "    </tr>\n",
       "    <tr>\n",
       "      <th>2</th>\n",
       "      <td>MEENAChrome Posi-Temp® tub/shower</td>\n",
       "      <td>149.00</td>\n",
       "      <td>https://www.moen.com/products/MEENA/MEENA-Chrome-Posi-Temp-reg-tub-shower/82618</td>\n",
       "      <td>images/82618.tif.jpg</td>\n",
       "    </tr>\n",
       "    <tr>\n",
       "      <th>3</th>\n",
       "      <td>ConwayChrome Posi-Temp® Tub/Shower</td>\n",
       "      <td>129.00</td>\n",
       "      <td>https://www.moen.com/products/Conway/Conway-Chrome-Posi-Temp-reg-Tub-Shower/82922</td>\n",
       "      <td>images/82922.tif.jpg</td>\n",
       "    </tr>\n",
       "    <tr>\n",
       "      <th>4</th>\n",
       "      <td>RonanMatte black Posi-Temp® tub/shower</td>\n",
       "      <td>229.00</td>\n",
       "      <td>https://www.moen.com/products/Ronan/Ronan-Matte-black-Posi-Temp-reg-tub-shower/82021BL</td>\n",
       "      <td>images/82021BL.tif.jpg</td>\n",
       "    </tr>\n",
       "  </tbody>\n",
       "</table>\n",
       "</div>"
      ],
      "text/plain": [
       "                                    Title     Price  \\\n",
       "0       IdoraChrome Posi-Temp® Tub/Shower    198.99   \n",
       "1                  EssieTub Shower Chrome    139.00   \n",
       "2       MEENAChrome Posi-Temp® tub/shower    149.00   \n",
       "3      ConwayChrome Posi-Temp® Tub/Shower    129.00   \n",
       "4  RonanMatte black Posi-Temp® tub/shower    229.00   \n",
       "\n",
       "                                                                                     Link  \\\n",
       "0         https://www.moen.com/products/Idora/Idora-Chrome-Posi-Temp-reg-Tub-Shower/82115   \n",
       "1              https://www.moen.com/products/Essie/Essie%E2%84%A2-Tub-Shower-Chrome/82330   \n",
       "2         https://www.moen.com/products/MEENA/MEENA-Chrome-Posi-Temp-reg-tub-shower/82618   \n",
       "3       https://www.moen.com/products/Conway/Conway-Chrome-Posi-Temp-reg-Tub-Shower/82922   \n",
       "4  https://www.moen.com/products/Ronan/Ronan-Matte-black-Posi-Temp-reg-tub-shower/82021BL   \n",
       "\n",
       "               Image Path  \n",
       "0    images/82115.tif.jpg  \n",
       "1    images/82330.tif.jpg  \n",
       "2    images/82618.tif.jpg  \n",
       "3    images/82922.tif.jpg  \n",
       "4  images/82021BL.tif.jpg  "
      ]
     },
     "execution_count": 58,
     "metadata": {},
     "output_type": "execute_result"
    }
   ],
   "source": [
    "df.head()"
   ]
  },
  {
   "cell_type": "markdown",
   "metadata": {},
   "source": [
    "# Convertin Price to Float"
   ]
  },
  {
   "cell_type": "code",
   "execution_count": 59,
   "metadata": {},
   "outputs": [],
   "source": [
    "df['Price']=df['Price'].astype('float')"
   ]
  },
  {
   "cell_type": "code",
   "execution_count": null,
   "metadata": {},
   "outputs": [],
   "source": []
  },
  {
   "cell_type": "code",
   "execution_count": null,
   "metadata": {},
   "outputs": [],
   "source": []
  },
  {
   "cell_type": "code",
   "execution_count": null,
   "metadata": {},
   "outputs": [],
   "source": [
    "df.head()"
   ]
  },
  {
   "cell_type": "code",
   "execution_count": null,
   "metadata": {},
   "outputs": [],
   "source": [
    "scaler = StandardScaler()"
   ]
  },
  {
   "cell_type": "code",
   "execution_count": null,
   "metadata": {},
   "outputs": [],
   "source": [
    "df['Price'] = scaler.fit_transform(df[['Price']])"
   ]
  },
  {
   "cell_type": "code",
   "execution_count": null,
   "metadata": {},
   "outputs": [],
   "source": [
    "df['Colors'] = pd.factorize(df['Colors'])[0]"
   ]
  },
  {
   "cell_type": "code",
   "execution_count": null,
   "metadata": {},
   "outputs": [],
   "source": []
  },
  {
   "cell_type": "code",
   "execution_count": null,
   "metadata": {},
   "outputs": [],
   "source": [
    "# Creating feature vectors\n",
    "features = df[['Colors', 'Price']].values\n",
    "\n",
    "# Compute cosine similarity matrix\n",
    "similarity_matrix = cosine_similarity(features, features)"
   ]
  },
  {
   "cell_type": "code",
   "execution_count": null,
   "metadata": {},
   "outputs": [],
   "source": [
    "def recommend_items(item_name, similarity_matrix, df, top_n=10):\n",
    "    if item_name not in df['Title'].values:\n",
    "        return f\"Item '{item_name}' not found in the dataset.\"\n",
    "\n",
    "    item_index = df.index[df['Title'] == item_name].tolist()[0]\n",
    "\n",
    "    similarity_scores = list(enumerate(similarity_matrix[item_index]))\n",
    "\n",
    "    similarity_scores = sorted(similarity_scores, key=lambda x: x[1], reverse=True)\n",
    "\n",
    "    top_similar_items = similarity_scores[1:top_n+1]\n",
    "\n",
    "    recommended_items = [df.iloc[item[0]]['Title'] for item in top_similar_items]\n",
    "\n",
    "    return recommended_items\n",
    "\n",
    "# Example usage\n",
    "item_name = 'YouCopia ReStickable 3D Fridge Labels Pack of 10'\n",
    "recommendations = recommend_items(item_name, similarity_matrix, df)\n",
    "print(f\"Because you viewed {item_name}, you may also like: {', '.join(recommendations)}\")\n"
   ]
  },
  {
   "cell_type": "code",
   "execution_count": null,
   "metadata": {},
   "outputs": [],
   "source": [
    "recommendations"
   ]
  },
  {
   "cell_type": "code",
   "execution_count": null,
   "metadata": {},
   "outputs": [],
   "source": [
    "df[df['Title']==item_name]"
   ]
  },
  {
   "cell_type": "code",
   "execution_count": null,
   "metadata": {},
   "outputs": [],
   "source": [
    "df[df['Title']==item_name]['Link']"
   ]
  },
  {
   "cell_type": "code",
   "execution_count": null,
   "metadata": {},
   "outputs": [],
   "source": [
    "[df[df['Title']==rec]['Link'] for rec in recommendations]"
   ]
  },
  {
   "cell_type": "code",
   "execution_count": null,
   "metadata": {},
   "outputs": [],
   "source": []
  },
  {
   "cell_type": "code",
   "execution_count": null,
   "metadata": {},
   "outputs": [],
   "source": []
  },
  {
   "cell_type": "code",
   "execution_count": null,
   "metadata": {},
   "outputs": [],
   "source": []
  },
  {
   "cell_type": "code",
   "execution_count": null,
   "metadata": {},
   "outputs": [],
   "source": []
  },
  {
   "cell_type": "code",
   "execution_count": null,
   "metadata": {},
   "outputs": [],
   "source": []
  },
  {
   "cell_type": "code",
   "execution_count": null,
   "metadata": {},
   "outputs": [],
   "source": [
    "import pandas as pd\n",
    "from sklearn.metrics.pairwise import cosine_similarity\n",
    "from sklearn.preprocessing import StandardScaler\n",
    "\n",
    "# Example dataset (replace with your actual dataset loading)\n",
    "data = {\n",
    "    'furniture_name': ['Sofa', 'Table', 'Chair', 'Cushion', 'Bed', 'Desk'],\n",
    "    'color': ['Red', 'Brown', 'White', 'Blue', 'Black', 'Brown'],\n",
    "    'price': [500, 300, 150, 50, 800, 400]\n",
    "}\n",
    "\n",
    "df = pd.DataFrame(data)\n",
    "\n",
    "# Encoding categorical variables (color)\n",
    "df['color_encoded'] = pd.factorize(df['color'])[0]\n",
    "\n",
    "# Scaling numerical features (price)\n",
    "scaler = StandardScaler()\n",
    "df['price_scaled'] = scaler.fit_transform(df[['price']])\n",
    "\n",
    "# Creating feature vectors\n",
    "features = df[['color_encoded', 'price_scaled']].values\n",
    "\n",
    "# Compute cosine similarity matrix\n",
    "similarity_matrix = cosine_similarity(features, features)\n",
    "\n",
    "# Function to recommend items\n",
    "def recommend_items(item_name, similarity_matrix, df, top_n=3):\n",
    "    item_index = df.index[df['furniture_name'] == item_name][0]\n",
    "    similarity_scores = list(enumerate(similarity_matrix[item_index]))\n",
    "    similarity_scores = sorted(similarity_scores, key=lambda x: x[1], reverse=True)\n",
    "    top_similar_items = similarity_scores[1:top_n+1]  # Exclude itself, get top N similar items\n",
    "    recommended_items = [df.iloc[item[0]]['furniture_name'] for item in top_similar_items]\n",
    "    return recommended_items\n",
    "\n",
    "# Example usage\n",
    "item_name = 'Sofa'\n",
    "recommendations = recommend_items(item_name, similarity_matrix, df)\n",
    "print(f\"Because you viewed {item_name}, you may also like: {', '.join(recommendations)}\")\n"
   ]
  },
  {
   "cell_type": "code",
   "execution_count": null,
   "metadata": {},
   "outputs": [],
   "source": []
  }
 ],
 "metadata": {
  "kernelspec": {
   "display_name": ".venv",
   "language": "python",
   "name": "python3"
  },
  "language_info": {
   "codemirror_mode": {
    "name": "ipython",
    "version": 3
   },
   "file_extension": ".py",
   "mimetype": "text/x-python",
   "name": "python",
   "nbconvert_exporter": "python",
   "pygments_lexer": "ipython3",
   "version": "3.9.13"
  }
 },
 "nbformat": 4,
 "nbformat_minor": 2
}
